{
 "cells": [
  {
   "cell_type": "markdown",
   "metadata": {},
   "source": [
    "ESQUELETO:\n",
    "\n",
    "Este es el archivo para subir el modelo a la nube.\n",
    "\n",
    "\n",
    "CÓMO FUNCIONA:\n",
    "\n",
    "1. Tomar un modelo ya realizado.\n",
    "\n",
    "2. Lo sube a la nube.\n",
    "\n",
    "ASEGÚRENSE DE QUE SE COORDINAN LO NECESARIO PARA QUE LOS NOMBRES COINCIDAN (no es de chill cambiar el estándar xd)."
   ]
  },
  {
   "cell_type": "code",
   "execution_count": 4,
   "metadata": {},
   "outputs": [],
   "source": [
    "\n",
    "import json\n",
    "\n",
    "#GETTING MY ID:\n",
    "id = open('../id_CONFIDENTIAL.json', 'r')\n",
    "mi = json.load(id)\n",
    "my_id = mi[\"my_id\"]\n",
    "#my_id"
   ]
  },
  {
   "cell_type": "code",
   "execution_count": 5,
   "metadata": {},
   "outputs": [
    {
     "name": "stdout",
     "output_type": "stream",
     "text": [
      "Requirement already satisfied: pip==24.0 in c:\\users\\avril\\appdata\\local\\packages\\pythonsoftwarefoundation.python.3.11_qbz5n2kfra8p0\\localcache\\local-packages\\python311\\site-packages (24.0)\n"
     ]
    },
    {
     "name": "stderr",
     "output_type": "stream",
     "text": [
      "\n",
      "[notice] A new release of pip is available: 24.0 -> 25.0.1\n",
      "[notice] To update, run: C:\\Users\\avril\\AppData\\Local\\Microsoft\\WindowsApps\\PythonSoftwareFoundation.Python.3.11_qbz5n2kfra8p0\\python.exe -m pip install --upgrade pip\n"
     ]
    }
   ],
   "source": [
    "!python3 -m pip install pip==24.0\n"
   ]
  },
  {
   "cell_type": "code",
   "execution_count": 6,
   "metadata": {},
   "outputs": [
    {
     "name": "stdout",
     "output_type": "stream",
     "text": [
      "Requirement already satisfied: azureml-sdk in c:\\users\\avril\\octavo_semestre\\repositorio_actividades_bloque_final\\actividades_cc\\act_semana_2\\.venv\\lib\\site-packages (1.59.0)\n",
      "Requirement already satisfied: azureml-core~=1.59.0 in c:\\users\\avril\\octavo_semestre\\repositorio_actividades_bloque_final\\actividades_cc\\act_semana_2\\.venv\\lib\\site-packages (from azureml-sdk) (1.59.0.post2)\n",
      "Requirement already satisfied: azureml-dataset-runtime~=1.59.0 in c:\\users\\avril\\octavo_semestre\\repositorio_actividades_bloque_final\\actividades_cc\\act_semana_2\\.venv\\lib\\site-packages (from azureml-dataset-runtime[fuse]~=1.59.0->azureml-sdk) (1.59.0)\n",
      "Requirement already satisfied: azureml-train-core~=1.59.0 in c:\\users\\avril\\octavo_semestre\\repositorio_actividades_bloque_final\\actividades_cc\\act_semana_2\\.venv\\lib\\site-packages (from azureml-sdk) (1.59.0)\n",
      "Requirement already satisfied: azureml-train-automl-client~=1.59.0 in c:\\users\\avril\\octavo_semestre\\repositorio_actividades_bloque_final\\actividades_cc\\act_semana_2\\.venv\\lib\\site-packages (from azureml-sdk) (1.59.0)\n",
      "Requirement already satisfied: azureml-pipeline~=1.59.0 in c:\\users\\avril\\octavo_semestre\\repositorio_actividades_bloque_final\\actividades_cc\\act_semana_2\\.venv\\lib\\site-packages (from azureml-sdk) (1.59.0)\n",
      "Requirement already satisfied: pytz in c:\\users\\avril\\octavo_semestre\\repositorio_actividades_bloque_final\\actividades_cc\\act_semana_2\\.venv\\lib\\site-packages (from azureml-core~=1.59.0->azureml-sdk) (2025.2)\n",
      "Requirement already satisfied: backports.tempfile in c:\\users\\avril\\octavo_semestre\\repositorio_actividades_bloque_final\\actividades_cc\\act_semana_2\\.venv\\lib\\site-packages (from azureml-core~=1.59.0->azureml-sdk) (1.0)\n",
      "Requirement already satisfied: pathspec<1.0.0 in c:\\users\\avril\\octavo_semestre\\repositorio_actividades_bloque_final\\actividades_cc\\act_semana_2\\.venv\\lib\\site-packages (from azureml-core~=1.59.0->azureml-sdk) (0.12.1)\n",
      "Requirement already satisfied: requests<3.0.0,>=2.19.1 in c:\\users\\avril\\octavo_semestre\\repositorio_actividades_bloque_final\\actividades_cc\\act_semana_2\\.venv\\lib\\site-packages (from requests[socks]<3.0.0,>=2.19.1->azureml-core~=1.59.0->azureml-sdk) (2.32.3)\n",
      "Requirement already satisfied: msal<2.0.0,>=1.15.0 in c:\\users\\avril\\octavo_semestre\\repositorio_actividades_bloque_final\\actividades_cc\\act_semana_2\\.venv\\lib\\site-packages (from azureml-core~=1.59.0->azureml-sdk) (1.32.0)\n",
      "Requirement already satisfied: msal-extensions<=2.0.0,>=0.3.0 in c:\\users\\avril\\octavo_semestre\\repositorio_actividades_bloque_final\\actividades_cc\\act_semana_2\\.venv\\lib\\site-packages (from azureml-core~=1.59.0->azureml-sdk) (1.3.1)\n",
      "Requirement already satisfied: knack<0.13.0 in c:\\users\\avril\\octavo_semestre\\repositorio_actividades_bloque_final\\actividades_cc\\act_semana_2\\.venv\\lib\\site-packages (from azureml-core~=1.59.0->azureml-sdk) (0.12.0)\n",
      "Requirement already satisfied: azure-core<2.0.0 in c:\\users\\avril\\octavo_semestre\\repositorio_actividades_bloque_final\\actividades_cc\\act_semana_2\\.venv\\lib\\site-packages (from azureml-core~=1.59.0->azureml-sdk) (1.32.0)\n",
      "Requirement already satisfied: pkginfo in c:\\users\\avril\\octavo_semestre\\repositorio_actividades_bloque_final\\actividades_cc\\act_semana_2\\.venv\\lib\\site-packages (from azureml-core~=1.59.0->azureml-sdk) (1.12.1.2)\n",
      "Requirement already satisfied: argcomplete<4 in c:\\users\\avril\\octavo_semestre\\repositorio_actividades_bloque_final\\actividades_cc\\act_semana_2\\.venv\\lib\\site-packages (from azureml-core~=1.59.0->azureml-sdk) (3.6.1)\n",
      "Requirement already satisfied: humanfriendly<11.0,>=4.7 in c:\\users\\avril\\octavo_semestre\\repositorio_actividades_bloque_final\\actividades_cc\\act_semana_2\\.venv\\lib\\site-packages (from azureml-core~=1.59.0->azureml-sdk) (10.0)\n",
      "Requirement already satisfied: paramiko<4.0.0,>=2.0.8 in c:\\users\\avril\\octavo_semestre\\repositorio_actividades_bloque_final\\actividades_cc\\act_semana_2\\.venv\\lib\\site-packages (from azureml-core~=1.59.0->azureml-sdk) (3.5.1)\n",
      "Requirement already satisfied: azure-mgmt-resource<=24.0.0,>=15.0.0 in c:\\users\\avril\\octavo_semestre\\repositorio_actividades_bloque_final\\actividades_cc\\act_semana_2\\.venv\\lib\\site-packages (from azureml-core~=1.59.0->azureml-sdk) (23.3.0)\n",
      "Requirement already satisfied: azure-mgmt-containerregistry<11,>=8.2.0 in c:\\users\\avril\\octavo_semestre\\repositorio_actividades_bloque_final\\actividades_cc\\act_semana_2\\.venv\\lib\\site-packages (from azureml-core~=1.59.0->azureml-sdk) (10.3.0)\n",
      "Requirement already satisfied: azure-mgmt-storage<=22.0.0,>=16.0.0 in c:\\users\\avril\\octavo_semestre\\repositorio_actividades_bloque_final\\actividades_cc\\act_semana_2\\.venv\\lib\\site-packages (from azureml-core~=1.59.0->azureml-sdk) (22.0.0)\n",
      "Requirement already satisfied: azure-mgmt-keyvault<11.0.0,>=0.40.0 in c:\\users\\avril\\octavo_semestre\\repositorio_actividades_bloque_final\\actividades_cc\\act_semana_2\\.venv\\lib\\site-packages (from azureml-core~=1.59.0->azureml-sdk) (10.3.1)\n",
      "Requirement already satisfied: azure-mgmt-authorization<5,>=0.40.0 in c:\\users\\avril\\octavo_semestre\\repositorio_actividades_bloque_final\\actividades_cc\\act_semana_2\\.venv\\lib\\site-packages (from azureml-core~=1.59.0->azureml-sdk) (4.0.0)\n",
      "Requirement already satisfied: azure-mgmt-network<=29.0.0 in c:\\users\\avril\\octavo_semestre\\repositorio_actividades_bloque_final\\actividades_cc\\act_semana_2\\.venv\\lib\\site-packages (from azureml-core~=1.59.0->azureml-sdk) (28.1.0)\n",
      "Requirement already satisfied: azure-graphrbac<1.0.0,>=0.40.0 in c:\\users\\avril\\octavo_semestre\\repositorio_actividades_bloque_final\\actividades_cc\\act_semana_2\\.venv\\lib\\site-packages (from azureml-core~=1.59.0->azureml-sdk) (0.61.2)\n",
      "Requirement already satisfied: azure-common<2.0.0,>=1.1.12 in c:\\users\\avril\\octavo_semestre\\repositorio_actividades_bloque_final\\actividades_cc\\act_semana_2\\.venv\\lib\\site-packages (from azureml-core~=1.59.0->azureml-sdk) (1.1.28)\n",
      "Requirement already satisfied: msrest<=0.7.1,>=0.5.1 in c:\\users\\avril\\octavo_semestre\\repositorio_actividades_bloque_final\\actividades_cc\\act_semana_2\\.venv\\lib\\site-packages (from azureml-core~=1.59.0->azureml-sdk) (0.7.1)\n",
      "Requirement already satisfied: msrestazure<=0.7,>=0.4.33 in c:\\users\\avril\\octavo_semestre\\repositorio_actividades_bloque_final\\actividades_cc\\act_semana_2\\.venv\\lib\\site-packages (from azureml-core~=1.59.0->azureml-sdk) (0.6.4.post1)\n",
      "Requirement already satisfied: urllib3<3.0.0,>1.26.17 in c:\\users\\avril\\octavo_semestre\\repositorio_actividades_bloque_final\\actividades_cc\\act_semana_2\\.venv\\lib\\site-packages (from azureml-core~=1.59.0->azureml-sdk) (2.3.0)\n",
      "Requirement already satisfied: packaging<=25.0,>=20.0 in c:\\users\\avril\\octavo_semestre\\repositorio_actividades_bloque_final\\actividades_cc\\act_semana_2\\.venv\\lib\\site-packages (from azureml-core~=1.59.0->azureml-sdk) (24.2)\n",
      "Requirement already satisfied: python-dateutil<3.0.0,>=2.7.3 in c:\\users\\avril\\octavo_semestre\\repositorio_actividades_bloque_final\\actividades_cc\\act_semana_2\\.venv\\lib\\site-packages (from azureml-core~=1.59.0->azureml-sdk) (2.9.0.post0)\n",
      "Requirement already satisfied: ndg-httpsclient<=0.5.1 in c:\\users\\avril\\octavo_semestre\\repositorio_actividades_bloque_final\\actividades_cc\\act_semana_2\\.venv\\lib\\site-packages (from azureml-core~=1.59.0->azureml-sdk) (0.5.1)\n",
      "Requirement already satisfied: SecretStorage<4.0.0 in c:\\users\\avril\\octavo_semestre\\repositorio_actividades_bloque_final\\actividades_cc\\act_semana_2\\.venv\\lib\\site-packages (from azureml-core~=1.59.0->azureml-sdk) (3.3.3)\n",
      "Requirement already satisfied: jsonpickle<5.0.0 in c:\\users\\avril\\octavo_semestre\\repositorio_actividades_bloque_final\\actividades_cc\\act_semana_2\\.venv\\lib\\site-packages (from azureml-core~=1.59.0->azureml-sdk) (4.0.5)\n",
      "Requirement already satisfied: contextlib2<22.0.0 in c:\\users\\avril\\octavo_semestre\\repositorio_actividades_bloque_final\\actividades_cc\\act_semana_2\\.venv\\lib\\site-packages (from azureml-core~=1.59.0->azureml-sdk) (21.6.0)\n",
      "Requirement already satisfied: docker<8.0.0 in c:\\users\\avril\\octavo_semestre\\repositorio_actividades_bloque_final\\actividades_cc\\act_semana_2\\.venv\\lib\\site-packages (from azureml-core~=1.59.0->azureml-sdk) (7.1.0)\n",
      "Requirement already satisfied: PyJWT<3.0.0 in c:\\users\\avril\\octavo_semestre\\repositorio_actividades_bloque_final\\actividades_cc\\act_semana_2\\.venv\\lib\\site-packages (from azureml-core~=1.59.0->azureml-sdk) (2.10.1)\n",
      "Requirement already satisfied: adal<=1.2.7,>=1.2.0 in c:\\users\\avril\\octavo_semestre\\repositorio_actividades_bloque_final\\actividades_cc\\act_semana_2\\.venv\\lib\\site-packages (from azureml-core~=1.59.0->azureml-sdk) (1.2.7)\n",
      "Requirement already satisfied: pyopenssl<25.0.0 in c:\\users\\avril\\octavo_semestre\\repositorio_actividades_bloque_final\\actividades_cc\\act_semana_2\\.venv\\lib\\site-packages (from azureml-core~=1.59.0->azureml-sdk) (24.3.0)\n",
      "Requirement already satisfied: jmespath<2.0.0 in c:\\users\\avril\\octavo_semestre\\repositorio_actividades_bloque_final\\actividades_cc\\act_semana_2\\.venv\\lib\\site-packages (from azureml-core~=1.59.0->azureml-sdk) (1.0.1)\n",
      "Requirement already satisfied: azureml-dataprep<5.2.0a,>=5.1.0a in c:\\users\\avril\\octavo_semestre\\repositorio_actividades_bloque_final\\actividades_cc\\act_semana_2\\.venv\\lib\\site-packages (from azureml-dataset-runtime~=1.59.0->azureml-dataset-runtime[fuse]~=1.59.0->azureml-sdk) (5.1.6)\n",
      "Requirement already satisfied: pyarrow>=0.17.0 in c:\\users\\avril\\octavo_semestre\\repositorio_actividades_bloque_final\\actividades_cc\\act_semana_2\\.venv\\lib\\site-packages (from azureml-dataset-runtime~=1.59.0->azureml-dataset-runtime[fuse]~=1.59.0->azureml-sdk) (19.0.1)\n",
      "Requirement already satisfied: numpy!=1.19.4,<1.24 in c:\\users\\avril\\octavo_semestre\\repositorio_actividades_bloque_final\\actividades_cc\\act_semana_2\\.venv\\lib\\site-packages (from azureml-dataset-runtime~=1.59.0->azureml-dataset-runtime[fuse]~=1.59.0->azureml-sdk) (1.23.5)\n",
      "Requirement already satisfied: fusepy<4.0.0,>=3.0.1 in c:\\users\\avril\\octavo_semestre\\repositorio_actividades_bloque_final\\actividades_cc\\act_semana_2\\.venv\\lib\\site-packages (from azureml-dataset-runtime[fuse]~=1.59.0->azureml-sdk) (3.0.1)\n",
      "Requirement already satisfied: azureml-pipeline-core~=1.59.0 in c:\\users\\avril\\octavo_semestre\\repositorio_actividades_bloque_final\\actividades_cc\\act_semana_2\\.venv\\lib\\site-packages (from azureml-pipeline~=1.59.0->azureml-sdk) (1.59.0)\n",
      "Requirement already satisfied: azureml-pipeline-steps~=1.59.0 in c:\\users\\avril\\octavo_semestre\\repositorio_actividades_bloque_final\\actividades_cc\\act_semana_2\\.venv\\lib\\site-packages (from azureml-pipeline~=1.59.0->azureml-sdk) (1.59.0)\n",
      "Requirement already satisfied: azureml-automl-core~=1.59.0 in c:\\users\\avril\\octavo_semestre\\repositorio_actividades_bloque_final\\actividades_cc\\act_semana_2\\.venv\\lib\\site-packages (from azureml-train-automl-client~=1.59.0->azureml-sdk) (1.59.0)\n",
      "Requirement already satisfied: azureml-telemetry~=1.59.0 in c:\\users\\avril\\octavo_semestre\\repositorio_actividades_bloque_final\\actividades_cc\\act_semana_2\\.venv\\lib\\site-packages (from azureml-train-automl-client~=1.59.0->azureml-sdk) (1.59.0)\n",
      "Requirement already satisfied: azureml-train-restclients-hyperdrive~=1.59.0 in c:\\users\\avril\\octavo_semestre\\repositorio_actividades_bloque_final\\actividades_cc\\act_semana_2\\.venv\\lib\\site-packages (from azureml-train-core~=1.59.0->azureml-sdk) (1.59.0)\n",
      "Requirement already satisfied: cryptography>=1.1.0 in c:\\users\\avril\\octavo_semestre\\repositorio_actividades_bloque_final\\actividades_cc\\act_semana_2\\.venv\\lib\\site-packages (from adal<=1.2.7,>=1.2.0->azureml-core~=1.59.0->azureml-sdk) (44.0.2)\n",
      "Requirement already satisfied: six>=1.11.0 in c:\\users\\avril\\octavo_semestre\\repositorio_actividades_bloque_final\\actividades_cc\\act_semana_2\\.venv\\lib\\site-packages (from azure-core<2.0.0->azureml-core~=1.59.0->azureml-sdk) (1.17.0)\n",
      "Requirement already satisfied: typing-extensions>=4.6.0 in c:\\users\\avril\\octavo_semestre\\repositorio_actividades_bloque_final\\actividades_cc\\act_semana_2\\.venv\\lib\\site-packages (from azure-core<2.0.0->azureml-core~=1.59.0->azureml-sdk) (4.13.0)\n",
      "Requirement already satisfied: isodate<1.0.0,>=0.6.1 in c:\\users\\avril\\octavo_semestre\\repositorio_actividades_bloque_final\\actividades_cc\\act_semana_2\\.venv\\lib\\site-packages (from azure-mgmt-authorization<5,>=0.40.0->azureml-core~=1.59.0->azureml-sdk) (0.7.2)\n",
      "Requirement already satisfied: azure-mgmt-core<2.0.0,>=1.3.2 in c:\\users\\avril\\octavo_semestre\\repositorio_actividades_bloque_final\\actividades_cc\\act_semana_2\\.venv\\lib\\site-packages (from azure-mgmt-authorization<5,>=0.40.0->azureml-core~=1.59.0->azureml-sdk) (1.5.0)\n",
      "Requirement already satisfied: importlib-metadata<=8.2.0 in c:\\users\\avril\\octavo_semestre\\repositorio_actividades_bloque_final\\actividades_cc\\act_semana_2\\.venv\\lib\\site-packages (from azureml-automl-core~=1.59.0->azureml-train-automl-client~=1.59.0->azureml-sdk) (8.2.0)\n",
      "Requirement already satisfied: importlib-resources<=6.4.0 in c:\\users\\avril\\octavo_semestre\\repositorio_actividades_bloque_final\\actividades_cc\\act_semana_2\\.venv\\lib\\site-packages (from azureml-automl-core~=1.59.0->azureml-train-automl-client~=1.59.0->azureml-sdk) (6.4.0)\n",
      "Requirement already satisfied: azureml-dataprep-native<42.0.0,>=41.0.0 in c:\\users\\avril\\octavo_semestre\\repositorio_actividades_bloque_final\\actividades_cc\\act_semana_2\\.venv\\lib\\site-packages (from azureml-dataprep<5.2.0a,>=5.1.0a->azureml-dataset-runtime~=1.59.0->azureml-dataset-runtime[fuse]~=1.59.0->azureml-sdk) (41.0.0)\n",
      "Requirement already satisfied: azureml-dataprep-rslex~=2.22.2dev0 in c:\\users\\avril\\octavo_semestre\\repositorio_actividades_bloque_final\\actividades_cc\\act_semana_2\\.venv\\lib\\site-packages (from azureml-dataprep<5.2.0a,>=5.1.0a->azureml-dataset-runtime~=1.59.0->azureml-dataset-runtime[fuse]~=1.59.0->azureml-sdk) (2.22.5)\n",
      "Requirement already satisfied: cloudpickle<3.0.0,>=1.1.0 in c:\\users\\avril\\octavo_semestre\\repositorio_actividades_bloque_final\\actividades_cc\\act_semana_2\\.venv\\lib\\site-packages (from azureml-dataprep<5.2.0a,>=5.1.0a->azureml-dataset-runtime~=1.59.0->azureml-dataset-runtime[fuse]~=1.59.0->azureml-sdk) (2.2.1)\n",
      "Requirement already satisfied: azure-identity>=1.7.0 in c:\\users\\avril\\octavo_semestre\\repositorio_actividades_bloque_final\\actividades_cc\\act_semana_2\\.venv\\lib\\site-packages (from azureml-dataprep<5.2.0a,>=5.1.0a->azureml-dataset-runtime~=1.59.0->azureml-dataset-runtime[fuse]~=1.59.0->azureml-sdk) (1.21.0)\n",
      "Requirement already satisfied: jsonschema in c:\\users\\avril\\octavo_semestre\\repositorio_actividades_bloque_final\\actividades_cc\\act_semana_2\\.venv\\lib\\site-packages (from azureml-dataprep<5.2.0a,>=5.1.0a->azureml-dataset-runtime~=1.59.0->azureml-dataset-runtime[fuse]~=1.59.0->azureml-sdk) (4.23.0)\n",
      "Requirement already satisfied: pyyaml<7.0.0,>=5.1.0 in c:\\users\\avril\\octavo_semestre\\repositorio_actividades_bloque_final\\actividades_cc\\act_semana_2\\.venv\\lib\\site-packages (from azureml-dataprep<5.2.0a,>=5.1.0a->azureml-dataset-runtime~=1.59.0->azureml-dataset-runtime[fuse]~=1.59.0->azureml-sdk) (6.0.2)\n",
      "Requirement already satisfied: applicationinsights in c:\\users\\avril\\octavo_semestre\\repositorio_actividades_bloque_final\\actividades_cc\\act_semana_2\\.venv\\lib\\site-packages (from azureml-telemetry~=1.59.0->azureml-train-automl-client~=1.59.0->azureml-sdk) (0.11.10)\n",
      "Requirement already satisfied: pywin32>=304 in c:\\users\\avril\\octavo_semestre\\repositorio_actividades_bloque_final\\actividades_cc\\act_semana_2\\.venv\\lib\\site-packages (from docker<8.0.0->azureml-core~=1.59.0->azureml-sdk) (310)\n",
      "Requirement already satisfied: pyreadline3 in c:\\users\\avril\\octavo_semestre\\repositorio_actividades_bloque_final\\actividades_cc\\act_semana_2\\.venv\\lib\\site-packages (from humanfriendly<11.0,>=4.7->azureml-core~=1.59.0->azureml-sdk) (3.5.4)\n",
      "Requirement already satisfied: pygments in c:\\users\\avril\\octavo_semestre\\repositorio_actividades_bloque_final\\actividades_cc\\act_semana_2\\.venv\\lib\\site-packages (from knack<0.13.0->azureml-core~=1.59.0->azureml-sdk) (2.19.1)\n",
      "Requirement already satisfied: tabulate in c:\\users\\avril\\octavo_semestre\\repositorio_actividades_bloque_final\\actividades_cc\\act_semana_2\\.venv\\lib\\site-packages (from knack<0.13.0->azureml-core~=1.59.0->azureml-sdk) (0.9.0)\n",
      "Requirement already satisfied: certifi>=2017.4.17 in c:\\users\\avril\\octavo_semestre\\repositorio_actividades_bloque_final\\actividades_cc\\act_semana_2\\.venv\\lib\\site-packages (from msrest<=0.7.1,>=0.5.1->azureml-core~=1.59.0->azureml-sdk) (2025.1.31)\n",
      "Requirement already satisfied: requests-oauthlib>=0.5.0 in c:\\users\\avril\\octavo_semestre\\repositorio_actividades_bloque_final\\actividades_cc\\act_semana_2\\.venv\\lib\\site-packages (from msrest<=0.7.1,>=0.5.1->azureml-core~=1.59.0->azureml-sdk) (2.0.0)\n",
      "Requirement already satisfied: pyasn1>=0.1.1 in c:\\users\\avril\\octavo_semestre\\repositorio_actividades_bloque_final\\actividades_cc\\act_semana_2\\.venv\\lib\\site-packages (from ndg-httpsclient<=0.5.1->azureml-core~=1.59.0->azureml-sdk) (0.6.1)\n",
      "Requirement already satisfied: bcrypt>=3.2 in c:\\users\\avril\\octavo_semestre\\repositorio_actividades_bloque_final\\actividades_cc\\act_semana_2\\.venv\\lib\\site-packages (from paramiko<4.0.0,>=2.0.8->azureml-core~=1.59.0->azureml-sdk) (4.3.0)\n",
      "Requirement already satisfied: pynacl>=1.5 in c:\\users\\avril\\octavo_semestre\\repositorio_actividades_bloque_final\\actividades_cc\\act_semana_2\\.venv\\lib\\site-packages (from paramiko<4.0.0,>=2.0.8->azureml-core~=1.59.0->azureml-sdk) (1.5.0)\n",
      "Requirement already satisfied: charset-normalizer<4,>=2 in c:\\users\\avril\\octavo_semestre\\repositorio_actividades_bloque_final\\actividades_cc\\act_semana_2\\.venv\\lib\\site-packages (from requests<3.0.0,>=2.19.1->requests[socks]<3.0.0,>=2.19.1->azureml-core~=1.59.0->azureml-sdk) (3.4.1)\n",
      "Requirement already satisfied: idna<4,>=2.5 in c:\\users\\avril\\octavo_semestre\\repositorio_actividades_bloque_final\\actividades_cc\\act_semana_2\\.venv\\lib\\site-packages (from requests<3.0.0,>=2.19.1->requests[socks]<3.0.0,>=2.19.1->azureml-core~=1.59.0->azureml-sdk) (3.10)\n",
      "Requirement already satisfied: PySocks!=1.5.7,>=1.5.6 in c:\\users\\avril\\octavo_semestre\\repositorio_actividades_bloque_final\\actividades_cc\\act_semana_2\\.venv\\lib\\site-packages (from requests[socks]<3.0.0,>=2.19.1->azureml-core~=1.59.0->azureml-sdk) (1.7.1)\n",
      "Requirement already satisfied: jeepney>=0.6 in c:\\users\\avril\\octavo_semestre\\repositorio_actividades_bloque_final\\actividades_cc\\act_semana_2\\.venv\\lib\\site-packages (from SecretStorage<4.0.0->azureml-core~=1.59.0->azureml-sdk) (0.9.0)\n",
      "Requirement already satisfied: backports.weakref in c:\\users\\avril\\octavo_semestre\\repositorio_actividades_bloque_final\\actividades_cc\\act_semana_2\\.venv\\lib\\site-packages (from backports.tempfile->azureml-core~=1.59.0->azureml-sdk) (1.0.post1)\n",
      "Requirement already satisfied: cffi>=1.12 in c:\\users\\avril\\octavo_semestre\\repositorio_actividades_bloque_final\\actividades_cc\\act_semana_2\\.venv\\lib\\site-packages (from cryptography>=1.1.0->adal<=1.2.7,>=1.2.0->azureml-core~=1.59.0->azureml-sdk) (1.17.1)\n",
      "Requirement already satisfied: zipp>=0.5 in c:\\users\\avril\\octavo_semestre\\repositorio_actividades_bloque_final\\actividades_cc\\act_semana_2\\.venv\\lib\\site-packages (from importlib-metadata<=8.2.0->azureml-automl-core~=1.59.0->azureml-train-automl-client~=1.59.0->azureml-sdk) (3.21.0)\n",
      "Requirement already satisfied: oauthlib>=3.0.0 in c:\\users\\avril\\octavo_semestre\\repositorio_actividades_bloque_final\\actividades_cc\\act_semana_2\\.venv\\lib\\site-packages (from requests-oauthlib>=0.5.0->msrest<=0.7.1,>=0.5.1->azureml-core~=1.59.0->azureml-sdk) (3.2.2)\n",
      "Requirement already satisfied: attrs>=22.2.0 in c:\\users\\avril\\octavo_semestre\\repositorio_actividades_bloque_final\\actividades_cc\\act_semana_2\\.venv\\lib\\site-packages (from jsonschema->azureml-dataprep<5.2.0a,>=5.1.0a->azureml-dataset-runtime~=1.59.0->azureml-dataset-runtime[fuse]~=1.59.0->azureml-sdk) (25.3.0)\n",
      "Requirement already satisfied: jsonschema-specifications>=2023.03.6 in c:\\users\\avril\\octavo_semestre\\repositorio_actividades_bloque_final\\actividades_cc\\act_semana_2\\.venv\\lib\\site-packages (from jsonschema->azureml-dataprep<5.2.0a,>=5.1.0a->azureml-dataset-runtime~=1.59.0->azureml-dataset-runtime[fuse]~=1.59.0->azureml-sdk) (2024.10.1)\n",
      "Requirement already satisfied: referencing>=0.28.4 in c:\\users\\avril\\octavo_semestre\\repositorio_actividades_bloque_final\\actividades_cc\\act_semana_2\\.venv\\lib\\site-packages (from jsonschema->azureml-dataprep<5.2.0a,>=5.1.0a->azureml-dataset-runtime~=1.59.0->azureml-dataset-runtime[fuse]~=1.59.0->azureml-sdk) (0.36.2)\n",
      "Requirement already satisfied: rpds-py>=0.7.1 in c:\\users\\avril\\octavo_semestre\\repositorio_actividades_bloque_final\\actividades_cc\\act_semana_2\\.venv\\lib\\site-packages (from jsonschema->azureml-dataprep<5.2.0a,>=5.1.0a->azureml-dataset-runtime~=1.59.0->azureml-dataset-runtime[fuse]~=1.59.0->azureml-sdk) (0.24.0)\n",
      "Requirement already satisfied: pycparser in c:\\users\\avril\\octavo_semestre\\repositorio_actividades_bloque_final\\actividades_cc\\act_semana_2\\.venv\\lib\\site-packages (from cffi>=1.12->cryptography>=1.1.0->adal<=1.2.7,>=1.2.0->azureml-core~=1.59.0->azureml-sdk) (2.22)\n"
     ]
    },
    {
     "name": "stderr",
     "output_type": "stream",
     "text": [
      "\n",
      "[notice] A new release of pip is available: 24.0 -> 25.0.1\n",
      "[notice] To update, run: python.exe -m pip install --upgrade pip\n"
     ]
    }
   ],
   "source": [
    "!pip install azureml-sdk"
   ]
  },
  {
   "cell_type": "code",
   "execution_count": 9,
   "metadata": {},
   "outputs": [
    {
     "ename": "NameError",
     "evalue": "name 'ws' is not defined",
     "output_type": "error",
     "traceback": [
      "\u001b[31m---------------------------------------------------------------------------\u001b[39m",
      "\u001b[31mNameError\u001b[39m                                 Traceback (most recent call last)",
      "\u001b[36mCell\u001b[39m\u001b[36m \u001b[39m\u001b[32mIn[9]\u001b[39m\u001b[32m, line 1\u001b[39m\n\u001b[32m----> \u001b[39m\u001b[32m1\u001b[39m \u001b[43mws\u001b[49m.delete()\n",
      "\u001b[31mNameError\u001b[39m: name 'ws' is not defined"
     ]
    }
   ],
   "source": [
    "ws.delete()"
   ]
  },
  {
   "cell_type": "code",
   "execution_count": 10,
   "metadata": {},
   "outputs": [
    {
     "name": "stderr",
     "output_type": "stream",
     "text": [
      "UserWarning: The resource group doesn't exist or was not provided. AzureML SDK is creating a resource group=resource_group3 in location=centralindia using subscription=dec6d8de-b135-4be6-82d6-c158d884409f.\n"
     ]
    },
    {
     "name": "stdout",
     "output_type": "stream",
     "text": [
      "Cleaning up past default Resource Group Deployments on the subscription to avoid limit of 10\n",
      "Deleting past Resource Group Deployment with name: DeployResourceGroup-6b8437c1d4\n",
      "Deploying KeyVault with name workspackeyvault912a0f25.\n",
      "Deploying StorageAccount with name workspacstoragecd5a8e947.\n",
      "Deploying AppInsights with name workspacinsights9e23755d.\n",
      "Deployed AppInsights with name workspacinsights9e23755d. Took 28.59 seconds.\n",
      "Deploying Workspace with name workspace_bank.\n",
      "Deployed Workspace with name workspace_bank. Took 43.64 seconds.\n"
     ]
    }
   ],
   "source": [
    "## STEP 1: Set up the workspace.\n",
    "\n",
    "\n",
    "from azureml.core import Workspace\n",
    "\n",
    "ws = Workspace.create(name=\"workspace_bank\",\n",
    "                      subscription_id = my_id,\n",
    "                      resource_group = \"resource_group3\",\n",
    "                      location = \"centralindia\")\n",
    "\n"
   ]
  },
  {
   "cell_type": "code",
   "execution_count": 11,
   "metadata": {},
   "outputs": [
    {
     "name": "stdout",
     "output_type": "stream",
     "text": [
      "Registering model model\n"
     ]
    }
   ],
   "source": [
    "from azureml.core.model import Model\n",
    "\n",
    "mname = \"model\"\n",
    "registered_model = Model.register(model_path=\"../best_model.pkl\",\n",
    "                                  model_name=mname,\n",
    "                                  workspace=ws)"
   ]
  },
  {
   "cell_type": "code",
   "execution_count": 12,
   "metadata": {},
   "outputs": [
    {
     "name": "stdout",
     "output_type": "stream",
     "text": [
      "Registering model model\n"
     ]
    }
   ],
   "source": [
    "from azureml.core.model import Model\n",
    "\n",
    "mname_scaler = \"model_scaler\"\n",
    "registered_scaler = Model.register(model_path=\"../scaler.pkl\",\n",
    "                                  model_name=mname,\n",
    "                                  workspace=ws)"
   ]
  },
  {
   "cell_type": "code",
   "execution_count": 30,
   "metadata": {},
   "outputs": [],
   "source": [
    "scorepy = \"\"\"\n",
    "import json\n",
    "import joblib\n",
    "import pandas as pd\n",
    "import traceback\n",
    "from azureml.core.model import Model\n",
    "\n",
    "def embbed(d):\n",
    "    d.columns = d.columns.str.strip()  # Clean column names\n",
    "\n",
    "    try:\n",
    "        d = d[['Net Income to Total Assets', 'ROA(A) before interest and % after tax',\n",
    "               'ROA(B) before interest and depreciation after tax',\n",
    "               'ROA(C) before interest and depreciation before interest',\n",
    "               'Net worth/Assets', 'Debt ratio %',\n",
    "               'Persistent EPS in the Last Four Seasons',\n",
    "               'Retained Earnings to Total Assets',\n",
    "               'Net profit before tax/Paid-in capital',\n",
    "               'Per Share Net profit before tax (Yuan ¥)',\n",
    "               'Current Liability to Assets', 'Working Capital to Total Assets',\n",
    "               \"Net Income to Stockholder's Equity\", 'Borrowing dependency',\n",
    "               'Current Liability to Current Assets', 'Liability to Equity',\n",
    "               'Net Value Per Share (A)', 'Net Value Per Share (B)',\n",
    "               'Net Value Per Share (C)', 'Current Liability to Equity',\n",
    "               'Bankrupt?']]\n",
    "    except KeyError as e:\n",
    "        print(f\"[ERROR] Missing columns: {e}\")\n",
    "        return None\n",
    "    except Exception as e:\n",
    "        print(f\"[ERROR] Unexpected error in embbed(): {e}\")\n",
    "        return None\n",
    "    return d\n",
    "\n",
    "def init():\n",
    "    global model\n",
    "    global scaler\n",
    "    try:\n",
    "        # Obtener la ruta de los modelos\n",
    "        model_path = Model.get_model_path('model')\n",
    "        model = joblib.load(model_path)\n",
    "\n",
    "        scaler_path = Model.get_model_path('model_scaler')\n",
    "        scaler = joblib.load(scaler_path)\n",
    "\n",
    "        print(\"[INFO] Model and scaler successfully loaded.\")\n",
    "    except Exception as e:\n",
    "        print(f\"[ERROR] Failed to load model or scaler: {e}\")\n",
    "        traceback.print_exc()\n",
    "\n",
    "def run(raw_data):\n",
    "    try:\n",
    "        # Cargar los datos de entrada\n",
    "        data_dict = json.loads(raw_data)\n",
    "        if \"data\" not in data_dict:\n",
    "            raise ValueError(\"[ERROR] Input JSON must contain a 'data' key.\")\n",
    "\n",
    "        data = data_dict[\"data\"][0]\n",
    "        if not isinstance(data, list):\n",
    "            raise ValueError(\"[ERROR] Expected 'data' to be a list of feature dictionaries.\")\n",
    "\n",
    "        df = pd.DataFrame(data)\n",
    "\n",
    "        # Procesar los datos (embeddings o transformaciones previas)\n",
    "        embedded_data = embbed(df)\n",
    "        if embedded_data is None:\n",
    "            raise ValueError(\"[ERROR] Data embedding failed due to missing columns.\")\n",
    "\n",
    "        # Escalar los datos utilizando el scaler\n",
    "        scaled_data = scaler.transform(embedded_data)\n",
    "\n",
    "        # Realizar la predicción con el modelo\n",
    "        result_finals = model.predict(scaled_data)\n",
    "\n",
    "        # Devolver el resultado en formato JSON\n",
    "        return json.dumps({\"predictions\": result_finals.tolist()})  # Convertir a lista para serialización\n",
    "\n",
    "    except json.JSONDecodeError as e:\n",
    "        error_msg = f\"[ERROR] Invalid JSON input: {e}\"\n",
    "    except ValueError as e:\n",
    "        error_msg = str(e)\n",
    "    except Exception as e:\n",
    "        error_msg = f\"[ERROR] Unexpected error in run(): {e} {traceback.format_exc()}\"\n",
    "\n",
    "    print(error_msg)  # Loguear error para depuración\n",
    "    return json.dumps({\"error\": error_msg})\n",
    "\"\"\"\n"
   ]
  },
  {
   "cell_type": "code",
   "execution_count": 32,
   "metadata": {},
   "outputs": [],
   "source": [
    "\n",
    "\n",
    "# Guardar el script en un archivo\n",
    "file_score = open(\"score.py\", \"w\")\n",
    "file_score.write(scorepy)\n",
    "file_score.close()\n"
   ]
  },
  {
   "cell_type": "code",
   "execution_count": 34,
   "metadata": {},
   "outputs": [
    {
     "name": "stderr",
     "output_type": "stream",
     "text": [
      "C:\\Users\\avril\\AppData\\Local\\Temp\\ipykernel_19856\\158122555.py:18: FutureWarning: azureml.core.model:\n",
      "To leverage new model deployment capabilities, AzureML recommends using CLI/SDK v2 to deploy models as online endpoint, \n",
      "please refer to respective documentations \n",
      "https://docs.microsoft.com/azure/machine-learning/how-to-deploy-managed-online-endpoints /\n",
      "https://docs.microsoft.com/azure/machine-learning/how-to-attach-kubernetes-anywhere \n",
      "For more information on migration, see https://aka.ms/acimoemigration \n",
      "To disable CLI/SDK v1 deprecation warning set AZUREML_LOG_DEPRECATION_WARNING_ENABLED to 'False'\n",
      "  service = Model.deploy(workspace=ws,\n"
     ]
    }
   ],
   "source": [
    "## STEP 2: Inference configuration: the blueprints for the German carpenter about how to build your furniture.\n",
    "\n",
    "from azureml.core.environment import Environment\n",
    "virtual_env = Environment(\"env-4-bank\")\n",
    "\n",
    "from azureml.core.conda_dependencies import CondaDependencies\n",
    "virtual_env.python.conda_dependencies = CondaDependencies.create(conda_packages=['pandas','scikit-learn', 'joblib']) ## Asegúrense de coordinarse con el departamento de modelos para incluir los paquetes correctos. Si no, BOOM!\n",
    "\n",
    "\n",
    "from azureml.core.model import InferenceConfig\n",
    "from azureml.core.webservice import AciWebservice\n",
    "inference_config = InferenceConfig(\n",
    "                                environment=virtual_env,\n",
    "                                entry_script=\"score.py\",\n",
    "                                )\n",
    "aci_config = AciWebservice.deploy_configuration(cpu_cores=0.5, memory_gb=1) ## ASEGÚRENSE DE ASIGNAR SUFICIENTE MADERA PARA SUS MUEBLES.\n",
    "\n",
    "service = Model.deploy(workspace=ws,\n",
    "                       name='service',\n",
    "                       models=[registered_model, registered_scaler],\n",
    "                       inference_config=inference_config,\n",
    "                       deployment_config=aci_config,\n",
    "                       overwrite=True,\n",
    "                       )"
   ]
  },
  {
   "cell_type": "code",
   "execution_count": 35,
   "metadata": {},
   "outputs": [
    {
     "name": "stdout",
     "output_type": "stream",
     "text": [
      "ACI service creation operation finished, operation \"Succeeded\"\n"
     ]
    }
   ],
   "source": [
    "service.wait_for_deployment()\n",
    "\n",
    "scoring_uri = service.scoring_uri\n",
    "\n",
    "scoreuri = json.dumps({\"URI\": [scoring_uri]})\n",
    "file = open(\"uri.json\", \"w\")\n",
    "file.write(scoreuri)\n",
    "file.close()"
   ]
  },
  {
   "cell_type": "code",
   "execution_count": 22,
   "metadata": {},
   "outputs": [
    {
     "name": "stdout",
     "output_type": "stream",
     "text": [
      "None\n"
     ]
    }
   ],
   "source": [
    "print(service.get_logs())\n"
   ]
  },
  {
   "cell_type": "code",
   "execution_count": 23,
   "metadata": {},
   "outputs": [
    {
     "name": "stdout",
     "output_type": "stream",
     "text": [
      "Running\n",
      "2025-04-02 23:55:15-06:00 Check and wait for operation (dfec3503-f9a6-482b-9c71-34282d4c1465) to finish.\n",
      "2025-04-02 23:55:19-06:00 Deleting service entity.\n",
      "Succeeded\n"
     ]
    }
   ],
   "source": [
    "service.delete()\n"
   ]
  },
  {
   "cell_type": "code",
   "execution_count": null,
   "metadata": {},
   "outputs": [],
   "source": []
  }
 ],
 "metadata": {
  "kernelspec": {
   "display_name": ".venv",
   "language": "python",
   "name": "python3"
  },
  "language_info": {
   "codemirror_mode": {
    "name": "ipython",
    "version": 3
   },
   "file_extension": ".py",
   "mimetype": "text/x-python",
   "name": "python",
   "nbconvert_exporter": "python",
   "pygments_lexer": "ipython3",
   "version": "3.11.9"
  }
 },
 "nbformat": 4,
 "nbformat_minor": 2
}
