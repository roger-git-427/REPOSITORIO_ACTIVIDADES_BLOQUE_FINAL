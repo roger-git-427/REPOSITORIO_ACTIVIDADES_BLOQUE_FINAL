{
 "cells": [
  {
   "cell_type": "markdown",
   "metadata": {},
   "source": [
    "ESQUELETO:\n",
    "\n",
    "Este es el archivo para subir el modelo a la nube.\n",
    "\n",
    "\n",
    "CÓMO FUNCIONA:\n",
    "\n",
    "1. Tomar un modelo ya realizado.\n",
    "\n",
    "2. Lo sube a la nube.\n",
    "\n",
    "ASEGÚRENSE DE QUE SE COORDINAN LO NECESARIO PARA QUE LOS NOMBRES COINCIDAN (no es de chill cambiar el estándar xd)."
   ]
  },
  {
   "cell_type": "code",
   "execution_count": 1,
   "metadata": {},
   "outputs": [
    {
     "name": "stdout",
     "output_type": "stream",
     "text": [
      "Requirement already satisfied: numpy==1.26.4 in c:\\users\\avril\\octavo_semestre\\repositorio_actividades_bloque_final\\actividades_cc\\act_semana_2\\.venv\\lib\\site-packages (1.26.4)\n",
      "Requirement already satisfied: scikit-learn==1.4.2 in c:\\users\\avril\\octavo_semestre\\repositorio_actividades_bloque_final\\actividades_cc\\act_semana_2\\.venv\\lib\\site-packages (1.4.2)\n",
      "Requirement already satisfied: joblib in c:\\users\\avril\\octavo_semestre\\repositorio_actividades_bloque_final\\actividades_cc\\act_semana_2\\.venv\\lib\\site-packages (1.4.2)\n",
      "Requirement already satisfied: pandas in c:\\users\\avril\\octavo_semestre\\repositorio_actividades_bloque_final\\actividades_cc\\act_semana_2\\.venv\\lib\\site-packages (2.2.3)\n",
      "Requirement already satisfied: scipy>=1.6.0 in c:\\users\\avril\\octavo_semestre\\repositorio_actividades_bloque_final\\actividades_cc\\act_semana_2\\.venv\\lib\\site-packages (from scikit-learn==1.4.2) (1.15.2)\n",
      "Requirement already satisfied: threadpoolctl>=2.0.0 in c:\\users\\avril\\octavo_semestre\\repositorio_actividades_bloque_final\\actividades_cc\\act_semana_2\\.venv\\lib\\site-packages (from scikit-learn==1.4.2) (3.6.0)\n",
      "Requirement already satisfied: python-dateutil>=2.8.2 in c:\\users\\avril\\octavo_semestre\\repositorio_actividades_bloque_final\\actividades_cc\\act_semana_2\\.venv\\lib\\site-packages (from pandas) (2.9.0.post0)\n",
      "Requirement already satisfied: pytz>=2020.1 in c:\\users\\avril\\octavo_semestre\\repositorio_actividades_bloque_final\\actividades_cc\\act_semana_2\\.venv\\lib\\site-packages (from pandas) (2025.2)\n",
      "Requirement already satisfied: tzdata>=2022.7 in c:\\users\\avril\\octavo_semestre\\repositorio_actividades_bloque_final\\actividades_cc\\act_semana_2\\.venv\\lib\\site-packages (from pandas) (2025.2)\n",
      "Requirement already satisfied: six>=1.5 in c:\\users\\avril\\octavo_semestre\\repositorio_actividades_bloque_final\\actividades_cc\\act_semana_2\\.venv\\lib\\site-packages (from python-dateutil>=2.8.2->pandas) (1.17.0)\n",
      "Note: you may need to restart the kernel to use updated packages.\n"
     ]
    },
    {
     "name": "stderr",
     "output_type": "stream",
     "text": [
      "\n",
      "[notice] A new release of pip is available: 24.0 -> 25.0.1\n",
      "[notice] To update, run: python.exe -m pip install --upgrade pip\n"
     ]
    }
   ],
   "source": [
    "pip install numpy==1.26.4 scikit-learn==1.4.2  joblib pandas\n"
   ]
  },
  {
   "cell_type": "code",
   "execution_count": 2,
   "metadata": {},
   "outputs": [],
   "source": [
    "\n",
    "import json\n",
    "\n",
    "#GETTING MY ID:\n",
    "id = open('../id_CONFIDENTIAL.json', 'r')\n",
    "mi = json.load(id)\n",
    "my_id = mi[\"my_id\"]\n",
    "#my_id"
   ]
  },
  {
   "cell_type": "code",
   "execution_count": 3,
   "metadata": {},
   "outputs": [
    {
     "name": "stdout",
     "output_type": "stream",
     "text": [
      "Requirement already satisfied: pip==24.0 in c:\\users\\avril\\appdata\\local\\packages\\pythonsoftwarefoundation.python.3.11_qbz5n2kfra8p0\\localcache\\local-packages\\python311\\site-packages (24.0)\n"
     ]
    },
    {
     "name": "stderr",
     "output_type": "stream",
     "text": [
      "\n",
      "[notice] A new release of pip is available: 24.0 -> 25.0.1\n",
      "[notice] To update, run: C:\\Users\\avril\\AppData\\Local\\Microsoft\\WindowsApps\\PythonSoftwareFoundation.Python.3.11_qbz5n2kfra8p0\\python.exe -m pip install --upgrade pip\n"
     ]
    }
   ],
   "source": [
    "!python3 -m pip install pip==24.0\n"
   ]
  },
  {
   "cell_type": "code",
   "execution_count": 4,
   "metadata": {},
   "outputs": [
    {
     "name": "stdout",
     "output_type": "stream",
     "text": [
      "Python 3.11.9\n"
     ]
    }
   ],
   "source": [
    "!python --version"
   ]
  },
  {
   "cell_type": "code",
   "execution_count": 5,
   "metadata": {},
   "outputs": [
    {
     "name": "stdout",
     "output_type": "stream",
     "text": [
      "Requirement already satisfied: azureml-sdk in c:\\users\\avril\\octavo_semestre\\repositorio_actividades_bloque_final\\actividades_cc\\act_semana_2\\.venv\\lib\\site-packages (1.59.0)\n",
      "Requirement already satisfied: azureml-core~=1.59.0 in c:\\users\\avril\\octavo_semestre\\repositorio_actividades_bloque_final\\actividades_cc\\act_semana_2\\.venv\\lib\\site-packages (from azureml-sdk) (1.59.0.post2)\n",
      "Requirement already satisfied: azureml-dataset-runtime~=1.59.0 in c:\\users\\avril\\octavo_semestre\\repositorio_actividades_bloque_final\\actividades_cc\\act_semana_2\\.venv\\lib\\site-packages (from azureml-dataset-runtime[fuse]~=1.59.0->azureml-sdk) (1.59.0)\n",
      "Requirement already satisfied: azureml-train-core~=1.59.0 in c:\\users\\avril\\octavo_semestre\\repositorio_actividades_bloque_final\\actividades_cc\\act_semana_2\\.venv\\lib\\site-packages (from azureml-sdk) (1.59.0)\n",
      "Requirement already satisfied: azureml-train-automl-client~=1.59.0 in c:\\users\\avril\\octavo_semestre\\repositorio_actividades_bloque_final\\actividades_cc\\act_semana_2\\.venv\\lib\\site-packages (from azureml-sdk) (1.59.0)\n",
      "Requirement already satisfied: azureml-pipeline~=1.59.0 in c:\\users\\avril\\octavo_semestre\\repositorio_actividades_bloque_final\\actividades_cc\\act_semana_2\\.venv\\lib\\site-packages (from azureml-sdk) (1.59.0)\n",
      "Requirement already satisfied: pytz in c:\\users\\avril\\octavo_semestre\\repositorio_actividades_bloque_final\\actividades_cc\\act_semana_2\\.venv\\lib\\site-packages (from azureml-core~=1.59.0->azureml-sdk) (2025.2)\n",
      "Requirement already satisfied: backports.tempfile in c:\\users\\avril\\octavo_semestre\\repositorio_actividades_bloque_final\\actividades_cc\\act_semana_2\\.venv\\lib\\site-packages (from azureml-core~=1.59.0->azureml-sdk) (1.0)\n",
      "Requirement already satisfied: pathspec<1.0.0 in c:\\users\\avril\\octavo_semestre\\repositorio_actividades_bloque_final\\actividades_cc\\act_semana_2\\.venv\\lib\\site-packages (from azureml-core~=1.59.0->azureml-sdk) (0.12.1)\n",
      "Requirement already satisfied: requests<3.0.0,>=2.19.1 in c:\\users\\avril\\octavo_semestre\\repositorio_actividades_bloque_final\\actividades_cc\\act_semana_2\\.venv\\lib\\site-packages (from requests[socks]<3.0.0,>=2.19.1->azureml-core~=1.59.0->azureml-sdk) (2.32.3)\n",
      "Requirement already satisfied: msal<2.0.0,>=1.15.0 in c:\\users\\avril\\octavo_semestre\\repositorio_actividades_bloque_final\\actividades_cc\\act_semana_2\\.venv\\lib\\site-packages (from azureml-core~=1.59.0->azureml-sdk) (1.32.0)\n",
      "Requirement already satisfied: msal-extensions<=2.0.0,>=0.3.0 in c:\\users\\avril\\octavo_semestre\\repositorio_actividades_bloque_final\\actividades_cc\\act_semana_2\\.venv\\lib\\site-packages (from azureml-core~=1.59.0->azureml-sdk) (1.3.1)\n",
      "Requirement already satisfied: knack<0.13.0 in c:\\users\\avril\\octavo_semestre\\repositorio_actividades_bloque_final\\actividades_cc\\act_semana_2\\.venv\\lib\\site-packages (from azureml-core~=1.59.0->azureml-sdk) (0.12.0)\n",
      "Requirement already satisfied: azure-core<2.0.0 in c:\\users\\avril\\octavo_semestre\\repositorio_actividades_bloque_final\\actividades_cc\\act_semana_2\\.venv\\lib\\site-packages (from azureml-core~=1.59.0->azureml-sdk) (1.32.0)\n",
      "Requirement already satisfied: pkginfo in c:\\users\\avril\\octavo_semestre\\repositorio_actividades_bloque_final\\actividades_cc\\act_semana_2\\.venv\\lib\\site-packages (from azureml-core~=1.59.0->azureml-sdk) (1.12.1.2)\n",
      "Requirement already satisfied: argcomplete<4 in c:\\users\\avril\\octavo_semestre\\repositorio_actividades_bloque_final\\actividades_cc\\act_semana_2\\.venv\\lib\\site-packages (from azureml-core~=1.59.0->azureml-sdk) (3.6.1)\n",
      "Requirement already satisfied: humanfriendly<11.0,>=4.7 in c:\\users\\avril\\octavo_semestre\\repositorio_actividades_bloque_final\\actividades_cc\\act_semana_2\\.venv\\lib\\site-packages (from azureml-core~=1.59.0->azureml-sdk) (10.0)\n",
      "Requirement already satisfied: paramiko<4.0.0,>=2.0.8 in c:\\users\\avril\\octavo_semestre\\repositorio_actividades_bloque_final\\actividades_cc\\act_semana_2\\.venv\\lib\\site-packages (from azureml-core~=1.59.0->azureml-sdk) (3.5.1)\n",
      "Requirement already satisfied: azure-mgmt-resource<=24.0.0,>=15.0.0 in c:\\users\\avril\\octavo_semestre\\repositorio_actividades_bloque_final\\actividades_cc\\act_semana_2\\.venv\\lib\\site-packages (from azureml-core~=1.59.0->azureml-sdk) (23.3.0)\n",
      "Requirement already satisfied: azure-mgmt-containerregistry<11,>=8.2.0 in c:\\users\\avril\\octavo_semestre\\repositorio_actividades_bloque_final\\actividades_cc\\act_semana_2\\.venv\\lib\\site-packages (from azureml-core~=1.59.0->azureml-sdk) (10.3.0)\n",
      "Requirement already satisfied: azure-mgmt-storage<=22.0.0,>=16.0.0 in c:\\users\\avril\\octavo_semestre\\repositorio_actividades_bloque_final\\actividades_cc\\act_semana_2\\.venv\\lib\\site-packages (from azureml-core~=1.59.0->azureml-sdk) (22.0.0)\n",
      "Requirement already satisfied: azure-mgmt-keyvault<11.0.0,>=0.40.0 in c:\\users\\avril\\octavo_semestre\\repositorio_actividades_bloque_final\\actividades_cc\\act_semana_2\\.venv\\lib\\site-packages (from azureml-core~=1.59.0->azureml-sdk) (10.3.1)\n",
      "Requirement already satisfied: azure-mgmt-authorization<5,>=0.40.0 in c:\\users\\avril\\octavo_semestre\\repositorio_actividades_bloque_final\\actividades_cc\\act_semana_2\\.venv\\lib\\site-packages (from azureml-core~=1.59.0->azureml-sdk) (4.0.0)\n",
      "Requirement already satisfied: azure-mgmt-network<=29.0.0 in c:\\users\\avril\\octavo_semestre\\repositorio_actividades_bloque_final\\actividades_cc\\act_semana_2\\.venv\\lib\\site-packages (from azureml-core~=1.59.0->azureml-sdk) (28.1.0)\n",
      "Requirement already satisfied: azure-graphrbac<1.0.0,>=0.40.0 in c:\\users\\avril\\octavo_semestre\\repositorio_actividades_bloque_final\\actividades_cc\\act_semana_2\\.venv\\lib\\site-packages (from azureml-core~=1.59.0->azureml-sdk) (0.61.2)\n",
      "Requirement already satisfied: azure-common<2.0.0,>=1.1.12 in c:\\users\\avril\\octavo_semestre\\repositorio_actividades_bloque_final\\actividades_cc\\act_semana_2\\.venv\\lib\\site-packages (from azureml-core~=1.59.0->azureml-sdk) (1.1.28)\n",
      "Requirement already satisfied: msrest<=0.7.1,>=0.5.1 in c:\\users\\avril\\octavo_semestre\\repositorio_actividades_bloque_final\\actividades_cc\\act_semana_2\\.venv\\lib\\site-packages (from azureml-core~=1.59.0->azureml-sdk) (0.7.1)\n",
      "Requirement already satisfied: msrestazure<=0.7,>=0.4.33 in c:\\users\\avril\\octavo_semestre\\repositorio_actividades_bloque_final\\actividades_cc\\act_semana_2\\.venv\\lib\\site-packages (from azureml-core~=1.59.0->azureml-sdk) (0.6.4.post1)\n",
      "Requirement already satisfied: urllib3<3.0.0,>1.26.17 in c:\\users\\avril\\octavo_semestre\\repositorio_actividades_bloque_final\\actividades_cc\\act_semana_2\\.venv\\lib\\site-packages (from azureml-core~=1.59.0->azureml-sdk) (2.3.0)\n",
      "Requirement already satisfied: packaging<=25.0,>=20.0 in c:\\users\\avril\\octavo_semestre\\repositorio_actividades_bloque_final\\actividades_cc\\act_semana_2\\.venv\\lib\\site-packages (from azureml-core~=1.59.0->azureml-sdk) (24.2)\n",
      "Requirement already satisfied: python-dateutil<3.0.0,>=2.7.3 in c:\\users\\avril\\octavo_semestre\\repositorio_actividades_bloque_final\\actividades_cc\\act_semana_2\\.venv\\lib\\site-packages (from azureml-core~=1.59.0->azureml-sdk) (2.9.0.post0)\n",
      "Requirement already satisfied: ndg-httpsclient<=0.5.1 in c:\\users\\avril\\octavo_semestre\\repositorio_actividades_bloque_final\\actividades_cc\\act_semana_2\\.venv\\lib\\site-packages (from azureml-core~=1.59.0->azureml-sdk) (0.5.1)\n",
      "Requirement already satisfied: SecretStorage<4.0.0 in c:\\users\\avril\\octavo_semestre\\repositorio_actividades_bloque_final\\actividades_cc\\act_semana_2\\.venv\\lib\\site-packages (from azureml-core~=1.59.0->azureml-sdk) (3.3.3)\n",
      "Requirement already satisfied: jsonpickle<5.0.0 in c:\\users\\avril\\octavo_semestre\\repositorio_actividades_bloque_final\\actividades_cc\\act_semana_2\\.venv\\lib\\site-packages (from azureml-core~=1.59.0->azureml-sdk) (4.0.5)\n",
      "Requirement already satisfied: contextlib2<22.0.0 in c:\\users\\avril\\octavo_semestre\\repositorio_actividades_bloque_final\\actividades_cc\\act_semana_2\\.venv\\lib\\site-packages (from azureml-core~=1.59.0->azureml-sdk) (21.6.0)\n",
      "Requirement already satisfied: docker<8.0.0 in c:\\users\\avril\\octavo_semestre\\repositorio_actividades_bloque_final\\actividades_cc\\act_semana_2\\.venv\\lib\\site-packages (from azureml-core~=1.59.0->azureml-sdk) (7.1.0)\n",
      "Requirement already satisfied: PyJWT<3.0.0 in c:\\users\\avril\\octavo_semestre\\repositorio_actividades_bloque_final\\actividades_cc\\act_semana_2\\.venv\\lib\\site-packages (from azureml-core~=1.59.0->azureml-sdk) (2.10.1)\n",
      "Requirement already satisfied: adal<=1.2.7,>=1.2.0 in c:\\users\\avril\\octavo_semestre\\repositorio_actividades_bloque_final\\actividades_cc\\act_semana_2\\.venv\\lib\\site-packages (from azureml-core~=1.59.0->azureml-sdk) (1.2.7)\n",
      "Requirement already satisfied: pyopenssl<25.0.0 in c:\\users\\avril\\octavo_semestre\\repositorio_actividades_bloque_final\\actividades_cc\\act_semana_2\\.venv\\lib\\site-packages (from azureml-core~=1.59.0->azureml-sdk) (24.3.0)\n",
      "Requirement already satisfied: jmespath<2.0.0 in c:\\users\\avril\\octavo_semestre\\repositorio_actividades_bloque_final\\actividades_cc\\act_semana_2\\.venv\\lib\\site-packages (from azureml-core~=1.59.0->azureml-sdk) (1.0.1)\n",
      "Requirement already satisfied: azureml-dataprep<5.2.0a,>=5.1.0a in c:\\users\\avril\\octavo_semestre\\repositorio_actividades_bloque_final\\actividades_cc\\act_semana_2\\.venv\\lib\\site-packages (from azureml-dataset-runtime~=1.59.0->azureml-dataset-runtime[fuse]~=1.59.0->azureml-sdk) (5.1.6)\n",
      "Requirement already satisfied: pyarrow>=0.17.0 in c:\\users\\avril\\octavo_semestre\\repositorio_actividades_bloque_final\\actividades_cc\\act_semana_2\\.venv\\lib\\site-packages (from azureml-dataset-runtime~=1.59.0->azureml-dataset-runtime[fuse]~=1.59.0->azureml-sdk) (19.0.1)\n",
      "Collecting numpy!=1.19.4,<1.24 (from azureml-dataset-runtime~=1.59.0->azureml-dataset-runtime[fuse]~=1.59.0->azureml-sdk)\n",
      "  Using cached numpy-1.23.5-cp311-cp311-win_amd64.whl.metadata (2.3 kB)\n",
      "Requirement already satisfied: fusepy<4.0.0,>=3.0.1 in c:\\users\\avril\\octavo_semestre\\repositorio_actividades_bloque_final\\actividades_cc\\act_semana_2\\.venv\\lib\\site-packages (from azureml-dataset-runtime[fuse]~=1.59.0->azureml-sdk) (3.0.1)\n",
      "Requirement already satisfied: azureml-pipeline-core~=1.59.0 in c:\\users\\avril\\octavo_semestre\\repositorio_actividades_bloque_final\\actividades_cc\\act_semana_2\\.venv\\lib\\site-packages (from azureml-pipeline~=1.59.0->azureml-sdk) (1.59.0)\n",
      "Requirement already satisfied: azureml-pipeline-steps~=1.59.0 in c:\\users\\avril\\octavo_semestre\\repositorio_actividades_bloque_final\\actividades_cc\\act_semana_2\\.venv\\lib\\site-packages (from azureml-pipeline~=1.59.0->azureml-sdk) (1.59.0)\n",
      "Requirement already satisfied: azureml-automl-core~=1.59.0 in c:\\users\\avril\\octavo_semestre\\repositorio_actividades_bloque_final\\actividades_cc\\act_semana_2\\.venv\\lib\\site-packages (from azureml-train-automl-client~=1.59.0->azureml-sdk) (1.59.0)\n",
      "Requirement already satisfied: azureml-telemetry~=1.59.0 in c:\\users\\avril\\octavo_semestre\\repositorio_actividades_bloque_final\\actividades_cc\\act_semana_2\\.venv\\lib\\site-packages (from azureml-train-automl-client~=1.59.0->azureml-sdk) (1.59.0)\n",
      "Requirement already satisfied: azureml-train-restclients-hyperdrive~=1.59.0 in c:\\users\\avril\\octavo_semestre\\repositorio_actividades_bloque_final\\actividades_cc\\act_semana_2\\.venv\\lib\\site-packages (from azureml-train-core~=1.59.0->azureml-sdk) (1.59.0)\n",
      "Requirement already satisfied: cryptography>=1.1.0 in c:\\users\\avril\\octavo_semestre\\repositorio_actividades_bloque_final\\actividades_cc\\act_semana_2\\.venv\\lib\\site-packages (from adal<=1.2.7,>=1.2.0->azureml-core~=1.59.0->azureml-sdk) (44.0.2)\n",
      "Requirement already satisfied: six>=1.11.0 in c:\\users\\avril\\octavo_semestre\\repositorio_actividades_bloque_final\\actividades_cc\\act_semana_2\\.venv\\lib\\site-packages (from azure-core<2.0.0->azureml-core~=1.59.0->azureml-sdk) (1.17.0)\n",
      "Requirement already satisfied: typing-extensions>=4.6.0 in c:\\users\\avril\\octavo_semestre\\repositorio_actividades_bloque_final\\actividades_cc\\act_semana_2\\.venv\\lib\\site-packages (from azure-core<2.0.0->azureml-core~=1.59.0->azureml-sdk) (4.13.0)\n",
      "Requirement already satisfied: isodate<1.0.0,>=0.6.1 in c:\\users\\avril\\octavo_semestre\\repositorio_actividades_bloque_final\\actividades_cc\\act_semana_2\\.venv\\lib\\site-packages (from azure-mgmt-authorization<5,>=0.40.0->azureml-core~=1.59.0->azureml-sdk) (0.7.2)\n",
      "Requirement already satisfied: azure-mgmt-core<2.0.0,>=1.3.2 in c:\\users\\avril\\octavo_semestre\\repositorio_actividades_bloque_final\\actividades_cc\\act_semana_2\\.venv\\lib\\site-packages (from azure-mgmt-authorization<5,>=0.40.0->azureml-core~=1.59.0->azureml-sdk) (1.5.0)\n",
      "Requirement already satisfied: importlib-metadata<=8.2.0 in c:\\users\\avril\\octavo_semestre\\repositorio_actividades_bloque_final\\actividades_cc\\act_semana_2\\.venv\\lib\\site-packages (from azureml-automl-core~=1.59.0->azureml-train-automl-client~=1.59.0->azureml-sdk) (8.2.0)\n",
      "Requirement already satisfied: importlib-resources<=6.4.0 in c:\\users\\avril\\octavo_semestre\\repositorio_actividades_bloque_final\\actividades_cc\\act_semana_2\\.venv\\lib\\site-packages (from azureml-automl-core~=1.59.0->azureml-train-automl-client~=1.59.0->azureml-sdk) (6.4.0)\n",
      "Requirement already satisfied: azureml-dataprep-native<42.0.0,>=41.0.0 in c:\\users\\avril\\octavo_semestre\\repositorio_actividades_bloque_final\\actividades_cc\\act_semana_2\\.venv\\lib\\site-packages (from azureml-dataprep<5.2.0a,>=5.1.0a->azureml-dataset-runtime~=1.59.0->azureml-dataset-runtime[fuse]~=1.59.0->azureml-sdk) (41.0.0)\n",
      "Requirement already satisfied: azureml-dataprep-rslex~=2.22.2dev0 in c:\\users\\avril\\octavo_semestre\\repositorio_actividades_bloque_final\\actividades_cc\\act_semana_2\\.venv\\lib\\site-packages (from azureml-dataprep<5.2.0a,>=5.1.0a->azureml-dataset-runtime~=1.59.0->azureml-dataset-runtime[fuse]~=1.59.0->azureml-sdk) (2.22.5)\n",
      "Requirement already satisfied: cloudpickle<3.0.0,>=1.1.0 in c:\\users\\avril\\octavo_semestre\\repositorio_actividades_bloque_final\\actividades_cc\\act_semana_2\\.venv\\lib\\site-packages (from azureml-dataprep<5.2.0a,>=5.1.0a->azureml-dataset-runtime~=1.59.0->azureml-dataset-runtime[fuse]~=1.59.0->azureml-sdk) (2.2.1)\n",
      "Requirement already satisfied: azure-identity>=1.7.0 in c:\\users\\avril\\octavo_semestre\\repositorio_actividades_bloque_final\\actividades_cc\\act_semana_2\\.venv\\lib\\site-packages (from azureml-dataprep<5.2.0a,>=5.1.0a->azureml-dataset-runtime~=1.59.0->azureml-dataset-runtime[fuse]~=1.59.0->azureml-sdk) (1.21.0)\n",
      "Requirement already satisfied: jsonschema in c:\\users\\avril\\octavo_semestre\\repositorio_actividades_bloque_final\\actividades_cc\\act_semana_2\\.venv\\lib\\site-packages (from azureml-dataprep<5.2.0a,>=5.1.0a->azureml-dataset-runtime~=1.59.0->azureml-dataset-runtime[fuse]~=1.59.0->azureml-sdk) (4.23.0)\n",
      "Requirement already satisfied: pyyaml<7.0.0,>=5.1.0 in c:\\users\\avril\\octavo_semestre\\repositorio_actividades_bloque_final\\actividades_cc\\act_semana_2\\.venv\\lib\\site-packages (from azureml-dataprep<5.2.0a,>=5.1.0a->azureml-dataset-runtime~=1.59.0->azureml-dataset-runtime[fuse]~=1.59.0->azureml-sdk) (6.0.2)\n",
      "Requirement already satisfied: applicationinsights in c:\\users\\avril\\octavo_semestre\\repositorio_actividades_bloque_final\\actividades_cc\\act_semana_2\\.venv\\lib\\site-packages (from azureml-telemetry~=1.59.0->azureml-train-automl-client~=1.59.0->azureml-sdk) (0.11.10)\n",
      "Requirement already satisfied: pywin32>=304 in c:\\users\\avril\\octavo_semestre\\repositorio_actividades_bloque_final\\actividades_cc\\act_semana_2\\.venv\\lib\\site-packages (from docker<8.0.0->azureml-core~=1.59.0->azureml-sdk) (310)\n",
      "Requirement already satisfied: pyreadline3 in c:\\users\\avril\\octavo_semestre\\repositorio_actividades_bloque_final\\actividades_cc\\act_semana_2\\.venv\\lib\\site-packages (from humanfriendly<11.0,>=4.7->azureml-core~=1.59.0->azureml-sdk) (3.5.4)\n",
      "Requirement already satisfied: pygments in c:\\users\\avril\\octavo_semestre\\repositorio_actividades_bloque_final\\actividades_cc\\act_semana_2\\.venv\\lib\\site-packages (from knack<0.13.0->azureml-core~=1.59.0->azureml-sdk) (2.19.1)\n",
      "Requirement already satisfied: tabulate in c:\\users\\avril\\octavo_semestre\\repositorio_actividades_bloque_final\\actividades_cc\\act_semana_2\\.venv\\lib\\site-packages (from knack<0.13.0->azureml-core~=1.59.0->azureml-sdk) (0.9.0)\n",
      "Requirement already satisfied: certifi>=2017.4.17 in c:\\users\\avril\\octavo_semestre\\repositorio_actividades_bloque_final\\actividades_cc\\act_semana_2\\.venv\\lib\\site-packages (from msrest<=0.7.1,>=0.5.1->azureml-core~=1.59.0->azureml-sdk) (2025.1.31)\n",
      "Requirement already satisfied: requests-oauthlib>=0.5.0 in c:\\users\\avril\\octavo_semestre\\repositorio_actividades_bloque_final\\actividades_cc\\act_semana_2\\.venv\\lib\\site-packages (from msrest<=0.7.1,>=0.5.1->azureml-core~=1.59.0->azureml-sdk) (2.0.0)\n",
      "Requirement already satisfied: pyasn1>=0.1.1 in c:\\users\\avril\\octavo_semestre\\repositorio_actividades_bloque_final\\actividades_cc\\act_semana_2\\.venv\\lib\\site-packages (from ndg-httpsclient<=0.5.1->azureml-core~=1.59.0->azureml-sdk) (0.6.1)\n",
      "Requirement already satisfied: bcrypt>=3.2 in c:\\users\\avril\\octavo_semestre\\repositorio_actividades_bloque_final\\actividades_cc\\act_semana_2\\.venv\\lib\\site-packages (from paramiko<4.0.0,>=2.0.8->azureml-core~=1.59.0->azureml-sdk) (4.3.0)\n",
      "Requirement already satisfied: pynacl>=1.5 in c:\\users\\avril\\octavo_semestre\\repositorio_actividades_bloque_final\\actividades_cc\\act_semana_2\\.venv\\lib\\site-packages (from paramiko<4.0.0,>=2.0.8->azureml-core~=1.59.0->azureml-sdk) (1.5.0)\n",
      "Requirement already satisfied: charset-normalizer<4,>=2 in c:\\users\\avril\\octavo_semestre\\repositorio_actividades_bloque_final\\actividades_cc\\act_semana_2\\.venv\\lib\\site-packages (from requests<3.0.0,>=2.19.1->requests[socks]<3.0.0,>=2.19.1->azureml-core~=1.59.0->azureml-sdk) (3.4.1)\n",
      "Requirement already satisfied: idna<4,>=2.5 in c:\\users\\avril\\octavo_semestre\\repositorio_actividades_bloque_final\\actividades_cc\\act_semana_2\\.venv\\lib\\site-packages (from requests<3.0.0,>=2.19.1->requests[socks]<3.0.0,>=2.19.1->azureml-core~=1.59.0->azureml-sdk) (3.10)\n",
      "Requirement already satisfied: PySocks!=1.5.7,>=1.5.6 in c:\\users\\avril\\octavo_semestre\\repositorio_actividades_bloque_final\\actividades_cc\\act_semana_2\\.venv\\lib\\site-packages (from requests[socks]<3.0.0,>=2.19.1->azureml-core~=1.59.0->azureml-sdk) (1.7.1)\n",
      "Requirement already satisfied: jeepney>=0.6 in c:\\users\\avril\\octavo_semestre\\repositorio_actividades_bloque_final\\actividades_cc\\act_semana_2\\.venv\\lib\\site-packages (from SecretStorage<4.0.0->azureml-core~=1.59.0->azureml-sdk) (0.9.0)\n",
      "Requirement already satisfied: backports.weakref in c:\\users\\avril\\octavo_semestre\\repositorio_actividades_bloque_final\\actividades_cc\\act_semana_2\\.venv\\lib\\site-packages (from backports.tempfile->azureml-core~=1.59.0->azureml-sdk) (1.0.post1)\n",
      "Requirement already satisfied: cffi>=1.12 in c:\\users\\avril\\octavo_semestre\\repositorio_actividades_bloque_final\\actividades_cc\\act_semana_2\\.venv\\lib\\site-packages (from cryptography>=1.1.0->adal<=1.2.7,>=1.2.0->azureml-core~=1.59.0->azureml-sdk) (1.17.1)\n",
      "Requirement already satisfied: zipp>=0.5 in c:\\users\\avril\\octavo_semestre\\repositorio_actividades_bloque_final\\actividades_cc\\act_semana_2\\.venv\\lib\\site-packages (from importlib-metadata<=8.2.0->azureml-automl-core~=1.59.0->azureml-train-automl-client~=1.59.0->azureml-sdk) (3.21.0)\n",
      "Requirement already satisfied: oauthlib>=3.0.0 in c:\\users\\avril\\octavo_semestre\\repositorio_actividades_bloque_final\\actividades_cc\\act_semana_2\\.venv\\lib\\site-packages (from requests-oauthlib>=0.5.0->msrest<=0.7.1,>=0.5.1->azureml-core~=1.59.0->azureml-sdk) (3.2.2)\n",
      "Requirement already satisfied: attrs>=22.2.0 in c:\\users\\avril\\octavo_semestre\\repositorio_actividades_bloque_final\\actividades_cc\\act_semana_2\\.venv\\lib\\site-packages (from jsonschema->azureml-dataprep<5.2.0a,>=5.1.0a->azureml-dataset-runtime~=1.59.0->azureml-dataset-runtime[fuse]~=1.59.0->azureml-sdk) (25.3.0)\n",
      "Requirement already satisfied: jsonschema-specifications>=2023.03.6 in c:\\users\\avril\\octavo_semestre\\repositorio_actividades_bloque_final\\actividades_cc\\act_semana_2\\.venv\\lib\\site-packages (from jsonschema->azureml-dataprep<5.2.0a,>=5.1.0a->azureml-dataset-runtime~=1.59.0->azureml-dataset-runtime[fuse]~=1.59.0->azureml-sdk) (2024.10.1)\n",
      "Requirement already satisfied: referencing>=0.28.4 in c:\\users\\avril\\octavo_semestre\\repositorio_actividades_bloque_final\\actividades_cc\\act_semana_2\\.venv\\lib\\site-packages (from jsonschema->azureml-dataprep<5.2.0a,>=5.1.0a->azureml-dataset-runtime~=1.59.0->azureml-dataset-runtime[fuse]~=1.59.0->azureml-sdk) (0.36.2)\n",
      "Requirement already satisfied: rpds-py>=0.7.1 in c:\\users\\avril\\octavo_semestre\\repositorio_actividades_bloque_final\\actividades_cc\\act_semana_2\\.venv\\lib\\site-packages (from jsonschema->azureml-dataprep<5.2.0a,>=5.1.0a->azureml-dataset-runtime~=1.59.0->azureml-dataset-runtime[fuse]~=1.59.0->azureml-sdk) (0.24.0)\n",
      "Requirement already satisfied: pycparser in c:\\users\\avril\\octavo_semestre\\repositorio_actividades_bloque_final\\actividades_cc\\act_semana_2\\.venv\\lib\\site-packages (from cffi>=1.12->cryptography>=1.1.0->adal<=1.2.7,>=1.2.0->azureml-core~=1.59.0->azureml-sdk) (2.22)\n",
      "Using cached numpy-1.23.5-cp311-cp311-win_amd64.whl (14.6 MB)\n",
      "Installing collected packages: numpy\n",
      "  Attempting uninstall: numpy\n",
      "    Found existing installation: numpy 1.26.4\n",
      "    Uninstalling numpy-1.26.4:\n",
      "      Successfully uninstalled numpy-1.26.4\n",
      "Successfully installed numpy-1.23.5\n"
     ]
    },
    {
     "name": "stderr",
     "output_type": "stream",
     "text": [
      "\n",
      "[notice] A new release of pip is available: 24.0 -> 25.0.1\n",
      "[notice] To update, run: python.exe -m pip install --upgrade pip\n"
     ]
    }
   ],
   "source": [
    "!pip install azureml-sdk"
   ]
  },
  {
   "cell_type": "code",
   "execution_count": null,
   "metadata": {},
   "outputs": [],
   "source": [
    "ws.delete()"
   ]
  },
  {
   "cell_type": "code",
   "execution_count": 6,
   "metadata": {},
   "outputs": [
    {
     "name": "stderr",
     "output_type": "stream",
     "text": [
      "UserWarning: The resource group doesn't exist or was not provided. AzureML SDK is creating a resource group=resource_group_bank_1_2 in location=centralindia using subscription=dec6d8de-b135-4be6-82d6-c158d884409f.\n"
     ]
    },
    {
     "name": "stdout",
     "output_type": "stream",
     "text": [
      "Deploying StorageAccount with name workspacstorage9ef73a9e9.\n",
      "Deploying KeyVault with name workspackeyvault2b523d5e.\n",
      "Deploying AppInsights with name workspacinsightseec85b90.\n",
      "Deployed AppInsights with name workspacinsightseec85b90. Took 8.5 seconds.\n",
      "Deployed KeyVault with name workspackeyvault2b523d5e. Took 26.22 seconds.\n",
      "Deploying Workspace with name workspace_bank.\n",
      "Deployed StorageAccount with name workspacstorage9ef73a9e9. Took 33.25 seconds.\n",
      "Deployed Workspace with name workspace_bank. Took 40.6 seconds.\n"
     ]
    }
   ],
   "source": [
    "## STEP 1: Set up the workspace.\n",
    "\n",
    "\n",
    "from azureml.core import Workspace\n",
    "\n",
    "ws = Workspace.create(name=\"workspace_bank\",\n",
    "                      subscription_id = my_id,\n",
    "                      resource_group = \"resource_group_bank_1_2\",\n",
    "                      location = \"centralindia\")\n",
    "\n"
   ]
  },
  {
   "cell_type": "code",
   "execution_count": 7,
   "metadata": {},
   "outputs": [
    {
     "name": "stdout",
     "output_type": "stream",
     "text": [
      "Registering model model\n"
     ]
    }
   ],
   "source": [
    "from azureml.core.model import Model\n",
    "\n",
    "mname = \"model\"\n",
    "registered_model = Model.register(model_path=\"../best_model.pkl\",\n",
    "                                  model_name=mname,\n",
    "                                  workspace=ws)"
   ]
  },
  {
   "cell_type": "code",
   "execution_count": 8,
   "metadata": {},
   "outputs": [
    {
     "name": "stdout",
     "output_type": "stream",
     "text": [
      "Registering model model_scaler\n"
     ]
    }
   ],
   "source": [
    "from azureml.core.model import Model\n",
    "\n",
    "mname_scaler = \"model_scaler\"\n",
    "registered_scaler = Model.register(model_path=\"../scaler.pkl\",\n",
    "                                  model_name=mname_scaler,\n",
    "                                  workspace=ws)"
   ]
  },
  {
   "cell_type": "code",
   "execution_count": 9,
   "metadata": {},
   "outputs": [],
   "source": [
    "scorepy = \"\"\"\n",
    "\n",
    "import json \n",
    "import joblib\n",
    "import pandas as pd\n",
    "import numpy as np\n",
    "import traceback\n",
    "import sklearn\n",
    "from azureml.core.model import Model\n",
    "\n",
    "def embbed(d):\n",
    "    try:\n",
    "        d.columns = d.columns.str.strip()  # Limpiar nombres de columnas\n",
    "        required_columns = [\n",
    "            'Net Income to Total Assets', 'ROA(A) before interest and % after tax',\n",
    "            'ROA(B) before interest and depreciation after tax',\n",
    "            'ROA(C) before interest and depreciation before interest',\n",
    "            'Net worth/Assets', 'Debt ratio %',\n",
    "            'Persistent EPS in the Last Four Seasons',\n",
    "            'Retained Earnings to Total Assets',\n",
    "            'Net profit before tax/Paid-in capital',\n",
    "            'Per Share Net profit before tax (Yuan ¥)',\n",
    "            'Current Liability to Assets', 'Working Capital to Total Assets',\n",
    "            \"Net Income to Stockholder's Equity\", 'Borrowing dependency',\n",
    "            'Current Liability to Current Assets', 'Liability to Equity',\n",
    "            'Net Value Per Share (A)', 'Net Value Per Share (B)',\n",
    "            'Net Value Per Share (C)', 'Current Liability to Equity'\n",
    "        ]\n",
    "\n",
    "        missing_columns = [col for col in required_columns if col not in d.columns]\n",
    "        if missing_columns:\n",
    "            raise KeyError(f\"Missing columns: {missing_columns}\")\n",
    "\n",
    "        return d[required_columns]\n",
    "\n",
    "    except Exception as e:\n",
    "        print(f\"[ERROR] Unexpected error in embbed(): {e}\")\n",
    "        traceback.print_exc()\n",
    "        return None\n",
    "\n",
    "def init():\n",
    "    global model, scaler\n",
    "\n",
    "    try:\n",
    "        print(\"[INFO] Loading model and scaler...\")\n",
    "        # Mostrar versiones de numpy y sklearn\n",
    "        print(f\"[INFO] NumPy version: {np.__version__}\")\n",
    "        print(f\"[INFO] Scikit-learn version: {sklearn.__version__}\")\n",
    "\n",
    "\n",
    "        # Obtener la ruta de la última versión del modelo y scaler\n",
    "        model_path = Model.get_model_path('model')\n",
    "        scaler_path = Model.get_model_path('model_scaler')\n",
    "\n",
    "        print(f\"[INFO] Loading model from {model_path}\")\n",
    "        model = joblib.load(model_path)\n",
    "        print(f\"[INFO] Loaded model from {model_path}!!\")\n",
    "\n",
    "        print(f\"[INFO] Loading scaler from {scaler_path}\")\n",
    "        scaler = joblib.load(scaler_path)\n",
    "        print(f\"[INFO] Loaded scaler from {scaler_path}!!\")\n",
    "\n",
    "\n",
    "        print(\"[INFO] Model and scaler loaded successfully.\")\n",
    "\n",
    "    except Exception as e:\n",
    "        print(f\"[ERROR] Failed to load model or scaler: {e}\")\n",
    "        traceback.print_exc()\n",
    "        model, scaler = None, None  # Asegurar que sean None si falla la carga\n",
    "\n",
    "def run(raw_data):\n",
    "    global model, scaler  # Asegurar que estamos usando las variables globales\n",
    "\n",
    "    try:\n",
    "        if model is None or scaler is None:\n",
    "            raise RuntimeError(\"[ERROR] Model or scaler not initialized. Check logs for errors.\")\n",
    "\n",
    "        data_dict = json.loads(raw_data)\n",
    "        if \"data\" not in data_dict:\n",
    "            raise ValueError(\"[ERROR] Input JSON must contain a 'data' key.\")\n",
    "\n",
    "        data = data_dict[\"data\"]\n",
    "        if not isinstance(data, list):\n",
    "            raise ValueError(\"[ERROR] Expected 'data' to be a list of feature dictionaries.\")\n",
    "\n",
    "        df = pd.DataFrame(data)\n",
    "\n",
    "        print(\"[INFO] Received data shape:\", df.shape)\n",
    "        print(\"[INFO] Data columns:\", df.columns.tolist())\n",
    "\n",
    "        embedded_data = embbed(df)\n",
    "        if embedded_data is None:\n",
    "            raise ValueError(\"[ERROR] Data embedding failed due to missing columns.\")\n",
    "\n",
    "        # Verificar si hay valores NaN antes de transformar\n",
    "        if embedded_data.isnull().values.any():\n",
    "            raise ValueError(\"[ERROR] Input data contains NaN values. Please clean your input.\")\n",
    "\n",
    "        scaled_data = scaler.transform(embedded_data)\n",
    "        print(\"[INFO] Scaled data shape:\", scaled_data.shape)\n",
    "\n",
    "        result_finals = model.predict(scaled_data)\n",
    "        print(\"[INFO] Model prediction output:\", result_finals)\n",
    "\n",
    "        return json.dumps({\"predictions\": result_finals.tolist()})\n",
    "\n",
    "    except json.JSONDecodeError as e:\n",
    "        error_msg = f\"[ERROR] Invalid JSON input: {e}\"\n",
    "    except ValueError as e:\n",
    "        error_msg = str(e)\n",
    "    except Exception as e:\n",
    "        error_msg = f\"[ERROR] Unexpected error in run(): {e} {traceback.format_exc()}\"\n",
    "\n",
    "    print(error_msg)\n",
    "    return json.dumps({\"error\": error_msg})\n",
    "\n",
    "\n",
    "\n",
    "\n",
    "\"\"\"\n"
   ]
  },
  {
   "cell_type": "code",
   "execution_count": 10,
   "metadata": {},
   "outputs": [],
   "source": [
    "\n",
    "\n",
    "# Guardar el script en un archivo\n",
    "file_score = open(\"score.py\", \"w\")\n",
    "file_score.write(scorepy)\n",
    "file_score.close()\n"
   ]
  },
  {
   "cell_type": "code",
   "execution_count": 11,
   "metadata": {},
   "outputs": [
    {
     "name": "stderr",
     "output_type": "stream",
     "text": [
      "C:\\Users\\avril\\AppData\\Local\\Temp\\ipykernel_26472\\3964873169.py:21: FutureWarning: azureml.core.model:\n",
      "To leverage new model deployment capabilities, AzureML recommends using CLI/SDK v2 to deploy models as online endpoint, \n",
      "please refer to respective documentations \n",
      "https://docs.microsoft.com/azure/machine-learning/how-to-deploy-managed-online-endpoints /\n",
      "https://docs.microsoft.com/azure/machine-learning/how-to-attach-kubernetes-anywhere \n",
      "For more information on migration, see https://aka.ms/acimoemigration \n",
      "To disable CLI/SDK v1 deprecation warning set AZUREML_LOG_DEPRECATION_WARNING_ENABLED to 'False'\n",
      "  service = Model.deploy(workspace=ws,\n"
     ]
    }
   ],
   "source": [
    "## STEP 2: Inference configuration: the blueprints for the German carpenter about how to build your furniture.\n",
    "\n",
    "from azureml.core.environment import Environment\n",
    "virtual_env = Environment(\"env-for-bank-1-3\")\n",
    "\n",
    "\n",
    "from azureml.core.conda_dependencies import CondaDependencies\n",
    "virtual_env.python.conda_dependencies = CondaDependencies.create(\n",
    "    conda_packages=['numpy==1.26.4','scikit-learn=1.4.2', 'joblib', 'pandas']\n",
    ")\n",
    "\n",
    "\n",
    "from azureml.core.model import InferenceConfig\n",
    "from azureml.core.webservice import AciWebservice\n",
    "inference_config = InferenceConfig(\n",
    "                                environment=virtual_env,\n",
    "                                entry_script=\"score.py\",\n",
    "                                )\n",
    "aci_config = AciWebservice.deploy_configuration(cpu_cores=0.5, memory_gb=1) ## ASEGÚRENSE DE ASIGNAR SUFICIENTE MADERA PARA SUS MUEBLES.\n",
    "\n",
    "service = Model.deploy(workspace=ws,\n",
    "                       name='service',\n",
    "                       models=[registered_model, registered_scaler],\n",
    "                       inference_config=inference_config,\n",
    "                       deployment_config=aci_config,\n",
    "                       overwrite=True,\n",
    "                       )"
   ]
  },
  {
   "cell_type": "code",
   "execution_count": 14,
   "metadata": {},
   "outputs": [
    {
     "data": {
      "text/plain": [
       "{\n",
       "    \"assetId\": null,\n",
       "    \"databricks\": {\n",
       "        \"eggLibraries\": [],\n",
       "        \"jarLibraries\": [],\n",
       "        \"mavenLibraries\": [],\n",
       "        \"pypiLibraries\": [],\n",
       "        \"rcranLibraries\": []\n",
       "    },\n",
       "    \"docker\": {\n",
       "        \"arguments\": [],\n",
       "        \"baseDockerfile\": null,\n",
       "        \"baseImage\": \"mcr.microsoft.com/azureml/openmpi4.1.0-ubuntu20.04\",\n",
       "        \"baseImageRegistry\": {\n",
       "            \"address\": null,\n",
       "            \"password\": null,\n",
       "            \"registryIdentity\": null,\n",
       "            \"username\": null\n",
       "        },\n",
       "        \"buildContext\": null,\n",
       "        \"enabled\": false,\n",
       "        \"platform\": {\n",
       "            \"architecture\": \"amd64\",\n",
       "            \"os\": \"Linux\"\n",
       "        },\n",
       "        \"sharedVolumes\": true,\n",
       "        \"shmSize\": \"2g\"\n",
       "    },\n",
       "    \"environmentVariables\": {\n",
       "        \"AZUREML_ENTRY_SCRIPT\": \"score.py\",\n",
       "        \"EXAMPLE_ENV_VAR\": \"EXAMPLE_VALUE\"\n",
       "    },\n",
       "    \"inferencingStackVersion\": null,\n",
       "    \"name\": \"env-for-bank-1-3\",\n",
       "    \"python\": {\n",
       "        \"baseCondaEnvironment\": null,\n",
       "        \"condaDependencies\": {\n",
       "            \"channels\": [\n",
       "                \"anaconda\",\n",
       "                \"conda-forge\"\n",
       "            ],\n",
       "            \"dependencies\": [\n",
       "                \"python=3.9.12\",\n",
       "                {\n",
       "                    \"pip\": [\n",
       "                        \"azureml-defaults\"\n",
       "                    ]\n",
       "                },\n",
       "                \"numpy==1.26.4\",\n",
       "                \"scikit-learn=1.4.2\",\n",
       "                \"joblib\",\n",
       "                \"pandas\"\n",
       "            ],\n",
       "            \"name\": \"project_environment\"\n",
       "        },\n",
       "        \"condaDependenciesFile\": null,\n",
       "        \"interpreterPath\": \"python\",\n",
       "        \"userManagedDependencies\": false\n",
       "    },\n",
       "    \"r\": null,\n",
       "    \"spark\": {\n",
       "        \"packages\": [],\n",
       "        \"precachePackages\": true,\n",
       "        \"repositories\": []\n",
       "    },\n",
       "    \"version\": null\n",
       "}"
      ]
     },
     "execution_count": 14,
     "metadata": {},
     "output_type": "execute_result"
    }
   ],
   "source": [
    "virtual_env"
   ]
  },
  {
   "cell_type": "code",
   "execution_count": 15,
   "metadata": {},
   "outputs": [
    {
     "name": "stdout",
     "output_type": "stream",
     "text": [
      "ACI service creation operation finished, operation \"Succeeded\"\n"
     ]
    }
   ],
   "source": [
    "service.wait_for_deployment()\n",
    "\n",
    "scoring_uri = service.scoring_uri\n",
    "\n",
    "scoreuri = json.dumps({\"URI\": [scoring_uri]})\n",
    "file = open(\"uri.json\", \"w\")\n",
    "file.write(scoreuri)\n",
    "file.close()"
   ]
  },
  {
   "cell_type": "code",
   "execution_count": 13,
   "metadata": {},
   "outputs": [
    {
     "name": "stdout",
     "output_type": "stream",
     "text": [
      "model_scaler 1\n",
      "model 1\n"
     ]
    }
   ],
   "source": [
    "models = Model.list(workspace=ws)\n",
    "for model in models:\n",
    "    print(model.name, model.version)\n"
   ]
  },
  {
   "cell_type": "code",
   "execution_count": 16,
   "metadata": {},
   "outputs": [
    {
     "name": "stdout",
     "output_type": "stream",
     "text": [
      "/bin/bash: /azureml-envs/azureml_b64eb7c138348198653a4668ab6e818b/lib/libtinfo.so.6: no version information available (required by /bin/bash)\n",
      "/bin/bash: /azureml-envs/azureml_b64eb7c138348198653a4668ab6e818b/lib/libtinfo.so.6: no version information available (required by /bin/bash)\n",
      "/bin/bash: /azureml-envs/azureml_b64eb7c138348198653a4668ab6e818b/lib/libtinfo.so.6: no version information available (required by /bin/bash)\n",
      "2025-04-04T05:43:12,040116552+00:00 - rsyslog/run \n",
      "bash: /azureml-envs/azureml_b64eb7c138348198653a4668ab6e818b/lib/libtinfo.so.6: no version information available (required by bash)\n",
      "2025-04-04T05:43:12,046967030+00:00 - gunicorn/run \n",
      "2025-04-04T05:43:12,048353396+00:00 | gunicorn/run | \n",
      "2025-04-04T05:43:12,050061784+00:00 | gunicorn/run | ###############################################\n",
      "2025-04-04T05:43:12,052341056+00:00 | gunicorn/run | AzureML Container Runtime Information\n",
      "2025-04-04T05:43:12,054129215+00:00 - nginx/run \n",
      "2025-04-04T05:43:12,055472301+00:00 | gunicorn/run | ###############################################\n",
      "2025-04-04T05:43:12,056872343+00:00 | gunicorn/run | \n",
      "2025-04-04T05:43:12,059085452+00:00 | gunicorn/run | \n",
      "2025-04-04T05:43:12,063752669+00:00 | gunicorn/run | AzureML image information: openmpi4.1.0-ubuntu20.04, Materializaton Build:20250224.v1\n",
      "2025-04-04T05:43:12,066063130+00:00 | gunicorn/run | \n",
      "2025-04-04T05:43:12,069477410+00:00 | gunicorn/run | \n",
      "2025-04-04T05:43:12,072954367+00:00 | gunicorn/run | PATH environment variable: /azureml-envs/azureml_b64eb7c138348198653a4668ab6e818b/bin:/opt/miniconda/bin:/usr/local/sbin:/usr/local/bin:/usr/sbin:/usr/bin:/sbin:/bin\n",
      "2025-04-04T05:43:12,074278948+00:00 | gunicorn/run | PYTHONPATH environment variable: \n",
      "2025-04-04T05:43:12,076104925+00:00 | gunicorn/run | \n",
      "2025-04-04T05:43:13,976292579+00:00 | gunicorn/run | CONDAPATH environment variable: /opt/miniconda\n",
      "\n",
      "\n",
      "# conda environments:\n",
      "#\n",
      "                     * /azureml-envs/azureml_b64eb7c138348198653a4668ab6e818b\n",
      "base                   /opt/miniconda\n",
      "\n",
      "2025-04-04T05:43:14,667471334+00:00 | gunicorn/run | \n",
      "2025-04-04T05:43:14,668807447+00:00 | gunicorn/run | Pip Dependencies (before dynamic installation)\n",
      "\n",
      "adal==1.2.7\n",
      "annotated-types==0.7.0\n",
      "argcomplete==3.6.2\n",
      "attrs==25.3.0\n",
      "azure-common==1.1.28\n",
      "azure-core==1.33.0\n",
      "azure-graphrbac==0.61.2\n",
      "azure-identity==1.21.0\n",
      "azure-mgmt-authorization==4.0.0\n",
      "azure-mgmt-containerregistry==10.3.0\n",
      "azure-mgmt-core==1.5.0\n",
      "azure-mgmt-keyvault==10.3.1\n",
      "azure-mgmt-network==28.1.0\n",
      "azure-mgmt-resource==23.3.0\n",
      "azure-mgmt-storage==22.0.0\n",
      "azureml-core==1.59.0.post2\n",
      "azureml-dataprep==5.1.6\n",
      "azureml-dataprep-native==41.0.0\n",
      "azureml-dataprep-rslex==2.22.5\n",
      "azureml-dataset-runtime==1.59.0\n",
      "azureml-defaults==1.59.0\n",
      "azureml-inference-server-http==1.4.0\n",
      "backports.tempfile==1.0\n",
      "backports.weakref==1.0.post1\n",
      "bcrypt==4.3.0\n",
      "blinker==1.9.0\n",
      "Bottleneck @ file:///croot/bottleneck_1731058641041/work\n",
      "cachetools==5.5.2\n",
      "certifi==2025.1.31\n",
      "cffi==1.17.1\n",
      "charset-normalizer==3.4.1\n",
      "click==8.1.8\n",
      "cloudpickle==2.2.1\n",
      "contextlib2==21.6.0\n",
      "cryptography==44.0.2\n",
      "docker==7.1.0\n",
      "Flask==3.0.3\n",
      "flask-cors==5.0.1\n",
      "fusepy==3.0.1\n",
      "google-api-core==2.24.2\n",
      "google-auth==2.38.0\n",
      "googleapis-common-protos==1.69.2\n",
      "gunicorn==23.0.0\n",
      "humanfriendly==10.0\n",
      "idna==3.10\n",
      "importlib_metadata==8.6.1\n",
      "inference-schema==1.8\n",
      "isodate==0.7.2\n",
      "itsdangerous==2.2.0\n",
      "jeepney==0.9.0\n",
      "Jinja2==3.1.6\n",
      "jmespath==1.0.1\n",
      "joblib @ file:///croot/joblib_1718217211762/work\n",
      "jsonpickle==4.0.5\n",
      "jsonschema==4.23.0\n",
      "jsonschema-specifications==2024.10.1\n",
      "knack==0.12.0\n",
      "MarkupSafe==3.0.2\n",
      "msal==1.32.0\n",
      "msal-extensions==1.3.1\n",
      "msrest==0.7.1\n",
      "msrestazure==0.6.4.post1\n",
      "ndg-httpsclient==0.5.1\n",
      "numexpr @ file:///croot/numexpr_1730215937391/work\n",
      "numpy==1.23.5\n",
      "oauthlib==3.2.2\n",
      "opencensus==0.11.4\n",
      "opencensus-context==0.1.3\n",
      "opencensus-ext-azure==1.1.14\n",
      "packaging==24.2\n",
      "pandas @ file:///croot/pandas_1732735089971/work/dist/pandas-2.2.3-cp39-cp39-linux_x86_64.whl#sha256=0a51ed2e81ab863e3d00ed6c5049192ce578ecb38fb467d2f9a6585d3c25f666\n",
      "paramiko==3.5.1\n",
      "pathspec==0.12.1\n",
      "pkginfo==1.12.1.2\n",
      "proto-plus==1.26.1\n",
      "protobuf==6.30.2\n",
      "psutil==7.0.0\n",
      "pyarrow==19.0.1\n",
      "pyasn1==0.6.1\n",
      "pyasn1_modules==0.4.2\n",
      "pycparser==2.22\n",
      "pydantic==2.9.2\n",
      "pydantic-settings==2.8.1\n",
      "pydantic_core==2.23.4\n",
      "Pygments==2.19.1\n",
      "PyJWT==2.10.1\n",
      "PyNaCl==1.5.0\n",
      "pyOpenSSL==24.3.0\n",
      "PySocks==1.7.1\n",
      "python-dateutil @ file:///croot/python-dateutil_1716495738603/work\n",
      "python-dotenv==1.1.0\n",
      "pytz @ file:///croot/pytz_1713974312559/work\n",
      "PyYAML==6.0.2\n",
      "referencing==0.36.2\n",
      "requests==2.32.3\n",
      "requests-oauthlib==2.0.0\n",
      "rpds-py==0.24.0\n",
      "rsa==4.9\n",
      "scikit-learn @ file:///croot/scikit-learn_1714164736727/work\n",
      "scipy @ file:///croot/scipy_1733756309941/work/dist/scipy-1.13.1-cp39-cp39-linux_x86_64.whl#sha256=3b247b926209f2d9f719ebae39faf3ff891b2596150ed8f8349adfc3eb19441c\n",
      "SecretStorage==3.3.3\n",
      "six @ file:///tmp/build/80754af9/six_1644875935023/work\n",
      "tabulate==0.9.0\n",
      "threadpoolctl @ file:///croot/threadpoolctl_1719407800858/work\n",
      "typing_extensions==4.13.1\n",
      "tzdata @ file:///croot/python-tzdata_1690578112552/work\n",
      "urllib3==2.3.0\n",
      "Werkzeug==3.1.3\n",
      "wrapt==1.16.0\n",
      "zipp==3.21.0\n",
      "\n",
      "2025-04-04T05:43:15,166565353+00:00 | gunicorn/run | \n",
      "2025-04-04T05:43:15,167745826+00:00 | gunicorn/run | Entry script directory: /var/azureml-app/.\n",
      "2025-04-04T05:43:15,169136440+00:00 | gunicorn/run | \n",
      "2025-04-04T05:43:15,170174006+00:00 | gunicorn/run | ###############################################\n",
      "2025-04-04T05:43:15,171127094+00:00 | gunicorn/run | Dynamic Python Package Installation\n",
      "2025-04-04T05:43:15,172314249+00:00 | gunicorn/run | ###############################################\n",
      "2025-04-04T05:43:15,173253461+00:00 | gunicorn/run | \n",
      "2025-04-04T05:43:15,174397866+00:00 | gunicorn/run | Dynamic Python package installation is disabled.\n",
      "2025-04-04T05:43:15,175481518+00:00 | gunicorn/run | \n",
      "2025-04-04T05:43:15,176507802+00:00 | gunicorn/run | ###############################################\n",
      "2025-04-04T05:43:15,177824990+00:00 | gunicorn/run | Checking if the Python package azureml-inference-server-http is installed\n",
      "2025-04-04T05:43:15,178862295+00:00 | gunicorn/run | ###############################################\n",
      "2025-04-04T05:43:15,179774938+00:00 | gunicorn/run | \n",
      "2025-04-04T05:43:15,733883213+00:00 | gunicorn/run | \n",
      "2025-04-04T05:43:15,735084213+00:00 | gunicorn/run | ###############################################\n",
      "2025-04-04T05:43:15,736504523+00:00 | gunicorn/run | AzureML Inference Server\n",
      "2025-04-04T05:43:15,738255900+00:00 | gunicorn/run | ###############################################\n",
      "2025-04-04T05:43:15,739759376+00:00 | gunicorn/run | \n",
      "2025-04-04T05:43:15,740949546+00:00 | gunicorn/run | Starting AzureML Inference Server HTTP.\n",
      "2025-04-04 05:43:15,937 I [69] azmlinfsrv - Loaded logging config from /azureml-envs/azureml_b64eb7c138348198653a4668ab6e818b/lib/python3.9/site-packages/azureml_inference_server_http/logging.json\n",
      "2025-04-04 05:43:15,965 I [69] gunicorn.error - Starting gunicorn 23.0.0\n",
      "2025-04-04 05:43:15,965 I [69] gunicorn.error - Listening at: http://0.0.0.0:31311 (69)\n",
      "2025-04-04 05:43:15,966 I [69] gunicorn.error - Using worker: sync\n",
      "2025-04-04 05:43:15,968 I [129] gunicorn.error - Booting worker with pid: 129\n",
      "\n",
      "Azure ML Inferencing HTTP server v1.4.0\n",
      "\n",
      "\n",
      "Server Settings\n",
      "---------------\n",
      "Entry Script Name: /var/azureml-app/score.py\n",
      "Model Directory: /var/azureml-app/azureml-models\n",
      "Config File: None\n",
      "Worker Count: 1\n",
      "Worker Timeout (seconds): 300\n",
      "Server Port: 31311\n",
      "Health Port: 31311\n",
      "Application Insights Enabled: false\n",
      "Application Insights Key: None\n",
      "Inferencing HTTP server version: azmlinfsrv/1.4.0\n",
      "CORS for the specified origins: None\n",
      "Create dedicated endpoint for health: None\n",
      "\n",
      "\n",
      "Server Routes\n",
      "---------------\n",
      "Liveness Probe: GET   127.0.0.1:31311/\n",
      "Score:          POST  127.0.0.1:31311/score\n",
      "\n",
      "2025-04-04 05:43:16,152 W [129] azmlinfsrv - Found extra keys in the config file that are not supported by the server.\n",
      "Extra keys = ['AZUREML_ENTRY_SCRIPT', 'SERVICE_NAME', 'WORKSPACE_NAME', 'SCORING_TIMEOUT_MS', 'AZUREML_MODEL_DIR', 'HOSTNAME']\n",
      "Initializing logger\n",
      "2025-04-04 05:43:16,464 I [129] azmlinfsrv - Starting up app insights client\n",
      "2025-04-04 05:43:18,471 I [129] azmlinfsrv.user_script - Found user script at /var/azureml-app/score.py\n",
      "2025-04-04 05:43:18,472 I [129] azmlinfsrv.user_script - run() is not decorated. Server will invoke it with the input in JSON string.\n",
      "2025-04-04 05:43:18,472 I [129] azmlinfsrv.user_script - Invoking user's init function\n",
      "2025-04-04 05:43:18,472 I [129] azmlinfsrv.print - [INFO] Loading model and scaler...\n",
      "2025-04-04 05:43:18,473 I [129] azmlinfsrv.print - [INFO] NumPy version: 1.23.5\n",
      "2025-04-04 05:43:18,473 I [129] azmlinfsrv.print - [INFO] Scikit-learn version: 1.4.2\n",
      "2025-04-04 05:43:18,474 I [129] azmlinfsrv.print - [INFO] Loading model from /var/azureml-app/azureml-models/model/1/best_model.pkl\n",
      "2025-04-04 05:43:18,650 I [129] azmlinfsrv.print - [ERROR] Failed to load model or scaler: __randomstate_ctor() takes from 0 to 1 positional arguments but 2 were given\n",
      "Traceback (most recent call last):\n",
      "  File \"/var/azureml-app/score.py\", line 56, in init\n",
      "    model = joblib.load(model_path)\n",
      "  File \"/azureml-envs/azureml_b64eb7c138348198653a4668ab6e818b/lib/python3.9/site-packages/joblib/numpy_pickle.py\", line 658, in load\n",
      "    obj = _unpickle(fobj, filename, mmap_mode)\n",
      "  File \"/azureml-envs/azureml_b64eb7c138348198653a4668ab6e818b/lib/python3.9/site-packages/joblib/numpy_pickle.py\", line 577, in _unpickle\n",
      "    obj = unpickler.load()\n",
      "  File \"/azureml-envs/azureml_b64eb7c138348198653a4668ab6e818b/lib/python3.9/pickle.py\", line 1212, in load\n",
      "    dispatch[key[0]](self)\n",
      "  File \"/azureml-envs/azureml_b64eb7c138348198653a4668ab6e818b/lib/python3.9/site-packages/joblib/numpy_pickle.py\", line 415, in load_build\n",
      "    self.stack.append(array_wrapper.read(self))\n",
      "  File \"/azureml-envs/azureml_b64eb7c138348198653a4668ab6e818b/lib/python3.9/site-packages/joblib/numpy_pickle.py\", line 252, in read\n",
      "    array = self.read_array(unpickler)\n",
      "  File \"/azureml-envs/azureml_b64eb7c138348198653a4668ab6e818b/lib/python3.9/site-packages/joblib/numpy_pickle.py\", line 152, in read_array\n",
      "    array = pickle.load(unpickler.file_handle)\n",
      "TypeError: __randomstate_ctor() takes from 0 to 1 positional arguments but 2 were given\n",
      "2025-04-04 05:43:18,653 I [129] azmlinfsrv.user_script - Users's init has completed successfully\n",
      "2025-04-04 05:43:18,654 I [129] azmlinfsrv.swagger - Swaggers are prepared for the following versions: [2, 3, 3.1].\n",
      "2025-04-04 05:43:18,654 I [129] azmlinfsrv - Scoring timeout is set to 60000\n",
      "2025-04-04 05:43:18,654 I [129] azmlinfsrv - Worker with pid 129 ready for serving traffic\n",
      "2025-04-04 05:43:18,723 W [129] azmlinfsrv - x-ms-request-id header has been deprecated and will be removed from future versions of the server. Please use x-ms-client-request-id.\n",
      "2025-04-04 05:43:18,725 I [129] gunicorn.access - 127.0.0.1 - - [04/Apr/2025:05:43:18 +0000] \"GET / HTTP/1.0\" 200 7 \"-\" \"Go-http-client/1.1\"\n",
      "2025-04-04 05:43:18,735 W [129] azmlinfsrv - x-ms-request-id header has been deprecated and will be removed from future versions of the server. Please use x-ms-client-request-id.\n",
      "2025-04-04 05:43:18,735 I [129] azmlinfsrv - GET /swagger.json 200 0.471ms 2192\n",
      "2025-04-04 05:43:18,736 I [129] gunicorn.access - 127.0.0.1 - - [04/Apr/2025:05:43:18 +0000] \"GET /swagger.json HTTP/1.0\" 200 2192 \"-\" \"Go-http-client/1.1\"\n",
      "2025-04-04 05:46:16,592 W [129] azmlinfsrv - x-ms-request-id header has been deprecated and will be removed from future versions of the server. Please use x-ms-client-request-id.\n",
      "2025-04-04 05:46:16,593 I [129] gunicorn.access - 127.0.0.1 - - [04/Apr/2025:05:46:16 +0000] \"GET / HTTP/1.0\" 200 7 \"-\" \"Go-http-client/1.1\"\n",
      "2025-04-04 05:46:16,596 W [129] azmlinfsrv - x-ms-request-id header has been deprecated and will be removed from future versions of the server. Please use x-ms-client-request-id.\n",
      "2025-04-04 05:46:16,597 I [129] azmlinfsrv - GET /swagger.json 200 0.383ms 2192\n",
      "2025-04-04 05:46:16,597 I [129] gunicorn.access - 127.0.0.1 - - [04/Apr/2025:05:46:16 +0000] \"GET /swagger.json HTTP/1.0\" 200 2192 \"-\" \"Go-http-client/1.1\"\n",
      "2025-04-04 05:46:34,500 W [129] azmlinfsrv - x-ms-request-id header has been deprecated and will be removed from future versions of the server. Please use x-ms-client-request-id.\n",
      "2025-04-04 05:46:34,501 I [129] azmlinfsrv.print - [ERROR] Unexpected error in run(): [ERROR] Model or scaler not initialized. Check logs for errors. Traceback (most recent call last):\n",
      "  File \"/var/azureml-app/score.py\", line 76, in run\n",
      "    raise RuntimeError(\"[ERROR] Model or scaler not initialized. Check logs for errors.\")\n",
      "RuntimeError: [ERROR] Model or scaler not initialized. Check logs for errors.\n",
      "\n",
      "2025-04-04 05:46:34,501 I [129] azmlinfsrv - POST /score 200 1.196ms 393\n",
      "2025-04-04 05:46:34,502 I [129] gunicorn.access - 127.0.0.1 - - [04/Apr/2025:05:46:34 +0000] \"POST /score HTTP/1.0\" 200 393 \"-\" \"python-requests/2.32.3\"\n",
      "\n"
     ]
    }
   ],
   "source": [
    "print(service.get_logs())\n"
   ]
  },
  {
   "cell_type": "code",
   "execution_count": 4,
   "metadata": {},
   "outputs": [
    {
     "ename": "NameError",
     "evalue": "name 'service' is not defined",
     "output_type": "error",
     "traceback": [
      "\u001b[31m---------------------------------------------------------------------------\u001b[39m",
      "\u001b[31mNameError\u001b[39m                                 Traceback (most recent call last)",
      "\u001b[36mCell\u001b[39m\u001b[36m \u001b[39m\u001b[32mIn[4]\u001b[39m\u001b[32m, line 1\u001b[39m\n\u001b[32m----> \u001b[39m\u001b[32m1\u001b[39m \u001b[43mservice\u001b[49m.delete()\n",
      "\u001b[31mNameError\u001b[39m: name 'service' is not defined"
     ]
    }
   ],
   "source": [
    "service.delete()\n"
   ]
  },
  {
   "cell_type": "code",
   "execution_count": 12,
   "metadata": {},
   "outputs": [
    {
     "name": "stdout",
     "output_type": "stream",
     "text": [
      "Collecting numpy==1.26.4\n",
      "  Using cached numpy-1.26.4-cp311-cp311-win_amd64.whl.metadata (61 kB)\n",
      "Requirement already satisfied: scikit-learn==1.4.2 in c:\\users\\avril\\octavo_semestre\\repositorio_actividades_bloque_final\\actividades_cc\\act_semana_2\\.venv\\lib\\site-packages (1.4.2)\n",
      "Requirement already satisfied: joblib in c:\\users\\avril\\octavo_semestre\\repositorio_actividades_bloque_final\\actividades_cc\\act_semana_2\\.venv\\lib\\site-packages (1.4.2)\n",
      "Requirement already satisfied: pandas in c:\\users\\avril\\octavo_semestre\\repositorio_actividades_bloque_final\\actividades_cc\\act_semana_2\\.venv\\lib\\site-packages (2.2.3)\n",
      "Requirement already satisfied: scipy>=1.6.0 in c:\\users\\avril\\octavo_semestre\\repositorio_actividades_bloque_final\\actividades_cc\\act_semana_2\\.venv\\lib\\site-packages (from scikit-learn==1.4.2) (1.15.2)\n",
      "Requirement already satisfied: threadpoolctl>=2.0.0 in c:\\users\\avril\\octavo_semestre\\repositorio_actividades_bloque_final\\actividades_cc\\act_semana_2\\.venv\\lib\\site-packages (from scikit-learn==1.4.2) (3.6.0)\n",
      "Requirement already satisfied: python-dateutil>=2.8.2 in c:\\users\\avril\\octavo_semestre\\repositorio_actividades_bloque_final\\actividades_cc\\act_semana_2\\.venv\\lib\\site-packages (from pandas) (2.9.0.post0)\n",
      "Requirement already satisfied: pytz>=2020.1 in c:\\users\\avril\\octavo_semestre\\repositorio_actividades_bloque_final\\actividades_cc\\act_semana_2\\.venv\\lib\\site-packages (from pandas) (2025.2)\n",
      "Requirement already satisfied: tzdata>=2022.7 in c:\\users\\avril\\octavo_semestre\\repositorio_actividades_bloque_final\\actividades_cc\\act_semana_2\\.venv\\lib\\site-packages (from pandas) (2025.2)\n",
      "Requirement already satisfied: six>=1.5 in c:\\users\\avril\\octavo_semestre\\repositorio_actividades_bloque_final\\actividades_cc\\act_semana_2\\.venv\\lib\\site-packages (from python-dateutil>=2.8.2->pandas) (1.17.0)\n",
      "Using cached numpy-1.26.4-cp311-cp311-win_amd64.whl (15.8 MB)\n",
      "Installing collected packages: numpy\n",
      "  Attempting uninstall: numpy\n",
      "    Found existing installation: numpy 1.23.5\n",
      "    Uninstalling numpy-1.23.5:\n",
      "      Successfully uninstalled numpy-1.23.5\n",
      "Successfully installed numpy-1.26.4\n",
      "Note: you may need to restart the kernel to use updated packages.\n"
     ]
    },
    {
     "name": "stderr",
     "output_type": "stream",
     "text": [
      "ERROR: pip's dependency resolver does not currently take into account all the packages that are installed. This behaviour is the source of the following dependency conflicts.\n",
      "azureml-dataset-runtime 1.59.0 requires numpy!=1.19.4,<1.24; sys_platform == \"win32\", but you have numpy 1.26.4 which is incompatible.\n",
      "\n",
      "[notice] A new release of pip is available: 24.0 -> 25.0.1\n",
      "[notice] To update, run: python.exe -m pip install --upgrade pip\n"
     ]
    }
   ],
   "source": [
    "pip install numpy==1.26.4 scikit-learn==1.4.2  joblib pandas\n"
   ]
  },
  {
   "cell_type": "code",
   "execution_count": 13,
   "metadata": {},
   "outputs": [
    {
     "name": "stdout",
     "output_type": "stream",
     "text": [
      "Usando scikit-learn versión: 1.4.2\n",
      "✅ Modelo cargado exitosamente\n"
     ]
    }
   ],
   "source": [
    "import joblib\n",
    "import sklearn\n",
    "\n",
    "print(f\"Usando scikit-learn versión: {sklearn.__version__}\")\n",
    "\n",
    "try:\n",
    "    model = joblib.load(\"../scaler.pkl\")\n",
    "    print(\"✅ Modelo cargado exitosamente\")\n",
    "except Exception as e:\n",
    "    print(f\"❌ Error al cargar el modelo: {e}\")\n"
   ]
  },
  {
   "cell_type": "code",
   "execution_count": 18,
   "metadata": {},
   "outputs": [
    {
     "name": "stdout",
     "output_type": "stream",
     "text": [
      "^C\n",
      "Note: you may need to restart the kernel to use updated packages.\n"
     ]
    }
   ],
   "source": [
    "pip uninstall scikit-learn\n"
   ]
  },
  {
   "cell_type": "code",
   "execution_count": 14,
   "metadata": {},
   "outputs": [
    {
     "name": "stdout",
     "output_type": "stream",
     "text": [
      "Usando scikit-learn versión: 1.4.2\n",
      "Usando numpy versión: 1.26.4\n",
      "✅ Modelo cargado exitosamente\n"
     ]
    }
   ],
   "source": [
    "import joblib\n",
    "import sklearn\n",
    "import traceback\n",
    "import numpy\n",
    "print(f\"Usando scikit-learn versión: {sklearn.__version__}\")\n",
    "\n",
    "print(f\"Usando numpy versión: {numpy.__version__}\")\n",
    "\n",
    "try:\n",
    "    # Intenta cargar el modelo\n",
    "    model = joblib.load(\"../best_model.pkl\")\n",
    "    print(\"✅ Modelo cargado exitosamente\")\n",
    "except Exception as e:\n",
    "    # Si ocurre un error, muestra el mensaje de error y la traza completa\n",
    "    print(f\"❌ Error al cargar el modelo: {e}\")\n",
    "    traceback.print_exc()  # Esto imprimirá la traza completa del error\n"
   ]
  },
  {
   "cell_type": "code",
   "execution_count": null,
   "metadata": {},
   "outputs": [],
   "source": []
  }
 ],
 "metadata": {
  "kernelspec": {
   "display_name": ".venv",
   "language": "python",
   "name": "python3"
  },
  "language_info": {
   "codemirror_mode": {
    "name": "ipython",
    "version": 3
   },
   "file_extension": ".py",
   "mimetype": "text/x-python",
   "name": "python",
   "nbconvert_exporter": "python",
   "pygments_lexer": "ipython3",
   "version": "3.11.9"
  }
 },
 "nbformat": 4,
 "nbformat_minor": 2
}
