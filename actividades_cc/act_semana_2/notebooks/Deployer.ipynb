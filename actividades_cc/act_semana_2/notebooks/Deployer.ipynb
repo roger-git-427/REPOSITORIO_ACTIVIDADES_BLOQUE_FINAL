{
 "cells": [
  {
   "cell_type": "markdown",
   "metadata": {},
   "source": [
    "ESQUELETO:\n",
    "\n",
    "Este es el archivo para subir el modelo a la nube.\n",
    "\n",
    "\n",
    "CÓMO FUNCIONA:\n",
    "\n",
    "1. Tomar un modelo ya realizado.\n",
    "\n",
    "2. Lo sube a la nube.\n",
    "\n",
    "ASEGÚRENSE DE QUE SE COORDINAN LO NECESARIO PARA QUE LOS NOMBRES COINCIDAN (no es de chill cambiar el estándar xd)."
   ]
  },
  {
   "cell_type": "code",
   "execution_count": 25,
   "metadata": {},
   "outputs": [
    {
     "name": "stdout",
     "output_type": "stream",
     "text": [
      "Requirement already satisfied: numpy==1.23.5 in c:\\users\\vhgar\\source\\repos\\itesm\\ma3001b\\jesus-nube\\act2\\repositorio_actividades_bloque_final\\actividades_cc\\act_semana_2\\.venv\\lib\\site-packages (1.23.5)\n",
      "Requirement already satisfied: scikit-learn==1.4.2 in c:\\users\\vhgar\\source\\repos\\itesm\\ma3001b\\jesus-nube\\act2\\repositorio_actividades_bloque_final\\actividades_cc\\act_semana_2\\.venv\\lib\\site-packages (1.4.2)\n",
      "Requirement already satisfied: joblib in c:\\users\\vhgar\\source\\repos\\itesm\\ma3001b\\jesus-nube\\act2\\repositorio_actividades_bloque_final\\actividades_cc\\act_semana_2\\.venv\\lib\\site-packages (1.4.2)\n",
      "Requirement already satisfied: pandas in c:\\users\\vhgar\\source\\repos\\itesm\\ma3001b\\jesus-nube\\act2\\repositorio_actividades_bloque_final\\actividades_cc\\act_semana_2\\.venv\\lib\\site-packages (2.2.3)\n",
      "Requirement already satisfied: scipy>=1.6.0 in c:\\users\\vhgar\\source\\repos\\itesm\\ma3001b\\jesus-nube\\act2\\repositorio_actividades_bloque_final\\actividades_cc\\act_semana_2\\.venv\\lib\\site-packages (from scikit-learn==1.4.2) (1.15.2)\n",
      "Requirement already satisfied: threadpoolctl>=2.0.0 in c:\\users\\vhgar\\source\\repos\\itesm\\ma3001b\\jesus-nube\\act2\\repositorio_actividades_bloque_final\\actividades_cc\\act_semana_2\\.venv\\lib\\site-packages (from scikit-learn==1.4.2) (3.6.0)\n",
      "Requirement already satisfied: python-dateutil>=2.8.2 in c:\\users\\vhgar\\source\\repos\\itesm\\ma3001b\\jesus-nube\\act2\\repositorio_actividades_bloque_final\\actividades_cc\\act_semana_2\\.venv\\lib\\site-packages (from pandas) (2.9.0.post0)\n",
      "Requirement already satisfied: pytz>=2020.1 in c:\\users\\vhgar\\source\\repos\\itesm\\ma3001b\\jesus-nube\\act2\\repositorio_actividades_bloque_final\\actividades_cc\\act_semana_2\\.venv\\lib\\site-packages (from pandas) (2025.2)\n",
      "Requirement already satisfied: tzdata>=2022.7 in c:\\users\\vhgar\\source\\repos\\itesm\\ma3001b\\jesus-nube\\act2\\repositorio_actividades_bloque_final\\actividades_cc\\act_semana_2\\.venv\\lib\\site-packages (from pandas) (2025.2)\n",
      "Requirement already satisfied: six>=1.5 in c:\\users\\vhgar\\source\\repos\\itesm\\ma3001b\\jesus-nube\\act2\\repositorio_actividades_bloque_final\\actividades_cc\\act_semana_2\\.venv\\lib\\site-packages (from python-dateutil>=2.8.2->pandas) (1.17.0)\n",
      "Note: you may need to restart the kernel to use updated packages.\n"
     ]
    }
   ],
   "source": [
    "pip install numpy==1.23.5 scikit-learn==1.4.2  joblib pandas\n"
   ]
  },
  {
   "cell_type": "code",
   "execution_count": 3,
   "metadata": {},
   "outputs": [],
   "source": [
    "\n",
    "import json\n",
    "\n",
    "#GETTING MY ID:\n",
    "id = open('../id_CONFIDENTIAL.json', 'r')\n",
    "mi = json.load(id)\n",
    "my_id = mi[\"my_id\"]\n",
    "#my_id"
   ]
  },
  {
   "cell_type": "code",
   "execution_count": 2,
   "metadata": {},
   "outputs": [
    {
     "name": "stdout",
     "output_type": "stream",
     "text": [
      "Requirement already satisfied: pip==24.0 in c:\\program files\\windowsapps\\pythonsoftwarefoundation.python.3.11_3.11.2544.0_x64__qbz5n2kfra8p0\\lib\\site-packages (24.0)\n"
     ]
    },
    {
     "name": "stderr",
     "output_type": "stream",
     "text": [
      "\n",
      "[notice] A new release of pip is available: 24.0 -> 25.0.1\n",
      "[notice] To update, run: C:\\Users\\vhgar\\AppData\\Local\\Microsoft\\WindowsApps\\PythonSoftwareFoundation.Python.3.11_qbz5n2kfra8p0\\python.exe -m pip install --upgrade pip\n"
     ]
    }
   ],
   "source": [
    "!python3 -m pip install pip==24.0\n"
   ]
  },
  {
   "cell_type": "code",
   "execution_count": 3,
   "metadata": {},
   "outputs": [
    {
     "name": "stdout",
     "output_type": "stream",
     "text": [
      "Python 3.11.9\n"
     ]
    }
   ],
   "source": [
    "!python --version"
   ]
  },
  {
   "cell_type": "code",
   "execution_count": 4,
   "metadata": {},
   "outputs": [
    {
     "name": "stdout",
     "output_type": "stream",
     "text": [
      "Requirement already satisfied: azureml-sdk in c:\\users\\vhgar\\source\\repos\\itesm\\ma3001b\\jesus-nube\\act2\\repositorio_actividades_bloque_final\\actividades_cc\\act_semana_2\\.venv\\lib\\site-packages (1.59.0)\n",
      "Requirement already satisfied: azureml-core~=1.59.0 in c:\\users\\vhgar\\source\\repos\\itesm\\ma3001b\\jesus-nube\\act2\\repositorio_actividades_bloque_final\\actividades_cc\\act_semana_2\\.venv\\lib\\site-packages (from azureml-sdk) (1.59.0.post2)\n",
      "Requirement already satisfied: azureml-dataset-runtime~=1.59.0 in c:\\users\\vhgar\\source\\repos\\itesm\\ma3001b\\jesus-nube\\act2\\repositorio_actividades_bloque_final\\actividades_cc\\act_semana_2\\.venv\\lib\\site-packages (from azureml-dataset-runtime[fuse]~=1.59.0->azureml-sdk) (1.59.0)\n",
      "Requirement already satisfied: azureml-train-core~=1.59.0 in c:\\users\\vhgar\\source\\repos\\itesm\\ma3001b\\jesus-nube\\act2\\repositorio_actividades_bloque_final\\actividades_cc\\act_semana_2\\.venv\\lib\\site-packages (from azureml-sdk) (1.59.0)\n",
      "Requirement already satisfied: azureml-train-automl-client~=1.59.0 in c:\\users\\vhgar\\source\\repos\\itesm\\ma3001b\\jesus-nube\\act2\\repositorio_actividades_bloque_final\\actividades_cc\\act_semana_2\\.venv\\lib\\site-packages (from azureml-sdk) (1.59.0)\n",
      "Requirement already satisfied: azureml-pipeline~=1.59.0 in c:\\users\\vhgar\\source\\repos\\itesm\\ma3001b\\jesus-nube\\act2\\repositorio_actividades_bloque_final\\actividades_cc\\act_semana_2\\.venv\\lib\\site-packages (from azureml-sdk) (1.59.0)\n",
      "Requirement already satisfied: pytz in c:\\users\\vhgar\\source\\repos\\itesm\\ma3001b\\jesus-nube\\act2\\repositorio_actividades_bloque_final\\actividades_cc\\act_semana_2\\.venv\\lib\\site-packages (from azureml-core~=1.59.0->azureml-sdk) (2025.2)\n",
      "Requirement already satisfied: backports.tempfile in c:\\users\\vhgar\\source\\repos\\itesm\\ma3001b\\jesus-nube\\act2\\repositorio_actividades_bloque_final\\actividades_cc\\act_semana_2\\.venv\\lib\\site-packages (from azureml-core~=1.59.0->azureml-sdk) (1.0)\n",
      "Requirement already satisfied: pathspec<1.0.0 in c:\\users\\vhgar\\source\\repos\\itesm\\ma3001b\\jesus-nube\\act2\\repositorio_actividades_bloque_final\\actividades_cc\\act_semana_2\\.venv\\lib\\site-packages (from azureml-core~=1.59.0->azureml-sdk) (0.12.1)\n",
      "Requirement already satisfied: requests<3.0.0,>=2.19.1 in c:\\users\\vhgar\\source\\repos\\itesm\\ma3001b\\jesus-nube\\act2\\repositorio_actividades_bloque_final\\actividades_cc\\act_semana_2\\.venv\\lib\\site-packages (from requests[socks]<3.0.0,>=2.19.1->azureml-core~=1.59.0->azureml-sdk) (2.32.3)\n",
      "Requirement already satisfied: msal<2.0.0,>=1.15.0 in c:\\users\\vhgar\\source\\repos\\itesm\\ma3001b\\jesus-nube\\act2\\repositorio_actividades_bloque_final\\actividades_cc\\act_semana_2\\.venv\\lib\\site-packages (from azureml-core~=1.59.0->azureml-sdk) (1.32.0)\n",
      "Requirement already satisfied: msal-extensions<=2.0.0,>=0.3.0 in c:\\users\\vhgar\\source\\repos\\itesm\\ma3001b\\jesus-nube\\act2\\repositorio_actividades_bloque_final\\actividades_cc\\act_semana_2\\.venv\\lib\\site-packages (from azureml-core~=1.59.0->azureml-sdk) (1.3.1)\n",
      "Requirement already satisfied: knack<0.13.0 in c:\\users\\vhgar\\source\\repos\\itesm\\ma3001b\\jesus-nube\\act2\\repositorio_actividades_bloque_final\\actividades_cc\\act_semana_2\\.venv\\lib\\site-packages (from azureml-core~=1.59.0->azureml-sdk) (0.12.0)\n",
      "Requirement already satisfied: azure-core<2.0.0 in c:\\users\\vhgar\\source\\repos\\itesm\\ma3001b\\jesus-nube\\act2\\repositorio_actividades_bloque_final\\actividades_cc\\act_semana_2\\.venv\\lib\\site-packages (from azureml-core~=1.59.0->azureml-sdk) (1.33.0)\n",
      "Requirement already satisfied: pkginfo in c:\\users\\vhgar\\source\\repos\\itesm\\ma3001b\\jesus-nube\\act2\\repositorio_actividades_bloque_final\\actividades_cc\\act_semana_2\\.venv\\lib\\site-packages (from azureml-core~=1.59.0->azureml-sdk) (1.12.1.2)\n",
      "Requirement already satisfied: argcomplete<4 in c:\\users\\vhgar\\source\\repos\\itesm\\ma3001b\\jesus-nube\\act2\\repositorio_actividades_bloque_final\\actividades_cc\\act_semana_2\\.venv\\lib\\site-packages (from azureml-core~=1.59.0->azureml-sdk) (3.6.2)\n",
      "Requirement already satisfied: humanfriendly<11.0,>=4.7 in c:\\users\\vhgar\\source\\repos\\itesm\\ma3001b\\jesus-nube\\act2\\repositorio_actividades_bloque_final\\actividades_cc\\act_semana_2\\.venv\\lib\\site-packages (from azureml-core~=1.59.0->azureml-sdk) (10.0)\n",
      "Requirement already satisfied: paramiko<4.0.0,>=2.0.8 in c:\\users\\vhgar\\source\\repos\\itesm\\ma3001b\\jesus-nube\\act2\\repositorio_actividades_bloque_final\\actividades_cc\\act_semana_2\\.venv\\lib\\site-packages (from azureml-core~=1.59.0->azureml-sdk) (3.5.1)\n",
      "Requirement already satisfied: azure-mgmt-resource<=24.0.0,>=15.0.0 in c:\\users\\vhgar\\source\\repos\\itesm\\ma3001b\\jesus-nube\\act2\\repositorio_actividades_bloque_final\\actividades_cc\\act_semana_2\\.venv\\lib\\site-packages (from azureml-core~=1.59.0->azureml-sdk) (23.3.0)\n",
      "Requirement already satisfied: azure-mgmt-containerregistry<11,>=8.2.0 in c:\\users\\vhgar\\source\\repos\\itesm\\ma3001b\\jesus-nube\\act2\\repositorio_actividades_bloque_final\\actividades_cc\\act_semana_2\\.venv\\lib\\site-packages (from azureml-core~=1.59.0->azureml-sdk) (10.3.0)\n",
      "Requirement already satisfied: azure-mgmt-storage<=22.0.0,>=16.0.0 in c:\\users\\vhgar\\source\\repos\\itesm\\ma3001b\\jesus-nube\\act2\\repositorio_actividades_bloque_final\\actividades_cc\\act_semana_2\\.venv\\lib\\site-packages (from azureml-core~=1.59.0->azureml-sdk) (22.0.0)\n",
      "Requirement already satisfied: azure-mgmt-keyvault<11.0.0,>=0.40.0 in c:\\users\\vhgar\\source\\repos\\itesm\\ma3001b\\jesus-nube\\act2\\repositorio_actividades_bloque_final\\actividades_cc\\act_semana_2\\.venv\\lib\\site-packages (from azureml-core~=1.59.0->azureml-sdk) (10.3.1)\n",
      "Requirement already satisfied: azure-mgmt-authorization<5,>=0.40.0 in c:\\users\\vhgar\\source\\repos\\itesm\\ma3001b\\jesus-nube\\act2\\repositorio_actividades_bloque_final\\actividades_cc\\act_semana_2\\.venv\\lib\\site-packages (from azureml-core~=1.59.0->azureml-sdk) (4.0.0)\n",
      "Requirement already satisfied: azure-mgmt-network<=29.0.0 in c:\\users\\vhgar\\source\\repos\\itesm\\ma3001b\\jesus-nube\\act2\\repositorio_actividades_bloque_final\\actividades_cc\\act_semana_2\\.venv\\lib\\site-packages (from azureml-core~=1.59.0->azureml-sdk) (28.1.0)\n",
      "Requirement already satisfied: azure-graphrbac<1.0.0,>=0.40.0 in c:\\users\\vhgar\\source\\repos\\itesm\\ma3001b\\jesus-nube\\act2\\repositorio_actividades_bloque_final\\actividades_cc\\act_semana_2\\.venv\\lib\\site-packages (from azureml-core~=1.59.0->azureml-sdk) (0.61.2)\n",
      "Requirement already satisfied: azure-common<2.0.0,>=1.1.12 in c:\\users\\vhgar\\source\\repos\\itesm\\ma3001b\\jesus-nube\\act2\\repositorio_actividades_bloque_final\\actividades_cc\\act_semana_2\\.venv\\lib\\site-packages (from azureml-core~=1.59.0->azureml-sdk) (1.1.28)\n",
      "Requirement already satisfied: msrest<=0.7.1,>=0.5.1 in c:\\users\\vhgar\\source\\repos\\itesm\\ma3001b\\jesus-nube\\act2\\repositorio_actividades_bloque_final\\actividades_cc\\act_semana_2\\.venv\\lib\\site-packages (from azureml-core~=1.59.0->azureml-sdk) (0.7.1)\n",
      "Requirement already satisfied: msrestazure<=0.7,>=0.4.33 in c:\\users\\vhgar\\source\\repos\\itesm\\ma3001b\\jesus-nube\\act2\\repositorio_actividades_bloque_final\\actividades_cc\\act_semana_2\\.venv\\lib\\site-packages (from azureml-core~=1.59.0->azureml-sdk) (0.6.4.post1)\n",
      "Requirement already satisfied: urllib3<3.0.0,>1.26.17 in c:\\users\\vhgar\\source\\repos\\itesm\\ma3001b\\jesus-nube\\act2\\repositorio_actividades_bloque_final\\actividades_cc\\act_semana_2\\.venv\\lib\\site-packages (from azureml-core~=1.59.0->azureml-sdk) (2.3.0)\n",
      "Requirement already satisfied: packaging<=25.0,>=20.0 in c:\\users\\vhgar\\source\\repos\\itesm\\ma3001b\\jesus-nube\\act2\\repositorio_actividades_bloque_final\\actividades_cc\\act_semana_2\\.venv\\lib\\site-packages (from azureml-core~=1.59.0->azureml-sdk) (24.2)\n",
      "Requirement already satisfied: python-dateutil<3.0.0,>=2.7.3 in c:\\users\\vhgar\\source\\repos\\itesm\\ma3001b\\jesus-nube\\act2\\repositorio_actividades_bloque_final\\actividades_cc\\act_semana_2\\.venv\\lib\\site-packages (from azureml-core~=1.59.0->azureml-sdk) (2.9.0.post0)\n",
      "Requirement already satisfied: ndg-httpsclient<=0.5.1 in c:\\users\\vhgar\\source\\repos\\itesm\\ma3001b\\jesus-nube\\act2\\repositorio_actividades_bloque_final\\actividades_cc\\act_semana_2\\.venv\\lib\\site-packages (from azureml-core~=1.59.0->azureml-sdk) (0.5.1)\n",
      "Requirement already satisfied: SecretStorage<4.0.0 in c:\\users\\vhgar\\source\\repos\\itesm\\ma3001b\\jesus-nube\\act2\\repositorio_actividades_bloque_final\\actividades_cc\\act_semana_2\\.venv\\lib\\site-packages (from azureml-core~=1.59.0->azureml-sdk) (3.3.3)\n",
      "Requirement already satisfied: jsonpickle<5.0.0 in c:\\users\\vhgar\\source\\repos\\itesm\\ma3001b\\jesus-nube\\act2\\repositorio_actividades_bloque_final\\actividades_cc\\act_semana_2\\.venv\\lib\\site-packages (from azureml-core~=1.59.0->azureml-sdk) (4.0.5)\n",
      "Requirement already satisfied: contextlib2<22.0.0 in c:\\users\\vhgar\\source\\repos\\itesm\\ma3001b\\jesus-nube\\act2\\repositorio_actividades_bloque_final\\actividades_cc\\act_semana_2\\.venv\\lib\\site-packages (from azureml-core~=1.59.0->azureml-sdk) (21.6.0)\n",
      "Requirement already satisfied: docker<8.0.0 in c:\\users\\vhgar\\source\\repos\\itesm\\ma3001b\\jesus-nube\\act2\\repositorio_actividades_bloque_final\\actividades_cc\\act_semana_2\\.venv\\lib\\site-packages (from azureml-core~=1.59.0->azureml-sdk) (7.1.0)\n",
      "Requirement already satisfied: PyJWT<3.0.0 in c:\\users\\vhgar\\source\\repos\\itesm\\ma3001b\\jesus-nube\\act2\\repositorio_actividades_bloque_final\\actividades_cc\\act_semana_2\\.venv\\lib\\site-packages (from azureml-core~=1.59.0->azureml-sdk) (2.10.1)\n",
      "Requirement already satisfied: adal<=1.2.7,>=1.2.0 in c:\\users\\vhgar\\source\\repos\\itesm\\ma3001b\\jesus-nube\\act2\\repositorio_actividades_bloque_final\\actividades_cc\\act_semana_2\\.venv\\lib\\site-packages (from azureml-core~=1.59.0->azureml-sdk) (1.2.7)\n",
      "Requirement already satisfied: pyopenssl<25.0.0 in c:\\users\\vhgar\\source\\repos\\itesm\\ma3001b\\jesus-nube\\act2\\repositorio_actividades_bloque_final\\actividades_cc\\act_semana_2\\.venv\\lib\\site-packages (from azureml-core~=1.59.0->azureml-sdk) (24.3.0)\n",
      "Requirement already satisfied: jmespath<2.0.0 in c:\\users\\vhgar\\source\\repos\\itesm\\ma3001b\\jesus-nube\\act2\\repositorio_actividades_bloque_final\\actividades_cc\\act_semana_2\\.venv\\lib\\site-packages (from azureml-core~=1.59.0->azureml-sdk) (1.0.1)\n",
      "Requirement already satisfied: azureml-dataprep<5.2.0a,>=5.1.0a in c:\\users\\vhgar\\source\\repos\\itesm\\ma3001b\\jesus-nube\\act2\\repositorio_actividades_bloque_final\\actividades_cc\\act_semana_2\\.venv\\lib\\site-packages (from azureml-dataset-runtime~=1.59.0->azureml-dataset-runtime[fuse]~=1.59.0->azureml-sdk) (5.1.6)\n",
      "Requirement already satisfied: pyarrow>=0.17.0 in c:\\users\\vhgar\\source\\repos\\itesm\\ma3001b\\jesus-nube\\act2\\repositorio_actividades_bloque_final\\actividades_cc\\act_semana_2\\.venv\\lib\\site-packages (from azureml-dataset-runtime~=1.59.0->azureml-dataset-runtime[fuse]~=1.59.0->azureml-sdk) (19.0.1)\n",
      "Requirement already satisfied: numpy!=1.19.4,<1.24 in c:\\users\\vhgar\\source\\repos\\itesm\\ma3001b\\jesus-nube\\act2\\repositorio_actividades_bloque_final\\actividades_cc\\act_semana_2\\.venv\\lib\\site-packages (from azureml-dataset-runtime~=1.59.0->azureml-dataset-runtime[fuse]~=1.59.0->azureml-sdk) (1.23.5)\n",
      "Requirement already satisfied: fusepy<4.0.0,>=3.0.1 in c:\\users\\vhgar\\source\\repos\\itesm\\ma3001b\\jesus-nube\\act2\\repositorio_actividades_bloque_final\\actividades_cc\\act_semana_2\\.venv\\lib\\site-packages (from azureml-dataset-runtime[fuse]~=1.59.0->azureml-sdk) (3.0.1)\n",
      "Requirement already satisfied: azureml-pipeline-core~=1.59.0 in c:\\users\\vhgar\\source\\repos\\itesm\\ma3001b\\jesus-nube\\act2\\repositorio_actividades_bloque_final\\actividades_cc\\act_semana_2\\.venv\\lib\\site-packages (from azureml-pipeline~=1.59.0->azureml-sdk) (1.59.0)\n",
      "Requirement already satisfied: azureml-pipeline-steps~=1.59.0 in c:\\users\\vhgar\\source\\repos\\itesm\\ma3001b\\jesus-nube\\act2\\repositorio_actividades_bloque_final\\actividades_cc\\act_semana_2\\.venv\\lib\\site-packages (from azureml-pipeline~=1.59.0->azureml-sdk) (1.59.0)\n",
      "Requirement already satisfied: azureml-automl-core~=1.59.0 in c:\\users\\vhgar\\source\\repos\\itesm\\ma3001b\\jesus-nube\\act2\\repositorio_actividades_bloque_final\\actividades_cc\\act_semana_2\\.venv\\lib\\site-packages (from azureml-train-automl-client~=1.59.0->azureml-sdk) (1.59.0)\n",
      "Requirement already satisfied: azureml-telemetry~=1.59.0 in c:\\users\\vhgar\\source\\repos\\itesm\\ma3001b\\jesus-nube\\act2\\repositorio_actividades_bloque_final\\actividades_cc\\act_semana_2\\.venv\\lib\\site-packages (from azureml-train-automl-client~=1.59.0->azureml-sdk) (1.59.0)\n",
      "Requirement already satisfied: azureml-train-restclients-hyperdrive~=1.59.0 in c:\\users\\vhgar\\source\\repos\\itesm\\ma3001b\\jesus-nube\\act2\\repositorio_actividades_bloque_final\\actividades_cc\\act_semana_2\\.venv\\lib\\site-packages (from azureml-train-core~=1.59.0->azureml-sdk) (1.59.0)\n",
      "Requirement already satisfied: cryptography>=1.1.0 in c:\\users\\vhgar\\source\\repos\\itesm\\ma3001b\\jesus-nube\\act2\\repositorio_actividades_bloque_final\\actividades_cc\\act_semana_2\\.venv\\lib\\site-packages (from adal<=1.2.7,>=1.2.0->azureml-core~=1.59.0->azureml-sdk) (44.0.2)\n",
      "Requirement already satisfied: six>=1.11.0 in c:\\users\\vhgar\\source\\repos\\itesm\\ma3001b\\jesus-nube\\act2\\repositorio_actividades_bloque_final\\actividades_cc\\act_semana_2\\.venv\\lib\\site-packages (from azure-core<2.0.0->azureml-core~=1.59.0->azureml-sdk) (1.17.0)\n",
      "Requirement already satisfied: typing-extensions>=4.6.0 in c:\\users\\vhgar\\source\\repos\\itesm\\ma3001b\\jesus-nube\\act2\\repositorio_actividades_bloque_final\\actividades_cc\\act_semana_2\\.venv\\lib\\site-packages (from azure-core<2.0.0->azureml-core~=1.59.0->azureml-sdk) (4.13.1)\n",
      "Requirement already satisfied: isodate<1.0.0,>=0.6.1 in c:\\users\\vhgar\\source\\repos\\itesm\\ma3001b\\jesus-nube\\act2\\repositorio_actividades_bloque_final\\actividades_cc\\act_semana_2\\.venv\\lib\\site-packages (from azure-mgmt-authorization<5,>=0.40.0->azureml-core~=1.59.0->azureml-sdk) (0.7.2)\n",
      "Requirement already satisfied: azure-mgmt-core<2.0.0,>=1.3.2 in c:\\users\\vhgar\\source\\repos\\itesm\\ma3001b\\jesus-nube\\act2\\repositorio_actividades_bloque_final\\actividades_cc\\act_semana_2\\.venv\\lib\\site-packages (from azure-mgmt-authorization<5,>=0.40.0->azureml-core~=1.59.0->azureml-sdk) (1.5.0)\n",
      "Requirement already satisfied: importlib-metadata<=8.2.0 in c:\\users\\vhgar\\source\\repos\\itesm\\ma3001b\\jesus-nube\\act2\\repositorio_actividades_bloque_final\\actividades_cc\\act_semana_2\\.venv\\lib\\site-packages (from azureml-automl-core~=1.59.0->azureml-train-automl-client~=1.59.0->azureml-sdk) (8.2.0)\n",
      "Requirement already satisfied: importlib-resources<=6.4.0 in c:\\users\\vhgar\\source\\repos\\itesm\\ma3001b\\jesus-nube\\act2\\repositorio_actividades_bloque_final\\actividades_cc\\act_semana_2\\.venv\\lib\\site-packages (from azureml-automl-core~=1.59.0->azureml-train-automl-client~=1.59.0->azureml-sdk) (6.4.0)\n",
      "Requirement already satisfied: azureml-dataprep-native<42.0.0,>=41.0.0 in c:\\users\\vhgar\\source\\repos\\itesm\\ma3001b\\jesus-nube\\act2\\repositorio_actividades_bloque_final\\actividades_cc\\act_semana_2\\.venv\\lib\\site-packages (from azureml-dataprep<5.2.0a,>=5.1.0a->azureml-dataset-runtime~=1.59.0->azureml-dataset-runtime[fuse]~=1.59.0->azureml-sdk) (41.0.0)\n",
      "Requirement already satisfied: azureml-dataprep-rslex~=2.22.2dev0 in c:\\users\\vhgar\\source\\repos\\itesm\\ma3001b\\jesus-nube\\act2\\repositorio_actividades_bloque_final\\actividades_cc\\act_semana_2\\.venv\\lib\\site-packages (from azureml-dataprep<5.2.0a,>=5.1.0a->azureml-dataset-runtime~=1.59.0->azureml-dataset-runtime[fuse]~=1.59.0->azureml-sdk) (2.22.5)\n",
      "Requirement already satisfied: cloudpickle<3.0.0,>=1.1.0 in c:\\users\\vhgar\\source\\repos\\itesm\\ma3001b\\jesus-nube\\act2\\repositorio_actividades_bloque_final\\actividades_cc\\act_semana_2\\.venv\\lib\\site-packages (from azureml-dataprep<5.2.0a,>=5.1.0a->azureml-dataset-runtime~=1.59.0->azureml-dataset-runtime[fuse]~=1.59.0->azureml-sdk) (2.2.1)\n",
      "Requirement already satisfied: azure-identity>=1.7.0 in c:\\users\\vhgar\\source\\repos\\itesm\\ma3001b\\jesus-nube\\act2\\repositorio_actividades_bloque_final\\actividades_cc\\act_semana_2\\.venv\\lib\\site-packages (from azureml-dataprep<5.2.0a,>=5.1.0a->azureml-dataset-runtime~=1.59.0->azureml-dataset-runtime[fuse]~=1.59.0->azureml-sdk) (1.21.0)\n",
      "Requirement already satisfied: jsonschema in c:\\users\\vhgar\\source\\repos\\itesm\\ma3001b\\jesus-nube\\act2\\repositorio_actividades_bloque_final\\actividades_cc\\act_semana_2\\.venv\\lib\\site-packages (from azureml-dataprep<5.2.0a,>=5.1.0a->azureml-dataset-runtime~=1.59.0->azureml-dataset-runtime[fuse]~=1.59.0->azureml-sdk) (4.23.0)\n",
      "Requirement already satisfied: pyyaml<7.0.0,>=5.1.0 in c:\\users\\vhgar\\source\\repos\\itesm\\ma3001b\\jesus-nube\\act2\\repositorio_actividades_bloque_final\\actividades_cc\\act_semana_2\\.venv\\lib\\site-packages (from azureml-dataprep<5.2.0a,>=5.1.0a->azureml-dataset-runtime~=1.59.0->azureml-dataset-runtime[fuse]~=1.59.0->azureml-sdk) (6.0.2)\n",
      "Requirement already satisfied: applicationinsights in c:\\users\\vhgar\\source\\repos\\itesm\\ma3001b\\jesus-nube\\act2\\repositorio_actividades_bloque_final\\actividades_cc\\act_semana_2\\.venv\\lib\\site-packages (from azureml-telemetry~=1.59.0->azureml-train-automl-client~=1.59.0->azureml-sdk) (0.11.10)\n",
      "Requirement already satisfied: pywin32>=304 in c:\\users\\vhgar\\source\\repos\\itesm\\ma3001b\\jesus-nube\\act2\\repositorio_actividades_bloque_final\\actividades_cc\\act_semana_2\\.venv\\lib\\site-packages (from docker<8.0.0->azureml-core~=1.59.0->azureml-sdk) (310)\n",
      "Requirement already satisfied: pyreadline3 in c:\\users\\vhgar\\source\\repos\\itesm\\ma3001b\\jesus-nube\\act2\\repositorio_actividades_bloque_final\\actividades_cc\\act_semana_2\\.venv\\lib\\site-packages (from humanfriendly<11.0,>=4.7->azureml-core~=1.59.0->azureml-sdk) (3.5.4)\n",
      "Requirement already satisfied: pygments in c:\\users\\vhgar\\source\\repos\\itesm\\ma3001b\\jesus-nube\\act2\\repositorio_actividades_bloque_final\\actividades_cc\\act_semana_2\\.venv\\lib\\site-packages (from knack<0.13.0->azureml-core~=1.59.0->azureml-sdk) (2.19.1)\n",
      "Requirement already satisfied: tabulate in c:\\users\\vhgar\\source\\repos\\itesm\\ma3001b\\jesus-nube\\act2\\repositorio_actividades_bloque_final\\actividades_cc\\act_semana_2\\.venv\\lib\\site-packages (from knack<0.13.0->azureml-core~=1.59.0->azureml-sdk) (0.9.0)\n",
      "Requirement already satisfied: certifi>=2017.4.17 in c:\\users\\vhgar\\source\\repos\\itesm\\ma3001b\\jesus-nube\\act2\\repositorio_actividades_bloque_final\\actividades_cc\\act_semana_2\\.venv\\lib\\site-packages (from msrest<=0.7.1,>=0.5.1->azureml-core~=1.59.0->azureml-sdk) (2025.1.31)\n",
      "Requirement already satisfied: requests-oauthlib>=0.5.0 in c:\\users\\vhgar\\source\\repos\\itesm\\ma3001b\\jesus-nube\\act2\\repositorio_actividades_bloque_final\\actividades_cc\\act_semana_2\\.venv\\lib\\site-packages (from msrest<=0.7.1,>=0.5.1->azureml-core~=1.59.0->azureml-sdk) (2.0.0)\n",
      "Requirement already satisfied: pyasn1>=0.1.1 in c:\\users\\vhgar\\source\\repos\\itesm\\ma3001b\\jesus-nube\\act2\\repositorio_actividades_bloque_final\\actividades_cc\\act_semana_2\\.venv\\lib\\site-packages (from ndg-httpsclient<=0.5.1->azureml-core~=1.59.0->azureml-sdk) (0.6.1)\n",
      "Requirement already satisfied: bcrypt>=3.2 in c:\\users\\vhgar\\source\\repos\\itesm\\ma3001b\\jesus-nube\\act2\\repositorio_actividades_bloque_final\\actividades_cc\\act_semana_2\\.venv\\lib\\site-packages (from paramiko<4.0.0,>=2.0.8->azureml-core~=1.59.0->azureml-sdk) (4.3.0)\n",
      "Requirement already satisfied: pynacl>=1.5 in c:\\users\\vhgar\\source\\repos\\itesm\\ma3001b\\jesus-nube\\act2\\repositorio_actividades_bloque_final\\actividades_cc\\act_semana_2\\.venv\\lib\\site-packages (from paramiko<4.0.0,>=2.0.8->azureml-core~=1.59.0->azureml-sdk) (1.5.0)\n",
      "Requirement already satisfied: charset-normalizer<4,>=2 in c:\\users\\vhgar\\source\\repos\\itesm\\ma3001b\\jesus-nube\\act2\\repositorio_actividades_bloque_final\\actividades_cc\\act_semana_2\\.venv\\lib\\site-packages (from requests<3.0.0,>=2.19.1->requests[socks]<3.0.0,>=2.19.1->azureml-core~=1.59.0->azureml-sdk) (3.4.1)\n",
      "Requirement already satisfied: idna<4,>=2.5 in c:\\users\\vhgar\\source\\repos\\itesm\\ma3001b\\jesus-nube\\act2\\repositorio_actividades_bloque_final\\actividades_cc\\act_semana_2\\.venv\\lib\\site-packages (from requests<3.0.0,>=2.19.1->requests[socks]<3.0.0,>=2.19.1->azureml-core~=1.59.0->azureml-sdk) (3.10)\n",
      "Requirement already satisfied: PySocks!=1.5.7,>=1.5.6 in c:\\users\\vhgar\\source\\repos\\itesm\\ma3001b\\jesus-nube\\act2\\repositorio_actividades_bloque_final\\actividades_cc\\act_semana_2\\.venv\\lib\\site-packages (from requests[socks]<3.0.0,>=2.19.1->azureml-core~=1.59.0->azureml-sdk) (1.7.1)\n",
      "Requirement already satisfied: jeepney>=0.6 in c:\\users\\vhgar\\source\\repos\\itesm\\ma3001b\\jesus-nube\\act2\\repositorio_actividades_bloque_final\\actividades_cc\\act_semana_2\\.venv\\lib\\site-packages (from SecretStorage<4.0.0->azureml-core~=1.59.0->azureml-sdk) (0.9.0)\n",
      "Requirement already satisfied: backports.weakref in c:\\users\\vhgar\\source\\repos\\itesm\\ma3001b\\jesus-nube\\act2\\repositorio_actividades_bloque_final\\actividades_cc\\act_semana_2\\.venv\\lib\\site-packages (from backports.tempfile->azureml-core~=1.59.0->azureml-sdk) (1.0.post1)\n",
      "Requirement already satisfied: cffi>=1.12 in c:\\users\\vhgar\\source\\repos\\itesm\\ma3001b\\jesus-nube\\act2\\repositorio_actividades_bloque_final\\actividades_cc\\act_semana_2\\.venv\\lib\\site-packages (from cryptography>=1.1.0->adal<=1.2.7,>=1.2.0->azureml-core~=1.59.0->azureml-sdk) (1.17.1)\n",
      "Requirement already satisfied: zipp>=0.5 in c:\\users\\vhgar\\source\\repos\\itesm\\ma3001b\\jesus-nube\\act2\\repositorio_actividades_bloque_final\\actividades_cc\\act_semana_2\\.venv\\lib\\site-packages (from importlib-metadata<=8.2.0->azureml-automl-core~=1.59.0->azureml-train-automl-client~=1.59.0->azureml-sdk) (3.21.0)\n",
      "Requirement already satisfied: oauthlib>=3.0.0 in c:\\users\\vhgar\\source\\repos\\itesm\\ma3001b\\jesus-nube\\act2\\repositorio_actividades_bloque_final\\actividades_cc\\act_semana_2\\.venv\\lib\\site-packages (from requests-oauthlib>=0.5.0->msrest<=0.7.1,>=0.5.1->azureml-core~=1.59.0->azureml-sdk) (3.2.2)\n",
      "Requirement already satisfied: attrs>=22.2.0 in c:\\users\\vhgar\\source\\repos\\itesm\\ma3001b\\jesus-nube\\act2\\repositorio_actividades_bloque_final\\actividades_cc\\act_semana_2\\.venv\\lib\\site-packages (from jsonschema->azureml-dataprep<5.2.0a,>=5.1.0a->azureml-dataset-runtime~=1.59.0->azureml-dataset-runtime[fuse]~=1.59.0->azureml-sdk) (25.3.0)\n",
      "Requirement already satisfied: jsonschema-specifications>=2023.03.6 in c:\\users\\vhgar\\source\\repos\\itesm\\ma3001b\\jesus-nube\\act2\\repositorio_actividades_bloque_final\\actividades_cc\\act_semana_2\\.venv\\lib\\site-packages (from jsonschema->azureml-dataprep<5.2.0a,>=5.1.0a->azureml-dataset-runtime~=1.59.0->azureml-dataset-runtime[fuse]~=1.59.0->azureml-sdk) (2024.10.1)\n",
      "Requirement already satisfied: referencing>=0.28.4 in c:\\users\\vhgar\\source\\repos\\itesm\\ma3001b\\jesus-nube\\act2\\repositorio_actividades_bloque_final\\actividades_cc\\act_semana_2\\.venv\\lib\\site-packages (from jsonschema->azureml-dataprep<5.2.0a,>=5.1.0a->azureml-dataset-runtime~=1.59.0->azureml-dataset-runtime[fuse]~=1.59.0->azureml-sdk) (0.36.2)\n",
      "Requirement already satisfied: rpds-py>=0.7.1 in c:\\users\\vhgar\\source\\repos\\itesm\\ma3001b\\jesus-nube\\act2\\repositorio_actividades_bloque_final\\actividades_cc\\act_semana_2\\.venv\\lib\\site-packages (from jsonschema->azureml-dataprep<5.2.0a,>=5.1.0a->azureml-dataset-runtime~=1.59.0->azureml-dataset-runtime[fuse]~=1.59.0->azureml-sdk) (0.24.0)\n",
      "Requirement already satisfied: pycparser in c:\\users\\vhgar\\source\\repos\\itesm\\ma3001b\\jesus-nube\\act2\\repositorio_actividades_bloque_final\\actividades_cc\\act_semana_2\\.venv\\lib\\site-packages (from cffi>=1.12->cryptography>=1.1.0->adal<=1.2.7,>=1.2.0->azureml-core~=1.59.0->azureml-sdk) (2.22)\n"
     ]
    }
   ],
   "source": [
    "!pip install azureml-sdk"
   ]
  },
  {
   "cell_type": "code",
   "execution_count": 4,
   "metadata": {},
   "outputs": [
    {
     "ename": "WorkspaceException",
     "evalue": "WorkspaceException:\n\tMessage: Workspace with name 'workspace_final_final' already exists under resource group with name 'resource_group_bank_1_2_3_4'.\n\tInnerException None\n\tErrorResponse \n{\n    \"error\": {\n        \"message\": \"Workspace with name 'workspace_final_final' already exists under resource group with name 'resource_group_bank_1_2_3_4'.\"\n    }\n}",
     "output_type": "error",
     "traceback": [
      "\u001b[31m---------------------------------------------------------------------------\u001b[39m",
      "\u001b[31mWorkspaceException\u001b[39m                        Traceback (most recent call last)",
      "\u001b[36mCell\u001b[39m\u001b[36m \u001b[39m\u001b[32mIn[4]\u001b[39m\u001b[32m, line 4\u001b[39m\n\u001b[32m      1\u001b[39m \u001b[38;5;66;03m## STEP 1: Set up the workspace.\u001b[39;00m\n\u001b[32m      2\u001b[39m \u001b[38;5;28;01mfrom\u001b[39;00m\u001b[38;5;250m \u001b[39m\u001b[34;01mazureml\u001b[39;00m\u001b[34;01m.\u001b[39;00m\u001b[34;01mcore\u001b[39;00m\u001b[38;5;250m \u001b[39m\u001b[38;5;28;01mimport\u001b[39;00m Workspace\n\u001b[32m----> \u001b[39m\u001b[32m4\u001b[39m ws = \u001b[43mWorkspace\u001b[49m\u001b[43m.\u001b[49m\u001b[43mcreate\u001b[49m\u001b[43m(\u001b[49m\u001b[43mname\u001b[49m\u001b[43m=\u001b[49m\u001b[33;43m\"\u001b[39;49m\u001b[33;43mworkspace_final_final\u001b[39;49m\u001b[33;43m\"\u001b[39;49m\u001b[43m,\u001b[49m\n\u001b[32m      5\u001b[39m \u001b[43m                      \u001b[49m\u001b[43msubscription_id\u001b[49m\u001b[43m \u001b[49m\u001b[43m=\u001b[49m\u001b[43m \u001b[49m\u001b[43mmy_id\u001b[49m\u001b[43m,\u001b[49m\n\u001b[32m      6\u001b[39m \u001b[43m                      \u001b[49m\u001b[43mresource_group\u001b[49m\u001b[43m \u001b[49m\u001b[43m=\u001b[49m\u001b[43m \u001b[49m\u001b[33;43m\"\u001b[39;49m\u001b[33;43mresource_group_bank_1_2_3_4\u001b[39;49m\u001b[33;43m\"\u001b[39;49m\u001b[43m,\u001b[49m\n\u001b[32m      7\u001b[39m \u001b[43m                      \u001b[49m\u001b[43mlocation\u001b[49m\u001b[43m \u001b[49m\u001b[43m=\u001b[49m\u001b[43m \u001b[49m\u001b[33;43m\"\u001b[39;49m\u001b[33;43mcentralindia\u001b[39;49m\u001b[33;43m\"\u001b[39;49m\u001b[43m)\u001b[49m\n",
      "\u001b[36mFile \u001b[39m\u001b[32mc:\\Users\\vhgar\\source\\repos\\itesm\\ma3001b\\JESUS-NUBE\\act2\\REPOSITORIO_ACTIVIDADES_BLOQUE_FINAL\\actividades_cc\\act_semana_2\\.venv\\Lib\\site-packages\\azureml\\core\\workspace.py:546\u001b[39m, in \u001b[36mWorkspace.create\u001b[39m\u001b[34m(name, auth, subscription_id, resource_group, location, create_resource_group, sku, tags, friendly_name, storage_account, key_vault, app_insights, container_registry, adb_workspace, primary_user_assigned_identity, cmk_keyvault, resource_cmk_uri, hbi_workspace, default_cpu_compute_target, default_gpu_compute_target, private_endpoint_config, private_endpoint_auto_approval, exist_ok, show_output, user_assigned_identity_for_cmk_encryption, system_datastores_auth_mode, v1_legacy_mode)\u001b[39m\n\u001b[32m    541\u001b[39m     private_endpoint_config.vnet_subscription_id = private_endpoint_config.vnet_subscription_id \\\n\u001b[32m    542\u001b[39m         \u001b[38;5;28;01mif\u001b[39;00m private_endpoint_config.vnet_subscription_id \u001b[38;5;28;01melse\u001b[39;00m subscription_id\n\u001b[32m    543\u001b[39m     private_endpoint_config.vnet_resource_group = private_endpoint_config.vnet_resource_group \\\n\u001b[32m    544\u001b[39m         \u001b[38;5;28;01mif\u001b[39;00m private_endpoint_config.vnet_resource_group \u001b[38;5;28;01melse\u001b[39;00m resource_group\n\u001b[32m--> \u001b[39m\u001b[32m546\u001b[39m \u001b[38;5;28;01mreturn\u001b[39;00m \u001b[43mWorkspace\u001b[49m\u001b[43m.\u001b[49m\u001b[43m_create_legacy\u001b[49m\u001b[43m(\u001b[49m\n\u001b[32m    547\u001b[39m \u001b[43m    \u001b[49m\u001b[43mauth\u001b[49m\u001b[43m,\u001b[49m\n\u001b[32m    548\u001b[39m \u001b[43m    \u001b[49m\u001b[43msubscription_id\u001b[49m\u001b[43m,\u001b[49m\n\u001b[32m    549\u001b[39m \u001b[43m    \u001b[49m\u001b[43mresource_group\u001b[49m\u001b[43m,\u001b[49m\n\u001b[32m    550\u001b[39m \u001b[43m    \u001b[49m\u001b[43mname\u001b[49m\u001b[43m,\u001b[49m\n\u001b[32m    551\u001b[39m \u001b[43m    \u001b[49m\u001b[43mlocation\u001b[49m\u001b[43m=\u001b[49m\u001b[43mlocation\u001b[49m\u001b[43m,\u001b[49m\n\u001b[32m    552\u001b[39m \u001b[43m    \u001b[49m\u001b[43mcreate_resource_group\u001b[49m\u001b[43m=\u001b[49m\u001b[43mcreate_resource_group\u001b[49m\u001b[43m,\u001b[49m\n\u001b[32m    553\u001b[39m \u001b[43m    \u001b[49m\u001b[43msku\u001b[49m\u001b[43m=\u001b[49m\u001b[33;43m\"\u001b[39;49m\u001b[33;43mbasic\u001b[39;49m\u001b[33;43m\"\u001b[39;49m\u001b[43m,\u001b[49m\n\u001b[32m    554\u001b[39m \u001b[43m    \u001b[49m\u001b[43mtags\u001b[49m\u001b[43m=\u001b[49m\u001b[43mtags\u001b[49m\u001b[43m,\u001b[49m\n\u001b[32m    555\u001b[39m \u001b[43m    \u001b[49m\u001b[43mfriendly_name\u001b[49m\u001b[43m=\u001b[49m\u001b[43mfriendly_name\u001b[49m\u001b[43m,\u001b[49m\n\u001b[32m    556\u001b[39m \u001b[43m    \u001b[49m\u001b[43mstorage_account\u001b[49m\u001b[43m=\u001b[49m\u001b[43mstorage_account\u001b[49m\u001b[43m,\u001b[49m\n\u001b[32m    557\u001b[39m \u001b[43m    \u001b[49m\u001b[43mkey_vault\u001b[49m\u001b[43m=\u001b[49m\u001b[43mkey_vault\u001b[49m\u001b[43m,\u001b[49m\n\u001b[32m    558\u001b[39m \u001b[43m    \u001b[49m\u001b[43mapp_insights\u001b[49m\u001b[43m=\u001b[49m\u001b[43mapp_insights\u001b[49m\u001b[43m,\u001b[49m\n\u001b[32m    559\u001b[39m \u001b[43m    \u001b[49m\u001b[43mcontainer_registry\u001b[49m\u001b[43m=\u001b[49m\u001b[43mcontainer_registry\u001b[49m\u001b[43m,\u001b[49m\n\u001b[32m    560\u001b[39m \u001b[43m    \u001b[49m\u001b[43madb_workspace\u001b[49m\u001b[43m=\u001b[49m\u001b[43madb_workspace\u001b[49m\u001b[43m,\u001b[49m\n\u001b[32m    561\u001b[39m \u001b[43m    \u001b[49m\u001b[43mprimary_user_assigned_identity\u001b[49m\u001b[43m=\u001b[49m\u001b[43mprimary_user_assigned_identity\u001b[49m\u001b[43m,\u001b[49m\n\u001b[32m    562\u001b[39m \u001b[43m    \u001b[49m\u001b[43mcmk_keyvault\u001b[49m\u001b[43m=\u001b[49m\u001b[43mcmk_keyvault\u001b[49m\u001b[43m,\u001b[49m\n\u001b[32m    563\u001b[39m \u001b[43m    \u001b[49m\u001b[43mresource_cmk_uri\u001b[49m\u001b[43m=\u001b[49m\u001b[43mresource_cmk_uri\u001b[49m\u001b[43m,\u001b[49m\n\u001b[32m    564\u001b[39m \u001b[43m    \u001b[49m\u001b[43mhbi_workspace\u001b[49m\u001b[43m=\u001b[49m\u001b[43mhbi_workspace\u001b[49m\u001b[43m,\u001b[49m\n\u001b[32m    565\u001b[39m \u001b[43m    \u001b[49m\u001b[43mdefault_cpu_compute_target\u001b[49m\u001b[43m=\u001b[49m\u001b[43mdefault_cpu_compute_target\u001b[49m\u001b[43m,\u001b[49m\n\u001b[32m    566\u001b[39m \u001b[43m    \u001b[49m\u001b[43mdefault_gpu_compute_target\u001b[49m\u001b[43m=\u001b[49m\u001b[43mdefault_gpu_compute_target\u001b[49m\u001b[43m,\u001b[49m\n\u001b[32m    567\u001b[39m \u001b[43m    \u001b[49m\u001b[43mprivate_endpoint_config\u001b[49m\u001b[43m=\u001b[49m\u001b[43mprivate_endpoint_config\u001b[49m\u001b[43m,\u001b[49m\n\u001b[32m    568\u001b[39m \u001b[43m    \u001b[49m\u001b[43mprivate_endpoint_auto_approval\u001b[49m\u001b[43m=\u001b[49m\u001b[43mprivate_endpoint_auto_approval\u001b[49m\u001b[43m,\u001b[49m\n\u001b[32m    569\u001b[39m \u001b[43m    \u001b[49m\u001b[43mexist_ok\u001b[49m\u001b[43m=\u001b[49m\u001b[43mexist_ok\u001b[49m\u001b[43m,\u001b[49m\n\u001b[32m    570\u001b[39m \u001b[43m    \u001b[49m\u001b[43mshow_output\u001b[49m\u001b[43m=\u001b[49m\u001b[43mshow_output\u001b[49m\u001b[43m,\u001b[49m\n\u001b[32m    571\u001b[39m \u001b[43m    \u001b[49m\u001b[43muser_assigned_identity_for_cmk_encryption\u001b[49m\u001b[43m=\u001b[49m\u001b[43muser_assigned_identity_for_cmk_encryption\u001b[49m\u001b[43m,\u001b[49m\n\u001b[32m    572\u001b[39m \u001b[43m    \u001b[49m\u001b[43msystem_datastores_auth_mode\u001b[49m\u001b[43m=\u001b[49m\u001b[43msystem_datastores_auth_mode\u001b[49m\u001b[43m,\u001b[49m\n\u001b[32m    573\u001b[39m \u001b[43m    \u001b[49m\u001b[43mv1_legacy_mode\u001b[49m\u001b[43m=\u001b[49m\u001b[43mv1_legacy_mode\u001b[49m\u001b[43m)\u001b[49m\n",
      "\u001b[36mFile \u001b[39m\u001b[32mc:\\Users\\vhgar\\source\\repos\\itesm\\ma3001b\\JESUS-NUBE\\act2\\REPOSITORIO_ACTIVIDADES_BLOQUE_FINAL\\actividades_cc\\act_semana_2\\.venv\\Lib\\site-packages\\azureml\\core\\workspace.py:1684\u001b[39m, in \u001b[36mWorkspace._create_legacy\u001b[39m\u001b[34m(auth, subscription_id, resource_group_name, workspace_name, location, create_resource_group, sku, tags, friendly_name, storage_account, key_vault, app_insights, container_registry, adb_workspace, primary_user_assigned_identity, cmk_keyvault, resource_cmk_uri, hbi_workspace, default_cpu_compute_target, default_gpu_compute_target, private_endpoint_config, private_endpoint_auto_approval, exist_ok, show_output, user_assigned_identity_for_cmk_encryption, system_datastores_auth_mode, v1_legacy_mode)\u001b[39m\n\u001b[32m   1592\u001b[39m \u001b[38;5;129m@staticmethod\u001b[39m\n\u001b[32m   1593\u001b[39m \u001b[38;5;28;01mdef\u001b[39;00m\u001b[38;5;250m \u001b[39m\u001b[34m_create_legacy\u001b[39m(\n\u001b[32m   1594\u001b[39m         auth,\n\u001b[32m   (...)\u001b[39m\u001b[32m   1619\u001b[39m         system_datastores_auth_mode=\u001b[33m\"\u001b[39m\u001b[33maccessKey\u001b[39m\u001b[33m\"\u001b[39m,\n\u001b[32m   1620\u001b[39m         v1_legacy_mode=\u001b[38;5;28;01mNone\u001b[39;00m):\n\u001b[32m   1621\u001b[39m \u001b[38;5;250m    \u001b[39m\u001b[33;03m\"\"\"Create a workspace.\u001b[39;00m\n\u001b[32m   1622\u001b[39m \n\u001b[32m   1623\u001b[39m \u001b[33;03m    :param auth: Authentication object. For more details refer to https://aka.ms/aml-notebook-auth.\u001b[39;00m\n\u001b[32m   (...)\u001b[39m\u001b[32m   1682\u001b[39m \u001b[33;03m    :rtype: azureml.core.workspace.Workspace\u001b[39;00m\n\u001b[32m   1683\u001b[39m \u001b[33;03m    \"\"\"\u001b[39;00m\n\u001b[32m-> \u001b[39m\u001b[32m1684\u001b[39m     workspace_object_autorest = \u001b[43m_commands\u001b[49m\u001b[43m.\u001b[49m\u001b[43mcreate_or_update_workspace\u001b[49m\u001b[43m(\u001b[49m\n\u001b[32m   1685\u001b[39m \u001b[43m        \u001b[49m\u001b[43mauth\u001b[49m\u001b[43m,\u001b[49m\u001b[43m \u001b[49m\u001b[43mresource_group_name\u001b[49m\u001b[43m,\u001b[49m\u001b[43m \u001b[49m\u001b[43mworkspace_name\u001b[49m\u001b[43m,\u001b[49m\u001b[43m \u001b[49m\u001b[43msubscription_id\u001b[49m\u001b[43m,\u001b[49m\u001b[43m \u001b[49m\u001b[43mlocation\u001b[49m\u001b[43m=\u001b[49m\u001b[43mlocation\u001b[49m\u001b[43m,\u001b[49m\n\u001b[32m   1686\u001b[39m \u001b[43m        \u001b[49m\u001b[43mcreate_resource_group\u001b[49m\u001b[43m=\u001b[49m\u001b[43mcreate_resource_group\u001b[49m\u001b[43m,\u001b[49m\n\u001b[32m   1687\u001b[39m \u001b[43m        \u001b[49m\u001b[43msku\u001b[49m\u001b[43m=\u001b[49m\u001b[43msku\u001b[49m\u001b[43m,\u001b[49m\n\u001b[32m   1688\u001b[39m \u001b[43m        \u001b[49m\u001b[43mtags\u001b[49m\u001b[43m=\u001b[49m\u001b[43mtags\u001b[49m\u001b[43m,\u001b[49m\n\u001b[32m   1689\u001b[39m \u001b[43m        \u001b[49m\u001b[43mfriendly_name\u001b[49m\u001b[43m=\u001b[49m\u001b[43mfriendly_name\u001b[49m\u001b[43m,\u001b[49m\n\u001b[32m   1690\u001b[39m \u001b[43m        \u001b[49m\u001b[43mstorage_account\u001b[49m\u001b[43m=\u001b[49m\u001b[43mstorage_account\u001b[49m\u001b[43m,\u001b[49m\n\u001b[32m   1691\u001b[39m \u001b[43m        \u001b[49m\u001b[43mkey_vault\u001b[49m\u001b[43m=\u001b[49m\u001b[43mkey_vault\u001b[49m\u001b[43m,\u001b[49m\n\u001b[32m   1692\u001b[39m \u001b[43m        \u001b[49m\u001b[43mapp_insights\u001b[49m\u001b[43m=\u001b[49m\u001b[43mapp_insights\u001b[49m\u001b[43m,\u001b[49m\n\u001b[32m   1693\u001b[39m \u001b[43m        \u001b[49m\u001b[43mcontainerRegistry\u001b[49m\u001b[43m=\u001b[49m\u001b[43mcontainer_registry\u001b[49m\u001b[43m,\u001b[49m\n\u001b[32m   1694\u001b[39m \u001b[43m        \u001b[49m\u001b[43madb_workspace\u001b[49m\u001b[43m=\u001b[49m\u001b[43madb_workspace\u001b[49m\u001b[43m,\u001b[49m\n\u001b[32m   1695\u001b[39m \u001b[43m        \u001b[49m\u001b[43mprimary_user_assigned_identity\u001b[49m\u001b[43m=\u001b[49m\u001b[43mprimary_user_assigned_identity\u001b[49m\u001b[43m,\u001b[49m\n\u001b[32m   1696\u001b[39m \u001b[43m        \u001b[49m\u001b[43mcmk_keyvault\u001b[49m\u001b[43m=\u001b[49m\u001b[43mcmk_keyvault\u001b[49m\u001b[43m,\u001b[49m\n\u001b[32m   1697\u001b[39m \u001b[43m        \u001b[49m\u001b[43mresource_cmk_uri\u001b[49m\u001b[43m=\u001b[49m\u001b[43mresource_cmk_uri\u001b[49m\u001b[43m,\u001b[49m\n\u001b[32m   1698\u001b[39m \u001b[43m        \u001b[49m\u001b[43mhbi_workspace\u001b[49m\u001b[43m=\u001b[49m\u001b[43mhbi_workspace\u001b[49m\u001b[43m,\u001b[49m\n\u001b[32m   1699\u001b[39m \u001b[43m        \u001b[49m\u001b[43mdefault_cpu_compute_target\u001b[49m\u001b[43m=\u001b[49m\u001b[43mdefault_cpu_compute_target\u001b[49m\u001b[43m,\u001b[49m\n\u001b[32m   1700\u001b[39m \u001b[43m        \u001b[49m\u001b[43mdefault_gpu_compute_target\u001b[49m\u001b[43m=\u001b[49m\u001b[43mdefault_gpu_compute_target\u001b[49m\u001b[43m,\u001b[49m\n\u001b[32m   1701\u001b[39m \u001b[43m        \u001b[49m\u001b[43mprivate_endpoint_config\u001b[49m\u001b[43m=\u001b[49m\u001b[43mprivate_endpoint_config\u001b[49m\u001b[43m,\u001b[49m\n\u001b[32m   1702\u001b[39m \u001b[43m        \u001b[49m\u001b[43mprivate_endpoint_auto_approval\u001b[49m\u001b[43m=\u001b[49m\u001b[43mprivate_endpoint_auto_approval\u001b[49m\u001b[43m,\u001b[49m\n\u001b[32m   1703\u001b[39m \u001b[43m        \u001b[49m\u001b[43mexist_ok\u001b[49m\u001b[43m=\u001b[49m\u001b[43mexist_ok\u001b[49m\u001b[43m,\u001b[49m\u001b[43m \u001b[49m\u001b[43mshow_output\u001b[49m\u001b[43m=\u001b[49m\u001b[43mshow_output\u001b[49m\u001b[43m,\u001b[49m\n\u001b[32m   1704\u001b[39m \u001b[43m        \u001b[49m\u001b[43muser_assigned_identity_for_cmk_encryption\u001b[49m\u001b[43m=\u001b[49m\u001b[43muser_assigned_identity_for_cmk_encryption\u001b[49m\u001b[43m,\u001b[49m\n\u001b[32m   1705\u001b[39m \u001b[43m        \u001b[49m\u001b[43msystem_datastores_auth_mode\u001b[49m\u001b[43m=\u001b[49m\u001b[43msystem_datastores_auth_mode\u001b[49m\u001b[43m,\u001b[49m\n\u001b[32m   1706\u001b[39m \u001b[43m        \u001b[49m\u001b[43mv1_legacy_mode\u001b[49m\u001b[43m=\u001b[49m\u001b[43mv1_legacy_mode\u001b[49m\u001b[43m)\u001b[49m\n\u001b[32m   1707\u001b[39m     \u001b[38;5;28;01mif\u001b[39;00m \u001b[38;5;129;01mnot\u001b[39;00m workspace_object_autorest:\n\u001b[32m   1708\u001b[39m         \u001b[38;5;28;01mraise\u001b[39;00m WorkspaceException(\u001b[33m\"\u001b[39m\u001b[33mCouldn\u001b[39m\u001b[33m'\u001b[39m\u001b[33mt create the workspace.\u001b[39m\u001b[33m\"\u001b[39m)\n",
      "\u001b[36mFile \u001b[39m\u001b[32mc:\\Users\\vhgar\\source\\repos\\itesm\\ma3001b\\JESUS-NUBE\\act2\\REPOSITORIO_ACTIVIDADES_BLOQUE_FINAL\\actividades_cc\\act_semana_2\\.venv\\Lib\\site-packages\\azureml\\_project\\_commands.py:387\u001b[39m, in \u001b[36mcreate_or_update_workspace\u001b[39m\u001b[34m(auth, resource_group_name, workspace_name, subscription_id, location, create_resource_group, sku, tags, friendly_name, storage_account, key_vault, app_insights, containerRegistry, adb_workspace, primary_user_assigned_identity, cmk_keyvault, resource_cmk_uri, hbi_workspace, default_cpu_compute_target, default_gpu_compute_target, private_endpoint_config, private_endpoint_auto_approval, exist_ok, show_output, user_assigned_identity_for_cmk_encryption, system_datastores_auth_mode, v1_legacy_mode, is_update_dependent_resources, api_version)\u001b[39m\n\u001b[32m    384\u001b[39m         \u001b[38;5;28;01mraise\u001b[39;00m WorkspaceException(\u001b[33m\"\u001b[39m\u001b[33mResource group was not found.\u001b[39m\u001b[33m\"\u001b[39m)\n\u001b[32m    386\u001b[39m \u001b[38;5;28;01mfrom\u001b[39;00m\u001b[38;5;250m \u001b[39m\u001b[34;01mazureml\u001b[39;00m\u001b[34;01m.\u001b[39;00m\u001b[34;01m_workspace\u001b[39;00m\u001b[34;01m.\u001b[39;00m\u001b[34;01mcustom\u001b[39;00m\u001b[38;5;250m \u001b[39m\u001b[38;5;28;01mimport\u001b[39;00m ml_workspace_create_resources\n\u001b[32m--> \u001b[39m\u001b[32m387\u001b[39m \u001b[38;5;28;01mreturn\u001b[39;00m \u001b[43mml_workspace_create_resources\u001b[49m\u001b[43m(\u001b[49m\n\u001b[32m    388\u001b[39m \u001b[43m    \u001b[49m\u001b[43mauth\u001b[49m\u001b[43m,\u001b[49m\u001b[43m \u001b[49m\u001b[43mauth\u001b[49m\u001b[43m.\u001b[49m\u001b[43m_get_service_client\u001b[49m\u001b[43m(\u001b[49m\n\u001b[32m    389\u001b[39m \u001b[43m\u001b[49m\u001b[43mAzureMachineLearningWorkspaces\u001b[49m\u001b[43m,\u001b[49m\u001b[43m \u001b[49m\u001b[43msubscription_id\u001b[49m\u001b[43m)\u001b[49m\u001b[43m.\u001b[49m\u001b[43mworkspaces\u001b[49m\u001b[43m,\u001b[49m\n\u001b[32m    390\u001b[39m \u001b[43m    \u001b[49m\u001b[43mresource_group_name\u001b[49m\u001b[43m,\u001b[49m\n\u001b[32m    391\u001b[39m \u001b[43m    \u001b[49m\u001b[43mworkspace_name\u001b[49m\u001b[43m,\u001b[49m\n\u001b[32m    392\u001b[39m \u001b[43m    \u001b[49m\u001b[43mlocation\u001b[49m\u001b[43m,\u001b[49m\n\u001b[32m    393\u001b[39m \u001b[43m    \u001b[49m\u001b[43mvnet_location\u001b[49m\u001b[43m=\u001b[49m\u001b[43mvnet_location\u001b[49m\u001b[43m,\u001b[49m\n\u001b[32m    394\u001b[39m \u001b[43m    \u001b[49m\u001b[43msubscription_id\u001b[49m\u001b[43m=\u001b[49m\u001b[43msubscription_id\u001b[49m\u001b[43m,\u001b[49m\n\u001b[32m    395\u001b[39m \u001b[43m    \u001b[49m\u001b[43mstorage_account\u001b[49m\u001b[43m=\u001b[49m\u001b[43mstorage_account\u001b[49m\u001b[43m,\u001b[49m\n\u001b[32m    396\u001b[39m \u001b[43m    \u001b[49m\u001b[43mkey_vault\u001b[49m\u001b[43m=\u001b[49m\u001b[43mkey_vault\u001b[49m\u001b[43m,\u001b[49m\n\u001b[32m    397\u001b[39m \u001b[43m    \u001b[49m\u001b[43mapp_insights\u001b[49m\u001b[43m=\u001b[49m\u001b[43mapp_insights\u001b[49m\u001b[43m,\u001b[49m\n\u001b[32m    398\u001b[39m \u001b[43m    \u001b[49m\u001b[43mcontainerRegistry\u001b[49m\u001b[43m=\u001b[49m\u001b[43mcontainerRegistry\u001b[49m\u001b[43m,\u001b[49m\n\u001b[32m    399\u001b[39m \u001b[43m    \u001b[49m\u001b[43madbWorkspace\u001b[49m\u001b[43m=\u001b[49m\u001b[43madb_workspace\u001b[49m\u001b[43m,\u001b[49m\n\u001b[32m    400\u001b[39m \u001b[43m    \u001b[49m\u001b[43mfriendly_name\u001b[49m\u001b[43m=\u001b[49m\u001b[43mfriendly_name\u001b[49m\u001b[43m,\u001b[49m\n\u001b[32m    401\u001b[39m \u001b[43m    \u001b[49m\u001b[43mprimary_user_assigned_identity\u001b[49m\u001b[43m=\u001b[49m\u001b[43mprimary_user_assigned_identity\u001b[49m\u001b[43m,\u001b[49m\n\u001b[32m    402\u001b[39m \u001b[43m    \u001b[49m\u001b[43mcmk_keyvault\u001b[49m\u001b[43m=\u001b[49m\u001b[43mcmk_keyvault\u001b[49m\u001b[43m,\u001b[49m\n\u001b[32m    403\u001b[39m \u001b[43m    \u001b[49m\u001b[43mresource_cmk_uri\u001b[49m\u001b[43m=\u001b[49m\u001b[43mresource_cmk_uri\u001b[49m\u001b[43m,\u001b[49m\n\u001b[32m    404\u001b[39m \u001b[43m    \u001b[49m\u001b[43mhbi_workspace\u001b[49m\u001b[43m=\u001b[49m\u001b[43mhbi_workspace\u001b[49m\u001b[43m,\u001b[49m\n\u001b[32m    405\u001b[39m \u001b[43m    \u001b[49m\u001b[43mdefault_cpu_compute_target\u001b[49m\u001b[43m=\u001b[49m\u001b[43mdefault_cpu_compute_target\u001b[49m\u001b[43m,\u001b[49m\n\u001b[32m    406\u001b[39m \u001b[43m    \u001b[49m\u001b[43mdefault_gpu_compute_target\u001b[49m\u001b[43m=\u001b[49m\u001b[43mdefault_gpu_compute_target\u001b[49m\u001b[43m,\u001b[49m\n\u001b[32m    407\u001b[39m \u001b[43m    \u001b[49m\u001b[43mprivate_endpoint_config\u001b[49m\u001b[43m=\u001b[49m\u001b[43mprivate_endpoint_config\u001b[49m\u001b[43m,\u001b[49m\n\u001b[32m    408\u001b[39m \u001b[43m    \u001b[49m\u001b[43mprivate_endpoint_auto_approval\u001b[49m\u001b[43m=\u001b[49m\u001b[43mprivate_endpoint_auto_approval\u001b[49m\u001b[43m,\u001b[49m\n\u001b[32m    409\u001b[39m \u001b[43m    \u001b[49m\u001b[43mexist_ok\u001b[49m\u001b[43m=\u001b[49m\u001b[43mexist_ok\u001b[49m\u001b[43m,\u001b[49m\n\u001b[32m    410\u001b[39m \u001b[43m    \u001b[49m\u001b[43mshow_output\u001b[49m\u001b[43m=\u001b[49m\u001b[43mshow_output\u001b[49m\u001b[43m,\u001b[49m\n\u001b[32m    411\u001b[39m \u001b[43m    \u001b[49m\u001b[43msku\u001b[49m\u001b[43m=\u001b[49m\u001b[43msku\u001b[49m\u001b[43m,\u001b[49m\n\u001b[32m    412\u001b[39m \u001b[43m    \u001b[49m\u001b[43mtags\u001b[49m\u001b[43m=\u001b[49m\u001b[43mtags\u001b[49m\u001b[43m,\u001b[49m\n\u001b[32m    413\u001b[39m \u001b[43m    \u001b[49m\u001b[43muser_assigned_identity_for_cmk_encryption\u001b[49m\u001b[43m=\u001b[49m\u001b[43muser_assigned_identity_for_cmk_encryption\u001b[49m\u001b[43m,\u001b[49m\n\u001b[32m    414\u001b[39m \u001b[43m    \u001b[49m\u001b[43msystem_datastores_auth_mode\u001b[49m\u001b[43m=\u001b[49m\u001b[43msystem_datastores_auth_mode\u001b[49m\u001b[43m,\u001b[49m\n\u001b[32m    415\u001b[39m \u001b[43m    \u001b[49m\u001b[43mv1_legacy_mode\u001b[49m\u001b[43m=\u001b[49m\u001b[43mv1_legacy_mode\u001b[49m\u001b[43m,\u001b[49m\n\u001b[32m    416\u001b[39m \u001b[43m    \u001b[49m\u001b[43mis_update_dependent_resources\u001b[49m\u001b[43m=\u001b[49m\u001b[43mis_update_dependent_resources\u001b[49m\u001b[43m,\u001b[49m\n\u001b[32m    417\u001b[39m \u001b[43m    \u001b[49m\u001b[43mapi_version\u001b[49m\u001b[43m=\u001b[49m\u001b[43mapi_version\u001b[49m\u001b[43m)\u001b[49m\n",
      "\u001b[36mFile \u001b[39m\u001b[32mc:\\Users\\vhgar\\source\\repos\\itesm\\ma3001b\\JESUS-NUBE\\act2\\REPOSITORIO_ACTIVIDADES_BLOQUE_FINAL\\actividades_cc\\act_semana_2\\.venv\\Lib\\site-packages\\azureml\\_workspace\\custom.py:80\u001b[39m, in \u001b[36mml_workspace_create_resources\u001b[39m\u001b[34m(auth, client, resource_group_name, workspace_name, location, vnet_location, subscription_id, friendly_name, storage_account, key_vault, app_insights, containerRegistry, adbWorkspace, primary_user_assigned_identity, cmk_keyvault, resource_cmk_uri, hbi_workspace, default_cpu_compute_target, default_gpu_compute_target, private_endpoint_config, private_endpoint_auto_approval, exist_ok, show_output, sku, tags, user_assigned_identity_for_cmk_encryption, system_datastores_auth_mode, v1_legacy_mode, is_update_dependent_resources, api_version)\u001b[39m\n\u001b[32m     78\u001b[39m     \u001b[38;5;28;01melif\u001b[39;00m \u001b[38;5;129;01mnot\u001b[39;00m exist_ok:\n\u001b[32m     79\u001b[39m         \u001b[38;5;28;01mfrom\u001b[39;00m\u001b[38;5;250m \u001b[39m\u001b[34;01mazureml\u001b[39;00m\u001b[34;01m.\u001b[39;00m\u001b[34;01m_base_sdk_common\u001b[39;00m\u001b[34;01m.\u001b[39;00m\u001b[34;01mcommon\u001b[39;00m\u001b[38;5;250m \u001b[39m\u001b[38;5;28;01mimport\u001b[39;00m get_http_exception_response_string\n\u001b[32m---> \u001b[39m\u001b[32m80\u001b[39m         \u001b[38;5;28;01mraise\u001b[39;00m WorkspaceException(\n\u001b[32m     81\u001b[39m             \u001b[33m\"\u001b[39m\u001b[33mWorkspace with name \u001b[39m\u001b[33m'\u001b[39m\u001b[38;5;132;01m{0}\u001b[39;00m\u001b[33m'\u001b[39m\u001b[33m already exists under\u001b[39m\u001b[33m\"\u001b[39m\n\u001b[32m     82\u001b[39m             \u001b[33m\"\u001b[39m\u001b[33m resource group with name \u001b[39m\u001b[33m'\u001b[39m\u001b[38;5;132;01m{1}\u001b[39;00m\u001b[33m'\u001b[39m\u001b[33m.\u001b[39m\u001b[33m\"\u001b[39m.format(\n\u001b[32m     83\u001b[39m                 workspace_name, resource_group_name))\n\u001b[32m     84\u001b[39m \u001b[38;5;28;01mexcept\u001b[39;00m ErrorResponseWrapperException \u001b[38;5;28;01mas\u001b[39;00m response_exception:\n\u001b[32m     85\u001b[39m     \u001b[38;5;28;01mif\u001b[39;00m response_exception.response.status_code != \u001b[32m404\u001b[39m:\n",
      "\u001b[31mWorkspaceException\u001b[39m: WorkspaceException:\n\tMessage: Workspace with name 'workspace_final_final' already exists under resource group with name 'resource_group_bank_1_2_3_4'.\n\tInnerException None\n\tErrorResponse \n{\n    \"error\": {\n        \"message\": \"Workspace with name 'workspace_final_final' already exists under resource group with name 'resource_group_bank_1_2_3_4'.\"\n    }\n}"
     ]
    }
   ],
   "source": [
    "## STEP 1: Set up the workspace.\n",
    "from azureml.core import Workspace\n",
    "\n",
    "ws = Workspace.create(name=\"workspace_final_final\",\n",
    "                      subscription_id = my_id,\n",
    "                      resource_group = \"resource_group_bank_1_2_3_4\",\n",
    "                      location = \"centralindia\")\n",
    "\n"
   ]
  },
  {
   "cell_type": "code",
   "execution_count": null,
   "metadata": {},
   "outputs": [
    {
     "name": "stdout",
     "output_type": "stream",
     "text": [
      "Registering model model\n"
     ]
    }
   ],
   "source": [
    "from azureml.core.model import Model\n",
    "\n",
    "mname = \"model\"\n",
    "registered_model = Model.register(model_path=\"../best_model.pkl\",\n",
    "                                  model_name=mname,\n",
    "                                  workspace=ws)"
   ]
  },
  {
   "cell_type": "code",
   "execution_count": null,
   "metadata": {},
   "outputs": [
    {
     "name": "stdout",
     "output_type": "stream",
     "text": [
      "Registering model model_scaler\n"
     ]
    }
   ],
   "source": [
    "from azureml.core.model import Model\n",
    "\n",
    "mname_scaler = \"model_scaler\"\n",
    "registered_scaler = Model.register(model_path=\"../scaler.pkl\",\n",
    "                                  model_name=mname_scaler,\n",
    "                                  workspace=ws)"
   ]
  },
  {
   "cell_type": "code",
   "execution_count": null,
   "metadata": {},
   "outputs": [],
   "source": [
    "scorepy = \"\"\"\n",
    "import json \n",
    "import joblib\n",
    "import pandas as pd\n",
    "import numpy as np\n",
    "import traceback\n",
    "import sklearn\n",
    "from azureml.core.model import Model\n",
    "\n",
    "def embbed(d):\n",
    "    try:\n",
    "        d.columns = d.columns.str.strip()  # Limpiar nombres de columnas\n",
    "        required_columns = [\n",
    "            'Net Income to Total Assets', 'ROA(A) before interest and % after tax',\n",
    "            'ROA(B) before interest and depreciation after tax',\n",
    "            'ROA(C) before interest and depreciation before interest',\n",
    "            'Net worth/Assets', 'Debt ratio %',\n",
    "            'Persistent EPS in the Last Four Seasons',\n",
    "            'Retained Earnings to Total Assets',\n",
    "            'Net profit before tax/Paid-in capital',\n",
    "            'Per Share Net profit before tax (Yuan �)',\n",
    "            'Current Liability to Assets', 'Working Capital to Total Assets',\n",
    "            \"Net Income to Stockholder's Equity\", 'Borrowing dependency',\n",
    "            'Current Liability to Current Assets', 'Liability to Equity',\n",
    "            'Net Value Per Share (A)', 'Net Value Per Share (B)',\n",
    "            'Net Value Per Share (C)', 'Current Liability to Equity'\n",
    "        ]\n",
    "\n",
    "        missing_columns = [col for col in required_columns if col not in d.columns]\n",
    "        if missing_columns:\n",
    "            raise KeyError(f\"Missing columns: {missing_columns}\")\n",
    "\n",
    "        return d[required_columns]\n",
    "\n",
    "    except Exception as e:\n",
    "        print(f\"[ERROR] Unexpected error in embbed(): {e}\")\n",
    "        traceback.print_exc()\n",
    "        return None\n",
    "\n",
    "def init():\n",
    "    global model, scaler\n",
    "\n",
    "    try:\n",
    "        print(\"[INFO] Loading model and scaler...\")\n",
    "        print(f\"[INFO] NumPy version: {np.__version__}\")\n",
    "        print(f\"[INFO] Scikit-learn version: {sklearn.__version__}\")\n",
    "\n",
    "        # Reemplaza 'model_name_here' por el nombre real de tu modelo registrado en Azure ML.\n",
    "        model_path = Model.get_model_path('model')\n",
    "        scaler_path = Model.get_model_path('model_scaler')\n",
    "\n",
    "        print(f\"[INFO] Loading model from {model_path}\")\n",
    "        model = joblib.load(model_path)\n",
    "        print(f\"[INFO] Loaded model from {model_path}!!\")\n",
    "\n",
    "        print(f\"[INFO] Loading scaler from {scaler_path}\")\n",
    "        scaler = joblib.load(scaler_path)\n",
    "        print(f\"[INFO] Loaded scaler from {scaler_path}!!\")\n",
    "\n",
    "        print(\"[INFO] Model and scaler loaded successfully.\")\n",
    "\n",
    "    except Exception as e:\n",
    "        print(f\"[ERROR] Failed to load model or scaler: {e}\")\n",
    "        traceback.print_exc()\n",
    "        model, scaler = None, None  # Aseguramos que sean None si falla la carga\n",
    "\n",
    "def run(raw_data):\n",
    "    global model, scaler\n",
    "\n",
    "    try:\n",
    "        if model is None or scaler is None:\n",
    "            raise RuntimeError(\"[ERROR] Model or scaler not initialized. Check logs for errors.\")\n",
    "\n",
    "        data_dict = json.loads(raw_data)\n",
    "        if \"data\" not in data_dict:\n",
    "            raise ValueError(\"[ERROR] Input JSON must contain a 'data' key.\")\n",
    "\n",
    "        data = data_dict[\"data\"]\n",
    "        if not isinstance(data, list):\n",
    "            raise ValueError(\"[ERROR] Expected 'data' to be a list of feature dictionaries.\")\n",
    "\n",
    "        df = pd.DataFrame(data)\n",
    "\n",
    "        print(\"[INFO] Received data shape:\", df.shape)\n",
    "        print(\"[INFO] Data columns:\", df.columns.tolist())\n",
    "\n",
    "        embedded_data = embbed(df)\n",
    "        if embedded_data is None:\n",
    "            raise ValueError(\"[ERROR] Data embedding failed due to missing columns.\")\n",
    "\n",
    "        # Verificar si hay valores NaN antes de transformar\n",
    "        if embedded_data.isnull().values.any():\n",
    "            raise ValueError(\"[ERROR] Input data contains NaN values. Please clean your input.\")\n",
    "\n",
    "        scaled_data = scaler.transform(embedded_data)\n",
    "        print(\"[INFO] Scaled data shape:\", scaled_data.shape)\n",
    "\n",
    "        result_finals = model.predict(scaled_data)\n",
    "        print(\"[INFO] Model prediction output:\", result_finals)\n",
    "\n",
    "        return json.dumps({\"predictions\": result_finals.tolist()})\n",
    "\n",
    "    except json.JSONDecodeError as e:\n",
    "        error_msg = f\"[ERROR] Invalid JSON input: {e}\"\n",
    "    except ValueError as e:\n",
    "        error_msg = str(e)\n",
    "    except Exception as e:\n",
    "        error_msg = f\"[ERROR] Unexpected error in run(): {e} {traceback.format_exc()}\"\n",
    "\n",
    "    print(error_msg)\n",
    "    return json.dumps({\"error\": error_msg})\n",
    "\n",
    "\"\"\""
   ]
  },
  {
   "cell_type": "code",
   "execution_count": null,
   "metadata": {},
   "outputs": [
    {
     "ename": "UnicodeEncodeError",
     "evalue": "'charmap' codec can't encode character '\\ufffd' in position 759: character maps to <undefined>",
     "output_type": "error",
     "traceback": [
      "\u001b[31m---------------------------------------------------------------------------\u001b[39m",
      "\u001b[31mUnicodeEncodeError\u001b[39m                        Traceback (most recent call last)",
      "\u001b[36mCell\u001b[39m\u001b[36m \u001b[39m\u001b[32mIn[15]\u001b[39m\u001b[32m, line 3\u001b[39m\n\u001b[32m      1\u001b[39m \u001b[38;5;66;03m# Guardar el script en un archivo\u001b[39;00m\n\u001b[32m      2\u001b[39m file_score = \u001b[38;5;28mopen\u001b[39m(\u001b[33m\"\u001b[39m\u001b[33mscore.py\u001b[39m\u001b[33m\"\u001b[39m, \u001b[33m\"\u001b[39m\u001b[33mw\u001b[39m\u001b[33m\"\u001b[39m)\n\u001b[32m----> \u001b[39m\u001b[32m3\u001b[39m \u001b[43mfile_score\u001b[49m\u001b[43m.\u001b[49m\u001b[43mwrite\u001b[49m\u001b[43m(\u001b[49m\u001b[43mscorepy\u001b[49m\u001b[43m)\u001b[49m\n\u001b[32m      4\u001b[39m file_score.close()\n",
      "\u001b[36mFile \u001b[39m\u001b[32mC:\\Program Files\\WindowsApps\\PythonSoftwareFoundation.Python.3.11_3.11.2544.0_x64__qbz5n2kfra8p0\\Lib\\encodings\\cp1252.py:19\u001b[39m, in \u001b[36mIncrementalEncoder.encode\u001b[39m\u001b[34m(self, input, final)\u001b[39m\n\u001b[32m     18\u001b[39m \u001b[38;5;28;01mdef\u001b[39;00m\u001b[38;5;250m \u001b[39m\u001b[34mencode\u001b[39m(\u001b[38;5;28mself\u001b[39m, \u001b[38;5;28minput\u001b[39m, final=\u001b[38;5;28;01mFalse\u001b[39;00m):\n\u001b[32m---> \u001b[39m\u001b[32m19\u001b[39m     \u001b[38;5;28;01mreturn\u001b[39;00m codecs.charmap_encode(\u001b[38;5;28minput\u001b[39m,\u001b[38;5;28mself\u001b[39m.errors,encoding_table)[\u001b[32m0\u001b[39m]\n",
      "\u001b[31mUnicodeEncodeError\u001b[39m: 'charmap' codec can't encode character '\\ufffd' in position 759: character maps to <undefined>"
     ]
    }
   ],
   "source": [
    "\n",
    "\n",
    "# Guardar el script en un archivo\n",
    "file_score = open(\"score.py\", \"w\")\n",
    "file_score.write(scorepy)\n",
    "file_score.close()\n"
   ]
  },
  {
   "cell_type": "code",
   "execution_count": null,
   "metadata": {},
   "outputs": [
    {
     "name": "stderr",
     "output_type": "stream",
     "text": [
      "C:\\Users\\vhgar\\AppData\\Local\\Temp\\ipykernel_52412\\3279380664.py:21: FutureWarning: azureml.core.model:\n",
      "To leverage new model deployment capabilities, AzureML recommends using CLI/SDK v2 to deploy models as online endpoint, \n",
      "please refer to respective documentations \n",
      "https://docs.microsoft.com/azure/machine-learning/how-to-deploy-managed-online-endpoints /\n",
      "https://docs.microsoft.com/azure/machine-learning/how-to-attach-kubernetes-anywhere \n",
      "For more information on migration, see https://aka.ms/acimoemigration \n",
      "To disable CLI/SDK v1 deprecation warning set AZUREML_LOG_DEPRECATION_WARNING_ENABLED to 'False'\n",
      "  service = Model.deploy(workspace=ws,\n"
     ]
    }
   ],
   "source": [
    "## STEP 2: Inference configuration: the blueprints for the German carpenter about how to build your furniture.\n",
    "\n",
    "from azureml.core.environment import Environment\n",
    "virtual_env = Environment(\"env-for-bank-1-3\")\n",
    "\n",
    "\n",
    "from azureml.core.conda_dependencies import CondaDependencies\n",
    "virtual_env.python.conda_dependencies = CondaDependencies.create(\n",
    "    conda_packages=['numpy==1.23.5','scikit-learn=1.4.2', 'joblib', 'pandas']\n",
    ")\n",
    "\n",
    "\n",
    "from azureml.core.model import InferenceConfig\n",
    "from azureml.core.webservice import AciWebservice\n",
    "inference_config = InferenceConfig(\n",
    "                                environment=virtual_env,\n",
    "                                entry_script=\"score.py\",\n",
    "                                )\n",
    "aci_config = AciWebservice.deploy_configuration(cpu_cores=0.5, memory_gb=1) ## ASEGÚRENSE DE ASIGNAR SUFICIENTE MADERA PARA SUS MUEBLES.\n",
    "\n",
    "service = Model.deploy(workspace=ws,\n",
    "                       name='service',\n",
    "                       models=[registered_model, registered_scaler],\n",
    "                       inference_config=inference_config,\n",
    "                       deployment_config=aci_config,\n",
    "                       overwrite=True,\n",
    "                       )"
   ]
  },
  {
   "cell_type": "code",
   "execution_count": null,
   "metadata": {},
   "outputs": [
    {
     "data": {
      "text/plain": [
       "{\n",
       "    \"assetId\": null,\n",
       "    \"databricks\": {\n",
       "        \"eggLibraries\": [],\n",
       "        \"jarLibraries\": [],\n",
       "        \"mavenLibraries\": [],\n",
       "        \"pypiLibraries\": [],\n",
       "        \"rcranLibraries\": []\n",
       "    },\n",
       "    \"docker\": {\n",
       "        \"arguments\": [],\n",
       "        \"baseDockerfile\": null,\n",
       "        \"baseImage\": \"mcr.microsoft.com/azureml/openmpi4.1.0-ubuntu20.04\",\n",
       "        \"baseImageRegistry\": {\n",
       "            \"address\": null,\n",
       "            \"password\": null,\n",
       "            \"registryIdentity\": null,\n",
       "            \"username\": null\n",
       "        },\n",
       "        \"buildContext\": null,\n",
       "        \"enabled\": false,\n",
       "        \"platform\": {\n",
       "            \"architecture\": \"amd64\",\n",
       "            \"os\": \"Linux\"\n",
       "        },\n",
       "        \"sharedVolumes\": true,\n",
       "        \"shmSize\": \"2g\"\n",
       "    },\n",
       "    \"environmentVariables\": {\n",
       "        \"AZUREML_ENTRY_SCRIPT\": \"score.py\",\n",
       "        \"EXAMPLE_ENV_VAR\": \"EXAMPLE_VALUE\"\n",
       "    },\n",
       "    \"inferencingStackVersion\": null,\n",
       "    \"name\": \"env-for-bank-1-3\",\n",
       "    \"python\": {\n",
       "        \"baseCondaEnvironment\": null,\n",
       "        \"condaDependencies\": {\n",
       "            \"channels\": [\n",
       "                \"anaconda\",\n",
       "                \"conda-forge\"\n",
       "            ],\n",
       "            \"dependencies\": [\n",
       "                \"python=3.9.12\",\n",
       "                {\n",
       "                    \"pip\": [\n",
       "                        \"azureml-defaults\"\n",
       "                    ]\n",
       "                },\n",
       "                \"numpy==1.23.5\",\n",
       "                \"scikit-learn=1.4.2\",\n",
       "                \"joblib\",\n",
       "                \"pandas\"\n",
       "            ],\n",
       "            \"name\": \"project_environment\"\n",
       "        },\n",
       "        \"condaDependenciesFile\": null,\n",
       "        \"interpreterPath\": \"python\",\n",
       "        \"userManagedDependencies\": false\n",
       "    },\n",
       "    \"r\": null,\n",
       "    \"spark\": {\n",
       "        \"packages\": [],\n",
       "        \"precachePackages\": true,\n",
       "        \"repositories\": []\n",
       "    },\n",
       "    \"version\": null\n",
       "}"
      ]
     },
     "execution_count": 12,
     "metadata": {},
     "output_type": "execute_result"
    }
   ],
   "source": [
    "virtual_env"
   ]
  },
  {
   "cell_type": "code",
   "execution_count": null,
   "metadata": {},
   "outputs": [
    {
     "name": "stderr",
     "output_type": "stream",
     "text": [
      "Service deployment polling reached non-successful terminal state, current service state: Failed\n",
      "Operation ID: 761ad22e-fb18-4ead-9734-bff0b52820e6\n",
      "More information can be found using '.get_logs()'\n",
      "Error:\n",
      "{\n",
      "  \"code\": \"AciDeploymentFailed\",\n",
      "  \"statusCode\": 400,\n",
      "  \"message\": \"Aci Deployment failed with exception: Your container application crashed. This may be caused by errors in your scoring file's init() function.\n",
      "\t1. Please check the logs for your container instance: service. From the AML SDK, you can run print(service.get_logs()) if you have service object to fetch the logs.\n",
      "\t2. You can interactively debug your scoring file locally. Please refer to https://docs.microsoft.com/azure/machine-learning/how-to-debug-visual-studio-code#debug-and-troubleshoot-deployments for more information.\n",
      "\t3. You can also try to run image dfee6c5181ec4630b17cb20447e40f65.azurecr.io/azureml/azureml_bf404520237a3ff2b749b9ec64b63678 locally. Please refer to https://aka.ms/debugimage#service-launch-fails for more information.\",\n",
      "  \"details\": [\n",
      "    {\n",
      "      \"code\": \"CrashLoopBackOff\",\n",
      "      \"message\": \"Your container application crashed. This may be caused by errors in your scoring file's init() function.\n",
      "\t1. Please check the logs for your container instance: service. From the AML SDK, you can run print(service.get_logs()) if you have service object to fetch the logs.\n",
      "\t2. You can interactively debug your scoring file locally. Please refer to https://docs.microsoft.com/azure/machine-learning/how-to-debug-visual-studio-code#debug-and-troubleshoot-deployments for more information.\n",
      "\t3. You can also try to run image dfee6c5181ec4630b17cb20447e40f65.azurecr.io/azureml/azureml_bf404520237a3ff2b749b9ec64b63678 locally. Please refer to https://aka.ms/debugimage#service-launch-fails for more information.\"\n",
      "    },\n",
      "    {\n",
      "      \"code\": \"AciDeploymentFailed\",\n",
      "      \"message\": \"Your container application crashed. Please follow the steps to debug:\n",
      "\t1. From the AML SDK, you can run print(service.get_logs()) if you have service object to fetch the logs. Please refer to https://aka.ms/debugimage#dockerlog for more information.\n",
      "\t2. If your container application crashed. This may be caused by errors in your scoring file's init() function. You can try debugging locally first. Please refer to https://aka.ms/debugimage#debug-locally for more information.\n",
      "\t3. You can also interactively debug your scoring file locally. Please refer to https://docs.microsoft.com/azure/machine-learning/how-to-debug-visual-studio-code#debug-and-troubleshoot-deployments for more information.\n",
      "\t4. View the diagnostic events to check status of container, it may help you to debug the issue.\n",
      "\"RestartCount\": 3\n",
      "\"CurrentState\": {\"state\":\"Waiting\",\"startTime\":null,\"exitCode\":null,\"finishTime\":null,\"detailStatus\":\"CrashLoopBackOff: Back-off restarting failed\"}\n",
      "\"PreviousState\": {\"state\":\"Terminated\",\"startTime\":\"2025-04-04T20:15:06.88Z\",\"exitCode\":111,\"finishTime\":\"2025-04-04T20:15:15.428Z\",\"detailStatus\":\"Error\"}\n",
      "\"Events\":\n",
      "{\"count\":1,\"firstTimestamp\":\"2025-04-04T20:12:32Z\",\"lastTimestamp\":\"2025-04-04T20:12:32Z\",\"name\":\"Pulling\",\"message\":\"pulling image \"dfee6c5181ec4630b17cb20447e40f65.azurecr.io/azureml/azureml_bf404520237a3ff2b749b9ec64b63678@sha256:41950d1b6785cd303a3dec164a39dd21013ead2b9524dcf4724d5f23fe9015c8\"\",\"type\":\"Normal\"}\n",
      "{\"count\":1,\"firstTimestamp\":\"2025-04-04T20:13:17Z\",\"lastTimestamp\":\"2025-04-04T20:13:17Z\",\"name\":\"Pulled\",\"message\":\"Successfully pulled image \"dfee6c5181ec4630b17cb20447e40f65.azurecr.io/azureml/azureml_bf404520237a3ff2b749b9ec64b63678@sha256:41950d1b6785cd303a3dec164a39dd21013ead2b9524dcf4724d5f23fe9015c8\"\",\"type\":\"Normal\"}\n",
      "{\"count\":4,\"firstTimestamp\":\"2025-04-04T20:13:40Z\",\"lastTimestamp\":\"2025-04-04T20:15:06Z\",\"name\":\"Started\",\"message\":\"Started container\",\"type\":\"Normal\"}\n",
      "{\"count\":4,\"firstTimestamp\":\"2025-04-04T20:13:48Z\",\"lastTimestamp\":\"2025-04-04T20:15:15Z\",\"name\":\"Killing\",\"message\":\"Container service terminated with ExitCode 111.\",\"type\":\"Normal\"}\n",
      "\"\n",
      "    }\n",
      "  ]\n",
      "}\n",
      "\n"
     ]
    },
    {
     "ename": "WebserviceException",
     "evalue": "WebserviceException:\n\tMessage: Service deployment polling reached non-successful terminal state, current service state: Failed\nOperation ID: 761ad22e-fb18-4ead-9734-bff0b52820e6\nMore information can be found using '.get_logs()'\nError:\n{\n  \"code\": \"AciDeploymentFailed\",\n  \"statusCode\": 400,\n  \"message\": \"Aci Deployment failed with exception: Your container application crashed. This may be caused by errors in your scoring file's init() function.\n\t1. Please check the logs for your container instance: service. From the AML SDK, you can run print(service.get_logs()) if you have service object to fetch the logs.\n\t2. You can interactively debug your scoring file locally. Please refer to https://docs.microsoft.com/azure/machine-learning/how-to-debug-visual-studio-code#debug-and-troubleshoot-deployments for more information.\n\t3. You can also try to run image dfee6c5181ec4630b17cb20447e40f65.azurecr.io/azureml/azureml_bf404520237a3ff2b749b9ec64b63678 locally. Please refer to https://aka.ms/debugimage#service-launch-fails for more information.\",\n  \"details\": [\n    {\n      \"code\": \"CrashLoopBackOff\",\n      \"message\": \"Your container application crashed. This may be caused by errors in your scoring file's init() function.\n\t1. Please check the logs for your container instance: service. From the AML SDK, you can run print(service.get_logs()) if you have service object to fetch the logs.\n\t2. You can interactively debug your scoring file locally. Please refer to https://docs.microsoft.com/azure/machine-learning/how-to-debug-visual-studio-code#debug-and-troubleshoot-deployments for more information.\n\t3. You can also try to run image dfee6c5181ec4630b17cb20447e40f65.azurecr.io/azureml/azureml_bf404520237a3ff2b749b9ec64b63678 locally. Please refer to https://aka.ms/debugimage#service-launch-fails for more information.\"\n    },\n    {\n      \"code\": \"AciDeploymentFailed\",\n      \"message\": \"Your container application crashed. Please follow the steps to debug:\n\t1. From the AML SDK, you can run print(service.get_logs()) if you have service object to fetch the logs. Please refer to https://aka.ms/debugimage#dockerlog for more information.\n\t2. If your container application crashed. This may be caused by errors in your scoring file's init() function. You can try debugging locally first. Please refer to https://aka.ms/debugimage#debug-locally for more information.\n\t3. You can also interactively debug your scoring file locally. Please refer to https://docs.microsoft.com/azure/machine-learning/how-to-debug-visual-studio-code#debug-and-troubleshoot-deployments for more information.\n\t4. View the diagnostic events to check status of container, it may help you to debug the issue.\n\"RestartCount\": 3\n\"CurrentState\": {\"state\":\"Waiting\",\"startTime\":null,\"exitCode\":null,\"finishTime\":null,\"detailStatus\":\"CrashLoopBackOff: Back-off restarting failed\"}\n\"PreviousState\": {\"state\":\"Terminated\",\"startTime\":\"2025-04-04T20:15:06.88Z\",\"exitCode\":111,\"finishTime\":\"2025-04-04T20:15:15.428Z\",\"detailStatus\":\"Error\"}\n\"Events\":\n{\"count\":1,\"firstTimestamp\":\"2025-04-04T20:12:32Z\",\"lastTimestamp\":\"2025-04-04T20:12:32Z\",\"name\":\"Pulling\",\"message\":\"pulling image \"dfee6c5181ec4630b17cb20447e40f65.azurecr.io/azureml/azureml_bf404520237a3ff2b749b9ec64b63678@sha256:41950d1b6785cd303a3dec164a39dd21013ead2b9524dcf4724d5f23fe9015c8\"\",\"type\":\"Normal\"}\n{\"count\":1,\"firstTimestamp\":\"2025-04-04T20:13:17Z\",\"lastTimestamp\":\"2025-04-04T20:13:17Z\",\"name\":\"Pulled\",\"message\":\"Successfully pulled image \"dfee6c5181ec4630b17cb20447e40f65.azurecr.io/azureml/azureml_bf404520237a3ff2b749b9ec64b63678@sha256:41950d1b6785cd303a3dec164a39dd21013ead2b9524dcf4724d5f23fe9015c8\"\",\"type\":\"Normal\"}\n{\"count\":4,\"firstTimestamp\":\"2025-04-04T20:13:40Z\",\"lastTimestamp\":\"2025-04-04T20:15:06Z\",\"name\":\"Started\",\"message\":\"Started container\",\"type\":\"Normal\"}\n{\"count\":4,\"firstTimestamp\":\"2025-04-04T20:13:48Z\",\"lastTimestamp\":\"2025-04-04T20:15:15Z\",\"name\":\"Killing\",\"message\":\"Container service terminated with ExitCode 111.\",\"type\":\"Normal\"}\n\"\n    }\n  ]\n}\n\tInnerException None\n\tErrorResponse \n{\n    \"error\": {\n        \"message\": \"Service deployment polling reached non-successful terminal state, current service state: Failed\\nOperation ID: 761ad22e-fb18-4ead-9734-bff0b52820e6\\nMore information can be found using '.get_logs()'\\nError:\\n{\\n  \\\"code\\\": \\\"AciDeploymentFailed\\\",\\n  \\\"statusCode\\\": 400,\\n  \\\"message\\\": \\\"Aci Deployment failed with exception: Your container application crashed. This may be caused by errors in your scoring file's init() function.\\n\\t1. Please check the logs for your container instance: service. From the AML SDK, you can run print(service.get_logs()) if you have service object to fetch the logs.\\n\\t2. You can interactively debug your scoring file locally. Please refer to https://docs.microsoft.com/azure/machine-learning/how-to-debug-visual-studio-code#debug-and-troubleshoot-deployments for more information.\\n\\t3. You can also try to run image dfee6c5181ec4630b17cb20447e40f65.azurecr.io/azureml/azureml_bf404520237a3ff2b749b9ec64b63678 locally. Please refer to https://aka.ms/debugimage#service-launch-fails for more information.\\\",\\n  \\\"details\\\": [\\n    {\\n      \\\"code\\\": \\\"CrashLoopBackOff\\\",\\n      \\\"message\\\": \\\"Your container application crashed. This may be caused by errors in your scoring file's init() function.\\n\\t1. Please check the logs for your container instance: service. From the AML SDK, you can run print(service.get_logs()) if you have service object to fetch the logs.\\n\\t2. You can interactively debug your scoring file locally. Please refer to https://docs.microsoft.com/azure/machine-learning/how-to-debug-visual-studio-code#debug-and-troubleshoot-deployments for more information.\\n\\t3. You can also try to run image dfee6c5181ec4630b17cb20447e40f65.azurecr.io/azureml/azureml_bf404520237a3ff2b749b9ec64b63678 locally. Please refer to https://aka.ms/debugimage#service-launch-fails for more information.\\\"\\n    },\\n    {\\n      \\\"code\\\": \\\"AciDeploymentFailed\\\",\\n      \\\"message\\\": \\\"Your container application crashed. Please follow the steps to debug:\\n\\t1. From the AML SDK, you can run print(service.get_logs()) if you have service object to fetch the logs. Please refer to https://aka.ms/debugimage#dockerlog for more information.\\n\\t2. If your container application crashed. This may be caused by errors in your scoring file's init() function. You can try debugging locally first. Please refer to https://aka.ms/debugimage#debug-locally for more information.\\n\\t3. You can also interactively debug your scoring file locally. Please refer to https://docs.microsoft.com/azure/machine-learning/how-to-debug-visual-studio-code#debug-and-troubleshoot-deployments for more information.\\n\\t4. View the diagnostic events to check status of container, it may help you to debug the issue.\\n\\\"RestartCount\\\": 3\\n\\\"CurrentState\\\": {\\\"state\\\":\\\"Waiting\\\",\\\"startTime\\\":null,\\\"exitCode\\\":null,\\\"finishTime\\\":null,\\\"detailStatus\\\":\\\"CrashLoopBackOff: Back-off restarting failed\\\"}\\n\\\"PreviousState\\\": {\\\"state\\\":\\\"Terminated\\\",\\\"startTime\\\":\\\"2025-04-04T20:15:06.88Z\\\",\\\"exitCode\\\":111,\\\"finishTime\\\":\\\"2025-04-04T20:15:15.428Z\\\",\\\"detailStatus\\\":\\\"Error\\\"}\\n\\\"Events\\\":\\n{\\\"count\\\":1,\\\"firstTimestamp\\\":\\\"2025-04-04T20:12:32Z\\\",\\\"lastTimestamp\\\":\\\"2025-04-04T20:12:32Z\\\",\\\"name\\\":\\\"Pulling\\\",\\\"message\\\":\\\"pulling image \\\"dfee6c5181ec4630b17cb20447e40f65.azurecr.io/azureml/azureml_bf404520237a3ff2b749b9ec64b63678@sha256:41950d1b6785cd303a3dec164a39dd21013ead2b9524dcf4724d5f23fe9015c8\\\"\\\",\\\"type\\\":\\\"Normal\\\"}\\n{\\\"count\\\":1,\\\"firstTimestamp\\\":\\\"2025-04-04T20:13:17Z\\\",\\\"lastTimestamp\\\":\\\"2025-04-04T20:13:17Z\\\",\\\"name\\\":\\\"Pulled\\\",\\\"message\\\":\\\"Successfully pulled image \\\"dfee6c5181ec4630b17cb20447e40f65.azurecr.io/azureml/azureml_bf404520237a3ff2b749b9ec64b63678@sha256:41950d1b6785cd303a3dec164a39dd21013ead2b9524dcf4724d5f23fe9015c8\\\"\\\",\\\"type\\\":\\\"Normal\\\"}\\n{\\\"count\\\":4,\\\"firstTimestamp\\\":\\\"2025-04-04T20:13:40Z\\\",\\\"lastTimestamp\\\":\\\"2025-04-04T20:15:06Z\\\",\\\"name\\\":\\\"Started\\\",\\\"message\\\":\\\"Started container\\\",\\\"type\\\":\\\"Normal\\\"}\\n{\\\"count\\\":4,\\\"firstTimestamp\\\":\\\"2025-04-04T20:13:48Z\\\",\\\"lastTimestamp\\\":\\\"2025-04-04T20:15:15Z\\\",\\\"name\\\":\\\"Killing\\\",\\\"message\\\":\\\"Container service terminated with ExitCode 111.\\\",\\\"type\\\":\\\"Normal\\\"}\\n\\\"\\n    }\\n  ]\\n}\"\n    }\n}",
     "output_type": "error",
     "traceback": [
      "\u001b[31m---------------------------------------------------------------------------\u001b[39m",
      "\u001b[31mWebserviceException\u001b[39m                       Traceback (most recent call last)",
      "\u001b[36mCell\u001b[39m\u001b[36m \u001b[39m\u001b[32mIn[13]\u001b[39m\u001b[32m, line 1\u001b[39m\n\u001b[32m----> \u001b[39m\u001b[32m1\u001b[39m \u001b[43mservice\u001b[49m\u001b[43m.\u001b[49m\u001b[43mwait_for_deployment\u001b[49m\u001b[43m(\u001b[49m\u001b[43m)\u001b[49m\n\u001b[32m      3\u001b[39m scoring_uri = service.scoring_uri\n\u001b[32m      5\u001b[39m scoreuri = json.dumps({\u001b[33m\"\u001b[39m\u001b[33mURI\u001b[39m\u001b[33m\"\u001b[39m: [scoring_uri]})\n",
      "\u001b[36mFile \u001b[39m\u001b[32mc:\\Users\\vhgar\\source\\repos\\itesm\\ma3001b\\JESUS-NUBE\\act2\\REPOSITORIO_ACTIVIDADES_BLOQUE_FINAL\\actividades_cc\\act_semana_2\\.venv\\Lib\\site-packages\\azureml\\core\\webservice\\webservice.py:910\u001b[39m, in \u001b[36mWebservice.wait_for_deployment\u001b[39m\u001b[34m(self, show_output, timeout_sec)\u001b[39m\n\u001b[32m    907\u001b[39m         \u001b[38;5;28;01mif\u001b[39;00m \u001b[38;5;129;01mnot\u001b[39;00m logs_response:\n\u001b[32m    908\u001b[39m             logs_response = \u001b[33m'\u001b[39m\u001b[33mCurrent sub-operation type not known, more logs unavailable.\u001b[39m\u001b[33m'\u001b[39m\n\u001b[32m--> \u001b[39m\u001b[32m910\u001b[39m         \u001b[38;5;28;01mraise\u001b[39;00m WebserviceException(\u001b[33m'\u001b[39m\u001b[33mService deployment polling reached non-successful terminal state, current \u001b[39m\u001b[33m'\u001b[39m\n\u001b[32m    911\u001b[39m                                   \u001b[33m'\u001b[39m\u001b[33mservice state: \u001b[39m\u001b[38;5;132;01m{}\u001b[39;00m\u001b[38;5;130;01m\\n\u001b[39;00m\u001b[33m'\u001b[39m\n\u001b[32m    912\u001b[39m                                   \u001b[33m'\u001b[39m\u001b[33mOperation ID: \u001b[39m\u001b[38;5;132;01m{}\u001b[39;00m\u001b[38;5;130;01m\\n\u001b[39;00m\u001b[33m'\u001b[39m\n\u001b[32m    913\u001b[39m                                   \u001b[33m'\u001b[39m\u001b[38;5;132;01m{}\u001b[39;00m\u001b[38;5;130;01m\\n\u001b[39;00m\u001b[33m'\u001b[39m\n\u001b[32m    914\u001b[39m                                   \u001b[33m'\u001b[39m\u001b[33mError:\u001b[39m\u001b[38;5;130;01m\\n\u001b[39;00m\u001b[33m'\u001b[39m\n\u001b[32m    915\u001b[39m                                   \u001b[33m'\u001b[39m\u001b[38;5;132;01m{}\u001b[39;00m\u001b[33m'\u001b[39m.format(\u001b[38;5;28mself\u001b[39m.state, \u001b[38;5;28mself\u001b[39m._operation_endpoint.split(\u001b[33m'\u001b[39m\u001b[33m/\u001b[39m\u001b[33m'\u001b[39m)[-\u001b[32m1\u001b[39m],\n\u001b[32m    916\u001b[39m                                               logs_response, format_error_response), logger=module_logger)\n\u001b[32m    917\u001b[39m     \u001b[38;5;28mprint\u001b[39m(\u001b[33m'\u001b[39m\u001b[38;5;132;01m{}\u001b[39;00m\u001b[33m service creation operation finished, operation \u001b[39m\u001b[33m\"\u001b[39m\u001b[38;5;132;01m{}\u001b[39;00m\u001b[33m\"\u001b[39m\u001b[33m'\u001b[39m.format(\u001b[38;5;28mself\u001b[39m._webservice_type,\n\u001b[32m    918\u001b[39m                                                                           operation_state))\n\u001b[32m    919\u001b[39m \u001b[38;5;28;01mexcept\u001b[39;00m WebserviceException \u001b[38;5;28;01mas\u001b[39;00m e:\n",
      "\u001b[31mWebserviceException\u001b[39m: WebserviceException:\n\tMessage: Service deployment polling reached non-successful terminal state, current service state: Failed\nOperation ID: 761ad22e-fb18-4ead-9734-bff0b52820e6\nMore information can be found using '.get_logs()'\nError:\n{\n  \"code\": \"AciDeploymentFailed\",\n  \"statusCode\": 400,\n  \"message\": \"Aci Deployment failed with exception: Your container application crashed. This may be caused by errors in your scoring file's init() function.\n\t1. Please check the logs for your container instance: service. From the AML SDK, you can run print(service.get_logs()) if you have service object to fetch the logs.\n\t2. You can interactively debug your scoring file locally. Please refer to https://docs.microsoft.com/azure/machine-learning/how-to-debug-visual-studio-code#debug-and-troubleshoot-deployments for more information.\n\t3. You can also try to run image dfee6c5181ec4630b17cb20447e40f65.azurecr.io/azureml/azureml_bf404520237a3ff2b749b9ec64b63678 locally. Please refer to https://aka.ms/debugimage#service-launch-fails for more information.\",\n  \"details\": [\n    {\n      \"code\": \"CrashLoopBackOff\",\n      \"message\": \"Your container application crashed. This may be caused by errors in your scoring file's init() function.\n\t1. Please check the logs for your container instance: service. From the AML SDK, you can run print(service.get_logs()) if you have service object to fetch the logs.\n\t2. You can interactively debug your scoring file locally. Please refer to https://docs.microsoft.com/azure/machine-learning/how-to-debug-visual-studio-code#debug-and-troubleshoot-deployments for more information.\n\t3. You can also try to run image dfee6c5181ec4630b17cb20447e40f65.azurecr.io/azureml/azureml_bf404520237a3ff2b749b9ec64b63678 locally. Please refer to https://aka.ms/debugimage#service-launch-fails for more information.\"\n    },\n    {\n      \"code\": \"AciDeploymentFailed\",\n      \"message\": \"Your container application crashed. Please follow the steps to debug:\n\t1. From the AML SDK, you can run print(service.get_logs()) if you have service object to fetch the logs. Please refer to https://aka.ms/debugimage#dockerlog for more information.\n\t2. If your container application crashed. This may be caused by errors in your scoring file's init() function. You can try debugging locally first. Please refer to https://aka.ms/debugimage#debug-locally for more information.\n\t3. You can also interactively debug your scoring file locally. Please refer to https://docs.microsoft.com/azure/machine-learning/how-to-debug-visual-studio-code#debug-and-troubleshoot-deployments for more information.\n\t4. View the diagnostic events to check status of container, it may help you to debug the issue.\n\"RestartCount\": 3\n\"CurrentState\": {\"state\":\"Waiting\",\"startTime\":null,\"exitCode\":null,\"finishTime\":null,\"detailStatus\":\"CrashLoopBackOff: Back-off restarting failed\"}\n\"PreviousState\": {\"state\":\"Terminated\",\"startTime\":\"2025-04-04T20:15:06.88Z\",\"exitCode\":111,\"finishTime\":\"2025-04-04T20:15:15.428Z\",\"detailStatus\":\"Error\"}\n\"Events\":\n{\"count\":1,\"firstTimestamp\":\"2025-04-04T20:12:32Z\",\"lastTimestamp\":\"2025-04-04T20:12:32Z\",\"name\":\"Pulling\",\"message\":\"pulling image \"dfee6c5181ec4630b17cb20447e40f65.azurecr.io/azureml/azureml_bf404520237a3ff2b749b9ec64b63678@sha256:41950d1b6785cd303a3dec164a39dd21013ead2b9524dcf4724d5f23fe9015c8\"\",\"type\":\"Normal\"}\n{\"count\":1,\"firstTimestamp\":\"2025-04-04T20:13:17Z\",\"lastTimestamp\":\"2025-04-04T20:13:17Z\",\"name\":\"Pulled\",\"message\":\"Successfully pulled image \"dfee6c5181ec4630b17cb20447e40f65.azurecr.io/azureml/azureml_bf404520237a3ff2b749b9ec64b63678@sha256:41950d1b6785cd303a3dec164a39dd21013ead2b9524dcf4724d5f23fe9015c8\"\",\"type\":\"Normal\"}\n{\"count\":4,\"firstTimestamp\":\"2025-04-04T20:13:40Z\",\"lastTimestamp\":\"2025-04-04T20:15:06Z\",\"name\":\"Started\",\"message\":\"Started container\",\"type\":\"Normal\"}\n{\"count\":4,\"firstTimestamp\":\"2025-04-04T20:13:48Z\",\"lastTimestamp\":\"2025-04-04T20:15:15Z\",\"name\":\"Killing\",\"message\":\"Container service terminated with ExitCode 111.\",\"type\":\"Normal\"}\n\"\n    }\n  ]\n}\n\tInnerException None\n\tErrorResponse \n{\n    \"error\": {\n        \"message\": \"Service deployment polling reached non-successful terminal state, current service state: Failed\\nOperation ID: 761ad22e-fb18-4ead-9734-bff0b52820e6\\nMore information can be found using '.get_logs()'\\nError:\\n{\\n  \\\"code\\\": \\\"AciDeploymentFailed\\\",\\n  \\\"statusCode\\\": 400,\\n  \\\"message\\\": \\\"Aci Deployment failed with exception: Your container application crashed. This may be caused by errors in your scoring file's init() function.\\n\\t1. Please check the logs for your container instance: service. From the AML SDK, you can run print(service.get_logs()) if you have service object to fetch the logs.\\n\\t2. You can interactively debug your scoring file locally. Please refer to https://docs.microsoft.com/azure/machine-learning/how-to-debug-visual-studio-code#debug-and-troubleshoot-deployments for more information.\\n\\t3. You can also try to run image dfee6c5181ec4630b17cb20447e40f65.azurecr.io/azureml/azureml_bf404520237a3ff2b749b9ec64b63678 locally. Please refer to https://aka.ms/debugimage#service-launch-fails for more information.\\\",\\n  \\\"details\\\": [\\n    {\\n      \\\"code\\\": \\\"CrashLoopBackOff\\\",\\n      \\\"message\\\": \\\"Your container application crashed. This may be caused by errors in your scoring file's init() function.\\n\\t1. Please check the logs for your container instance: service. From the AML SDK, you can run print(service.get_logs()) if you have service object to fetch the logs.\\n\\t2. You can interactively debug your scoring file locally. Please refer to https://docs.microsoft.com/azure/machine-learning/how-to-debug-visual-studio-code#debug-and-troubleshoot-deployments for more information.\\n\\t3. You can also try to run image dfee6c5181ec4630b17cb20447e40f65.azurecr.io/azureml/azureml_bf404520237a3ff2b749b9ec64b63678 locally. Please refer to https://aka.ms/debugimage#service-launch-fails for more information.\\\"\\n    },\\n    {\\n      \\\"code\\\": \\\"AciDeploymentFailed\\\",\\n      \\\"message\\\": \\\"Your container application crashed. Please follow the steps to debug:\\n\\t1. From the AML SDK, you can run print(service.get_logs()) if you have service object to fetch the logs. Please refer to https://aka.ms/debugimage#dockerlog for more information.\\n\\t2. If your container application crashed. This may be caused by errors in your scoring file's init() function. You can try debugging locally first. Please refer to https://aka.ms/debugimage#debug-locally for more information.\\n\\t3. You can also interactively debug your scoring file locally. Please refer to https://docs.microsoft.com/azure/machine-learning/how-to-debug-visual-studio-code#debug-and-troubleshoot-deployments for more information.\\n\\t4. View the diagnostic events to check status of container, it may help you to debug the issue.\\n\\\"RestartCount\\\": 3\\n\\\"CurrentState\\\": {\\\"state\\\":\\\"Waiting\\\",\\\"startTime\\\":null,\\\"exitCode\\\":null,\\\"finishTime\\\":null,\\\"detailStatus\\\":\\\"CrashLoopBackOff: Back-off restarting failed\\\"}\\n\\\"PreviousState\\\": {\\\"state\\\":\\\"Terminated\\\",\\\"startTime\\\":\\\"2025-04-04T20:15:06.88Z\\\",\\\"exitCode\\\":111,\\\"finishTime\\\":\\\"2025-04-04T20:15:15.428Z\\\",\\\"detailStatus\\\":\\\"Error\\\"}\\n\\\"Events\\\":\\n{\\\"count\\\":1,\\\"firstTimestamp\\\":\\\"2025-04-04T20:12:32Z\\\",\\\"lastTimestamp\\\":\\\"2025-04-04T20:12:32Z\\\",\\\"name\\\":\\\"Pulling\\\",\\\"message\\\":\\\"pulling image \\\"dfee6c5181ec4630b17cb20447e40f65.azurecr.io/azureml/azureml_bf404520237a3ff2b749b9ec64b63678@sha256:41950d1b6785cd303a3dec164a39dd21013ead2b9524dcf4724d5f23fe9015c8\\\"\\\",\\\"type\\\":\\\"Normal\\\"}\\n{\\\"count\\\":1,\\\"firstTimestamp\\\":\\\"2025-04-04T20:13:17Z\\\",\\\"lastTimestamp\\\":\\\"2025-04-04T20:13:17Z\\\",\\\"name\\\":\\\"Pulled\\\",\\\"message\\\":\\\"Successfully pulled image \\\"dfee6c5181ec4630b17cb20447e40f65.azurecr.io/azureml/azureml_bf404520237a3ff2b749b9ec64b63678@sha256:41950d1b6785cd303a3dec164a39dd21013ead2b9524dcf4724d5f23fe9015c8\\\"\\\",\\\"type\\\":\\\"Normal\\\"}\\n{\\\"count\\\":4,\\\"firstTimestamp\\\":\\\"2025-04-04T20:13:40Z\\\",\\\"lastTimestamp\\\":\\\"2025-04-04T20:15:06Z\\\",\\\"name\\\":\\\"Started\\\",\\\"message\\\":\\\"Started container\\\",\\\"type\\\":\\\"Normal\\\"}\\n{\\\"count\\\":4,\\\"firstTimestamp\\\":\\\"2025-04-04T20:13:48Z\\\",\\\"lastTimestamp\\\":\\\"2025-04-04T20:15:15Z\\\",\\\"name\\\":\\\"Killing\\\",\\\"message\\\":\\\"Container service terminated with ExitCode 111.\\\",\\\"type\\\":\\\"Normal\\\"}\\n\\\"\\n    }\\n  ]\\n}\"\n    }\n}"
     ]
    }
   ],
   "source": [
    "service.wait_for_deployment()\n",
    "\n",
    "scoring_uri = service.scoring_uri\n",
    "\n",
    "scoreuri = json.dumps({\"URI\": [scoring_uri]})\n",
    "file = open(\"uri.json\", \"w\")\n",
    "file.write(scoreuri)\n",
    "file.close()"
   ]
  },
  {
   "cell_type": "code",
   "execution_count": null,
   "metadata": {},
   "outputs": [
    {
     "name": "stdout",
     "output_type": "stream",
     "text": [
      "model_scaler 1\n",
      "model 1\n"
     ]
    }
   ],
   "source": [
    "models = Model.list(workspace=ws)\n",
    "for model in models:\n",
    "    print(model.name, model.version)\n"
   ]
  },
  {
   "cell_type": "code",
   "execution_count": null,
   "metadata": {},
   "outputs": [
    {
     "name": "stdout",
     "output_type": "stream",
     "text": [
      "/bin/bash: /azureml-envs/azureml_b64eb7c138348198653a4668ab6e818b/lib/libtinfo.so.6: no version information available (required by /bin/bash)\n",
      "/bin/bash: /azureml-envs/azureml_b64eb7c138348198653a4668ab6e818b/lib/libtinfo.so.6: no version information available (required by /bin/bash)\n",
      "/bin/bash: /azureml-envs/azureml_b64eb7c138348198653a4668ab6e818b/lib/libtinfo.so.6: no version information available (required by /bin/bash)\n",
      "2025-04-04T05:43:12,040116552+00:00 - rsyslog/run \n",
      "bash: /azureml-envs/azureml_b64eb7c138348198653a4668ab6e818b/lib/libtinfo.so.6: no version information available (required by bash)\n",
      "2025-04-04T05:43:12,046967030+00:00 - gunicorn/run \n",
      "2025-04-04T05:43:12,048353396+00:00 | gunicorn/run | \n",
      "2025-04-04T05:43:12,050061784+00:00 | gunicorn/run | ###############################################\n",
      "2025-04-04T05:43:12,052341056+00:00 | gunicorn/run | AzureML Container Runtime Information\n",
      "2025-04-04T05:43:12,054129215+00:00 - nginx/run \n",
      "2025-04-04T05:43:12,055472301+00:00 | gunicorn/run | ###############################################\n",
      "2025-04-04T05:43:12,056872343+00:00 | gunicorn/run | \n",
      "2025-04-04T05:43:12,059085452+00:00 | gunicorn/run | \n",
      "2025-04-04T05:43:12,063752669+00:00 | gunicorn/run | AzureML image information: openmpi4.1.0-ubuntu20.04, Materializaton Build:20250224.v1\n",
      "2025-04-04T05:43:12,066063130+00:00 | gunicorn/run | \n",
      "2025-04-04T05:43:12,069477410+00:00 | gunicorn/run | \n",
      "2025-04-04T05:43:12,072954367+00:00 | gunicorn/run | PATH environment variable: /azureml-envs/azureml_b64eb7c138348198653a4668ab6e818b/bin:/opt/miniconda/bin:/usr/local/sbin:/usr/local/bin:/usr/sbin:/usr/bin:/sbin:/bin\n",
      "2025-04-04T05:43:12,074278948+00:00 | gunicorn/run | PYTHONPATH environment variable: \n",
      "2025-04-04T05:43:12,076104925+00:00 | gunicorn/run | \n",
      "2025-04-04T05:43:13,976292579+00:00 | gunicorn/run | CONDAPATH environment variable: /opt/miniconda\n",
      "\n",
      "\n",
      "# conda environments:\n",
      "#\n",
      "                     * /azureml-envs/azureml_b64eb7c138348198653a4668ab6e818b\n",
      "base                   /opt/miniconda\n",
      "\n",
      "2025-04-04T05:43:14,667471334+00:00 | gunicorn/run | \n",
      "2025-04-04T05:43:14,668807447+00:00 | gunicorn/run | Pip Dependencies (before dynamic installation)\n",
      "\n",
      "adal==1.2.7\n",
      "annotated-types==0.7.0\n",
      "argcomplete==3.6.2\n",
      "attrs==25.3.0\n",
      "azure-common==1.1.28\n",
      "azure-core==1.33.0\n",
      "azure-graphrbac==0.61.2\n",
      "azure-identity==1.21.0\n",
      "azure-mgmt-authorization==4.0.0\n",
      "azure-mgmt-containerregistry==10.3.0\n",
      "azure-mgmt-core==1.5.0\n",
      "azure-mgmt-keyvault==10.3.1\n",
      "azure-mgmt-network==28.1.0\n",
      "azure-mgmt-resource==23.3.0\n",
      "azure-mgmt-storage==22.0.0\n",
      "azureml-core==1.59.0.post2\n",
      "azureml-dataprep==5.1.6\n",
      "azureml-dataprep-native==41.0.0\n",
      "azureml-dataprep-rslex==2.22.5\n",
      "azureml-dataset-runtime==1.59.0\n",
      "azureml-defaults==1.59.0\n",
      "azureml-inference-server-http==1.4.0\n",
      "backports.tempfile==1.0\n",
      "backports.weakref==1.0.post1\n",
      "bcrypt==4.3.0\n",
      "blinker==1.9.0\n",
      "Bottleneck @ file:///croot/bottleneck_1731058641041/work\n",
      "cachetools==5.5.2\n",
      "certifi==2025.1.31\n",
      "cffi==1.17.1\n",
      "charset-normalizer==3.4.1\n",
      "click==8.1.8\n",
      "cloudpickle==2.2.1\n",
      "contextlib2==21.6.0\n",
      "cryptography==44.0.2\n",
      "docker==7.1.0\n",
      "Flask==3.0.3\n",
      "flask-cors==5.0.1\n",
      "fusepy==3.0.1\n",
      "google-api-core==2.24.2\n",
      "google-auth==2.38.0\n",
      "googleapis-common-protos==1.69.2\n",
      "gunicorn==23.0.0\n",
      "humanfriendly==10.0\n",
      "idna==3.10\n",
      "importlib_metadata==8.6.1\n",
      "inference-schema==1.8\n",
      "isodate==0.7.2\n",
      "itsdangerous==2.2.0\n",
      "jeepney==0.9.0\n",
      "Jinja2==3.1.6\n",
      "jmespath==1.0.1\n",
      "joblib @ file:///croot/joblib_1718217211762/work\n",
      "jsonpickle==4.0.5\n",
      "jsonschema==4.23.0\n",
      "jsonschema-specifications==2024.10.1\n",
      "knack==0.12.0\n",
      "MarkupSafe==3.0.2\n",
      "msal==1.32.0\n",
      "msal-extensions==1.3.1\n",
      "msrest==0.7.1\n",
      "msrestazure==0.6.4.post1\n",
      "ndg-httpsclient==0.5.1\n",
      "numexpr @ file:///croot/numexpr_1730215937391/work\n",
      "numpy==1.23.5\n",
      "oauthlib==3.2.2\n",
      "opencensus==0.11.4\n",
      "opencensus-context==0.1.3\n",
      "opencensus-ext-azure==1.1.14\n",
      "packaging==24.2\n",
      "pandas @ file:///croot/pandas_1732735089971/work/dist/pandas-2.2.3-cp39-cp39-linux_x86_64.whl#sha256=0a51ed2e81ab863e3d00ed6c5049192ce578ecb38fb467d2f9a6585d3c25f666\n",
      "paramiko==3.5.1\n",
      "pathspec==0.12.1\n",
      "pkginfo==1.12.1.2\n",
      "proto-plus==1.26.1\n",
      "protobuf==6.30.2\n",
      "psutil==7.0.0\n",
      "pyarrow==19.0.1\n",
      "pyasn1==0.6.1\n",
      "pyasn1_modules==0.4.2\n",
      "pycparser==2.22\n",
      "pydantic==2.9.2\n",
      "pydantic-settings==2.8.1\n",
      "pydantic_core==2.23.4\n",
      "Pygments==2.19.1\n",
      "PyJWT==2.10.1\n",
      "PyNaCl==1.5.0\n",
      "pyOpenSSL==24.3.0\n",
      "PySocks==1.7.1\n",
      "python-dateutil @ file:///croot/python-dateutil_1716495738603/work\n",
      "python-dotenv==1.1.0\n",
      "pytz @ file:///croot/pytz_1713974312559/work\n",
      "PyYAML==6.0.2\n",
      "referencing==0.36.2\n",
      "requests==2.32.3\n",
      "requests-oauthlib==2.0.0\n",
      "rpds-py==0.24.0\n",
      "rsa==4.9\n",
      "scikit-learn @ file:///croot/scikit-learn_1714164736727/work\n",
      "scipy @ file:///croot/scipy_1733756309941/work/dist/scipy-1.13.1-cp39-cp39-linux_x86_64.whl#sha256=3b247b926209f2d9f719ebae39faf3ff891b2596150ed8f8349adfc3eb19441c\n",
      "SecretStorage==3.3.3\n",
      "six @ file:///tmp/build/80754af9/six_1644875935023/work\n",
      "tabulate==0.9.0\n",
      "threadpoolctl @ file:///croot/threadpoolctl_1719407800858/work\n",
      "typing_extensions==4.13.1\n",
      "tzdata @ file:///croot/python-tzdata_1690578112552/work\n",
      "urllib3==2.3.0\n",
      "Werkzeug==3.1.3\n",
      "wrapt==1.16.0\n",
      "zipp==3.21.0\n",
      "\n",
      "2025-04-04T05:43:15,166565353+00:00 | gunicorn/run | \n",
      "2025-04-04T05:43:15,167745826+00:00 | gunicorn/run | Entry script directory: /var/azureml-app/.\n",
      "2025-04-04T05:43:15,169136440+00:00 | gunicorn/run | \n",
      "2025-04-04T05:43:15,170174006+00:00 | gunicorn/run | ###############################################\n",
      "2025-04-04T05:43:15,171127094+00:00 | gunicorn/run | Dynamic Python Package Installation\n",
      "2025-04-04T05:43:15,172314249+00:00 | gunicorn/run | ###############################################\n",
      "2025-04-04T05:43:15,173253461+00:00 | gunicorn/run | \n",
      "2025-04-04T05:43:15,174397866+00:00 | gunicorn/run | Dynamic Python package installation is disabled.\n",
      "2025-04-04T05:43:15,175481518+00:00 | gunicorn/run | \n",
      "2025-04-04T05:43:15,176507802+00:00 | gunicorn/run | ###############################################\n",
      "2025-04-04T05:43:15,177824990+00:00 | gunicorn/run | Checking if the Python package azureml-inference-server-http is installed\n",
      "2025-04-04T05:43:15,178862295+00:00 | gunicorn/run | ###############################################\n",
      "2025-04-04T05:43:15,179774938+00:00 | gunicorn/run | \n",
      "2025-04-04T05:43:15,733883213+00:00 | gunicorn/run | \n",
      "2025-04-04T05:43:15,735084213+00:00 | gunicorn/run | ###############################################\n",
      "2025-04-04T05:43:15,736504523+00:00 | gunicorn/run | AzureML Inference Server\n",
      "2025-04-04T05:43:15,738255900+00:00 | gunicorn/run | ###############################################\n",
      "2025-04-04T05:43:15,739759376+00:00 | gunicorn/run | \n",
      "2025-04-04T05:43:15,740949546+00:00 | gunicorn/run | Starting AzureML Inference Server HTTP.\n",
      "2025-04-04 05:43:15,937 I [69] azmlinfsrv - Loaded logging config from /azureml-envs/azureml_b64eb7c138348198653a4668ab6e818b/lib/python3.9/site-packages/azureml_inference_server_http/logging.json\n",
      "2025-04-04 05:43:15,965 I [69] gunicorn.error - Starting gunicorn 23.0.0\n",
      "2025-04-04 05:43:15,965 I [69] gunicorn.error - Listening at: http://0.0.0.0:31311 (69)\n",
      "2025-04-04 05:43:15,966 I [69] gunicorn.error - Using worker: sync\n",
      "2025-04-04 05:43:15,968 I [129] gunicorn.error - Booting worker with pid: 129\n",
      "\n",
      "Azure ML Inferencing HTTP server v1.4.0\n",
      "\n",
      "\n",
      "Server Settings\n",
      "---------------\n",
      "Entry Script Name: /var/azureml-app/score.py\n",
      "Model Directory: /var/azureml-app/azureml-models\n",
      "Config File: None\n",
      "Worker Count: 1\n",
      "Worker Timeout (seconds): 300\n",
      "Server Port: 31311\n",
      "Health Port: 31311\n",
      "Application Insights Enabled: false\n",
      "Application Insights Key: None\n",
      "Inferencing HTTP server version: azmlinfsrv/1.4.0\n",
      "CORS for the specified origins: None\n",
      "Create dedicated endpoint for health: None\n",
      "\n",
      "\n",
      "Server Routes\n",
      "---------------\n",
      "Liveness Probe: GET   127.0.0.1:31311/\n",
      "Score:          POST  127.0.0.1:31311/score\n",
      "\n",
      "2025-04-04 05:43:16,152 W [129] azmlinfsrv - Found extra keys in the config file that are not supported by the server.\n",
      "Extra keys = ['AZUREML_ENTRY_SCRIPT', 'SERVICE_NAME', 'WORKSPACE_NAME', 'SCORING_TIMEOUT_MS', 'AZUREML_MODEL_DIR', 'HOSTNAME']\n",
      "Initializing logger\n",
      "2025-04-04 05:43:16,464 I [129] azmlinfsrv - Starting up app insights client\n",
      "2025-04-04 05:43:18,471 I [129] azmlinfsrv.user_script - Found user script at /var/azureml-app/score.py\n",
      "2025-04-04 05:43:18,472 I [129] azmlinfsrv.user_script - run() is not decorated. Server will invoke it with the input in JSON string.\n",
      "2025-04-04 05:43:18,472 I [129] azmlinfsrv.user_script - Invoking user's init function\n",
      "2025-04-04 05:43:18,472 I [129] azmlinfsrv.print - [INFO] Loading model and scaler...\n",
      "2025-04-04 05:43:18,473 I [129] azmlinfsrv.print - [INFO] NumPy version: 1.23.5\n",
      "2025-04-04 05:43:18,473 I [129] azmlinfsrv.print - [INFO] Scikit-learn version: 1.4.2\n",
      "2025-04-04 05:43:18,474 I [129] azmlinfsrv.print - [INFO] Loading model from /var/azureml-app/azureml-models/model/1/best_model.pkl\n",
      "2025-04-04 05:43:18,650 I [129] azmlinfsrv.print - [ERROR] Failed to load model or scaler: __randomstate_ctor() takes from 0 to 1 positional arguments but 2 were given\n",
      "Traceback (most recent call last):\n",
      "  File \"/var/azureml-app/score.py\", line 56, in init\n",
      "    model = joblib.load(model_path)\n",
      "  File \"/azureml-envs/azureml_b64eb7c138348198653a4668ab6e818b/lib/python3.9/site-packages/joblib/numpy_pickle.py\", line 658, in load\n",
      "    obj = _unpickle(fobj, filename, mmap_mode)\n",
      "  File \"/azureml-envs/azureml_b64eb7c138348198653a4668ab6e818b/lib/python3.9/site-packages/joblib/numpy_pickle.py\", line 577, in _unpickle\n",
      "    obj = unpickler.load()\n",
      "  File \"/azureml-envs/azureml_b64eb7c138348198653a4668ab6e818b/lib/python3.9/pickle.py\", line 1212, in load\n",
      "    dispatch[key[0]](self)\n",
      "  File \"/azureml-envs/azureml_b64eb7c138348198653a4668ab6e818b/lib/python3.9/site-packages/joblib/numpy_pickle.py\", line 415, in load_build\n",
      "    self.stack.append(array_wrapper.read(self))\n",
      "  File \"/azureml-envs/azureml_b64eb7c138348198653a4668ab6e818b/lib/python3.9/site-packages/joblib/numpy_pickle.py\", line 252, in read\n",
      "    array = self.read_array(unpickler)\n",
      "  File \"/azureml-envs/azureml_b64eb7c138348198653a4668ab6e818b/lib/python3.9/site-packages/joblib/numpy_pickle.py\", line 152, in read_array\n",
      "    array = pickle.load(unpickler.file_handle)\n",
      "TypeError: __randomstate_ctor() takes from 0 to 1 positional arguments but 2 were given\n",
      "2025-04-04 05:43:18,653 I [129] azmlinfsrv.user_script - Users's init has completed successfully\n",
      "2025-04-04 05:43:18,654 I [129] azmlinfsrv.swagger - Swaggers are prepared for the following versions: [2, 3, 3.1].\n",
      "2025-04-04 05:43:18,654 I [129] azmlinfsrv - Scoring timeout is set to 60000\n",
      "2025-04-04 05:43:18,654 I [129] azmlinfsrv - Worker with pid 129 ready for serving traffic\n",
      "2025-04-04 05:43:18,723 W [129] azmlinfsrv - x-ms-request-id header has been deprecated and will be removed from future versions of the server. Please use x-ms-client-request-id.\n",
      "2025-04-04 05:43:18,725 I [129] gunicorn.access - 127.0.0.1 - - [04/Apr/2025:05:43:18 +0000] \"GET / HTTP/1.0\" 200 7 \"-\" \"Go-http-client/1.1\"\n",
      "2025-04-04 05:43:18,735 W [129] azmlinfsrv - x-ms-request-id header has been deprecated and will be removed from future versions of the server. Please use x-ms-client-request-id.\n",
      "2025-04-04 05:43:18,735 I [129] azmlinfsrv - GET /swagger.json 200 0.471ms 2192\n",
      "2025-04-04 05:43:18,736 I [129] gunicorn.access - 127.0.0.1 - - [04/Apr/2025:05:43:18 +0000] \"GET /swagger.json HTTP/1.0\" 200 2192 \"-\" \"Go-http-client/1.1\"\n",
      "2025-04-04 05:46:16,592 W [129] azmlinfsrv - x-ms-request-id header has been deprecated and will be removed from future versions of the server. Please use x-ms-client-request-id.\n",
      "2025-04-04 05:46:16,593 I [129] gunicorn.access - 127.0.0.1 - - [04/Apr/2025:05:46:16 +0000] \"GET / HTTP/1.0\" 200 7 \"-\" \"Go-http-client/1.1\"\n",
      "2025-04-04 05:46:16,596 W [129] azmlinfsrv - x-ms-request-id header has been deprecated and will be removed from future versions of the server. Please use x-ms-client-request-id.\n",
      "2025-04-04 05:46:16,597 I [129] azmlinfsrv - GET /swagger.json 200 0.383ms 2192\n",
      "2025-04-04 05:46:16,597 I [129] gunicorn.access - 127.0.0.1 - - [04/Apr/2025:05:46:16 +0000] \"GET /swagger.json HTTP/1.0\" 200 2192 \"-\" \"Go-http-client/1.1\"\n",
      "2025-04-04 05:46:34,500 W [129] azmlinfsrv - x-ms-request-id header has been deprecated and will be removed from future versions of the server. Please use x-ms-client-request-id.\n",
      "2025-04-04 05:46:34,501 I [129] azmlinfsrv.print - [ERROR] Unexpected error in run(): [ERROR] Model or scaler not initialized. Check logs for errors. Traceback (most recent call last):\n",
      "  File \"/var/azureml-app/score.py\", line 76, in run\n",
      "    raise RuntimeError(\"[ERROR] Model or scaler not initialized. Check logs for errors.\")\n",
      "RuntimeError: [ERROR] Model or scaler not initialized. Check logs for errors.\n",
      "\n",
      "2025-04-04 05:46:34,501 I [129] azmlinfsrv - POST /score 200 1.196ms 393\n",
      "2025-04-04 05:46:34,502 I [129] gunicorn.access - 127.0.0.1 - - [04/Apr/2025:05:46:34 +0000] \"POST /score HTTP/1.0\" 200 393 \"-\" \"python-requests/2.32.3\"\n",
      "\n"
     ]
    }
   ],
   "source": [
    "print(service.get_logs())\n"
   ]
  },
  {
   "cell_type": "code",
   "execution_count": null,
   "metadata": {},
   "outputs": [
    {
     "ename": "NameError",
     "evalue": "name 'service' is not defined",
     "output_type": "error",
     "traceback": [
      "\u001b[31m---------------------------------------------------------------------------\u001b[39m",
      "\u001b[31mNameError\u001b[39m                                 Traceback (most recent call last)",
      "\u001b[36mCell\u001b[39m\u001b[36m \u001b[39m\u001b[32mIn[4]\u001b[39m\u001b[32m, line 1\u001b[39m\n\u001b[32m----> \u001b[39m\u001b[32m1\u001b[39m \u001b[43mservice\u001b[49m.delete()\n",
      "\u001b[31mNameError\u001b[39m: name 'service' is not defined"
     ]
    }
   ],
   "source": [
    "service.delete()\n"
   ]
  },
  {
   "cell_type": "code",
   "execution_count": null,
   "metadata": {},
   "outputs": [
    {
     "name": "stdout",
     "output_type": "stream",
     "text": [
      "Collecting numpy==1.26.4\n",
      "  Using cached numpy-1.26.4-cp311-cp311-win_amd64.whl.metadata (61 kB)\n",
      "Requirement already satisfied: scikit-learn==1.4.2 in c:\\users\\avril\\octavo_semestre\\repositorio_actividades_bloque_final\\actividades_cc\\act_semana_2\\.venv\\lib\\site-packages (1.4.2)\n",
      "Requirement already satisfied: joblib in c:\\users\\avril\\octavo_semestre\\repositorio_actividades_bloque_final\\actividades_cc\\act_semana_2\\.venv\\lib\\site-packages (1.4.2)\n",
      "Requirement already satisfied: pandas in c:\\users\\avril\\octavo_semestre\\repositorio_actividades_bloque_final\\actividades_cc\\act_semana_2\\.venv\\lib\\site-packages (2.2.3)\n",
      "Requirement already satisfied: scipy>=1.6.0 in c:\\users\\avril\\octavo_semestre\\repositorio_actividades_bloque_final\\actividades_cc\\act_semana_2\\.venv\\lib\\site-packages (from scikit-learn==1.4.2) (1.15.2)\n",
      "Requirement already satisfied: threadpoolctl>=2.0.0 in c:\\users\\avril\\octavo_semestre\\repositorio_actividades_bloque_final\\actividades_cc\\act_semana_2\\.venv\\lib\\site-packages (from scikit-learn==1.4.2) (3.6.0)\n",
      "Requirement already satisfied: python-dateutil>=2.8.2 in c:\\users\\avril\\octavo_semestre\\repositorio_actividades_bloque_final\\actividades_cc\\act_semana_2\\.venv\\lib\\site-packages (from pandas) (2.9.0.post0)\n",
      "Requirement already satisfied: pytz>=2020.1 in c:\\users\\avril\\octavo_semestre\\repositorio_actividades_bloque_final\\actividades_cc\\act_semana_2\\.venv\\lib\\site-packages (from pandas) (2025.2)\n",
      "Requirement already satisfied: tzdata>=2022.7 in c:\\users\\avril\\octavo_semestre\\repositorio_actividades_bloque_final\\actividades_cc\\act_semana_2\\.venv\\lib\\site-packages (from pandas) (2025.2)\n",
      "Requirement already satisfied: six>=1.5 in c:\\users\\avril\\octavo_semestre\\repositorio_actividades_bloque_final\\actividades_cc\\act_semana_2\\.venv\\lib\\site-packages (from python-dateutil>=2.8.2->pandas) (1.17.0)\n",
      "Using cached numpy-1.26.4-cp311-cp311-win_amd64.whl (15.8 MB)\n",
      "Installing collected packages: numpy\n",
      "  Attempting uninstall: numpy\n",
      "    Found existing installation: numpy 1.23.5\n",
      "    Uninstalling numpy-1.23.5:\n",
      "      Successfully uninstalled numpy-1.23.5\n",
      "Successfully installed numpy-1.26.4\n",
      "Note: you may need to restart the kernel to use updated packages.\n"
     ]
    },
    {
     "name": "stderr",
     "output_type": "stream",
     "text": [
      "ERROR: pip's dependency resolver does not currently take into account all the packages that are installed. This behaviour is the source of the following dependency conflicts.\n",
      "azureml-dataset-runtime 1.59.0 requires numpy!=1.19.4,<1.24; sys_platform == \"win32\", but you have numpy 1.26.4 which is incompatible.\n",
      "\n",
      "[notice] A new release of pip is available: 24.0 -> 25.0.1\n",
      "[notice] To update, run: python.exe -m pip install --upgrade pip\n"
     ]
    }
   ],
   "source": [
    "pip install numpy==1.26.4 scikit-learn==1.4.2  joblib pandas\n"
   ]
  },
  {
   "cell_type": "code",
   "execution_count": null,
   "metadata": {},
   "outputs": [
    {
     "name": "stdout",
     "output_type": "stream",
     "text": [
      "Usando scikit-learn versión: 1.4.2\n",
      "✅ Modelo cargado exitosamente\n"
     ]
    }
   ],
   "source": [
    "import joblib\n",
    "import sklearn\n",
    "\n",
    "print(f\"Usando scikit-learn versión: {sklearn.__version__}\")\n",
    "\n",
    "try:\n",
    "    model = joblib.load(\"../scaler.pkl\")\n",
    "    print(\"✅ Modelo cargado exitosamente\")\n",
    "except Exception as e:\n",
    "    print(f\"❌ Error al cargar el modelo: {e}\")\n"
   ]
  },
  {
   "cell_type": "code",
   "execution_count": null,
   "metadata": {},
   "outputs": [
    {
     "name": "stdout",
     "output_type": "stream",
     "text": [
      "^C\n",
      "Note: you may need to restart the kernel to use updated packages.\n"
     ]
    }
   ],
   "source": [
    "pip uninstall scikit-learn\n"
   ]
  },
  {
   "cell_type": "code",
   "execution_count": null,
   "metadata": {},
   "outputs": [
    {
     "name": "stdout",
     "output_type": "stream",
     "text": [
      "Usando scikit-learn versión: 1.4.2\n",
      "Usando numpy versión: 1.26.4\n",
      "✅ Modelo cargado exitosamente\n"
     ]
    }
   ],
   "source": [
    "import joblib\n",
    "import sklearn\n",
    "import traceback\n",
    "import numpy\n",
    "print(f\"Usando scikit-learn versión: {sklearn.__version__}\")\n",
    "\n",
    "print(f\"Usando numpy versión: {numpy.__version__}\")\n",
    "\n",
    "try:\n",
    "    # Intenta cargar el modelo\n",
    "    model = joblib.load(\"../best_model.pkl\")\n",
    "    print(\"✅ Modelo cargado exitosamente\")\n",
    "except Exception as e:\n",
    "    # Si ocurre un error, muestra el mensaje de error y la traza completa\n",
    "    print(f\"❌ Error al cargar el modelo: {e}\")\n",
    "    traceback.print_exc()  # Esto imprimirá la traza completa del error\n"
   ]
  },
  {
   "cell_type": "code",
   "execution_count": null,
   "metadata": {},
   "outputs": [],
   "source": []
  }
 ],
 "metadata": {
  "kernelspec": {
   "display_name": ".venv",
   "language": "python",
   "name": "python3"
  },
  "language_info": {
   "codemirror_mode": {
    "name": "ipython",
    "version": 3
   },
   "file_extension": ".py",
   "mimetype": "text/x-python",
   "name": "python",
   "nbconvert_exporter": "python",
   "pygments_lexer": "ipython3",
   "version": "3.11.9"
  }
 },
 "nbformat": 4,
 "nbformat_minor": 2
}
