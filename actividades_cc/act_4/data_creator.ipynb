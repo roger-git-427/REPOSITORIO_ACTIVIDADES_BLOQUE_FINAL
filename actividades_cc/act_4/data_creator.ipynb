{
  "nbformat": 4,
  "nbformat_minor": 0,
  "metadata": {
    "colab": {
      "provenance": []
    },
    "kernelspec": {
      "name": "python3",
      "display_name": "Python 3"
    },
    "language_info": {
      "name": "python"
    }
  },
  "cells": [
    {
      "cell_type": "markdown",
      "source": [
        "# Data creator\n"
      ],
      "metadata": {
        "id": "uDUMkzOzGNGu"
      }
    },
    {
      "cell_type": "code",
      "source": [
        "import numpy as np\n",
        "import pandas as pd\n",
        "from sklearn.model_selection import StratifiedKFold, StratifiedShuffleSplit\n",
        "from tensorflow.keras.datasets import mnist\n",
        "import os\n",
        "from collections import Counter\n",
        "\n",
        "# --- Mount Google Drive ---\n",
        "from google.colab import drive\n",
        "drive.mount('/content/drive')\n",
        "\n",
        "# --- Set save directory inside Google Drive ---\n",
        "SAVE_DIR = '/content/drive/MyDrive/models_cc/subsets'\n",
        "os.makedirs(SAVE_DIR, exist_ok=True)\n",
        "\n",
        "# --- Load MNIST from Keras ---\n",
        "(X, y), (X_val, y_val) = mnist.load_data()\n",
        "X = X.reshape(-1, 28 * 28)\n",
        "y = y.astype(int)\n",
        "\n",
        "# --- Step 1: Global Test Set ---\n",
        "sss = StratifiedShuffleSplit(n_splits=1, test_size=10000, random_state=42)\n",
        "train_idx, global_test_idx = next(sss.split(X, y))\n",
        "\n",
        "X_remaining, y_remaining = X[train_idx], y[train_idx]\n",
        "X_global_test, y_global_test = X[global_test_idx], y[global_test_idx]\n",
        "\n",
        "df_global = pd.DataFrame(X_global_test)\n",
        "df_global['label'] = y_global_test\n",
        "df_global.to_parquet(os.path.join(SAVE_DIR, 'mnist_global_test.parquet'), index=False)\n",
        "print(\"✅ Saved global test set\")\n",
        "\n",
        "# --- Step 2: Stratified Split into 5 clients ---\n",
        "skf = StratifiedKFold(n_splits=5, shuffle=True, random_state=42)\n",
        "\n",
        "for client_id, (client_idx, _) in enumerate(skf.split(X_remaining, y_remaining), 1):\n",
        "    X_client, y_client = X_remaining[client_idx], y_remaining[client_idx]\n",
        "\n",
        "    # --- Step 3: Local train/test split for each client (stratified) ---\n",
        "    sss_local = StratifiedShuffleSplit(n_splits=1, test_size=0.2, random_state=client_id)\n",
        "    train_idx, test_idx = next(sss_local.split(X_client, y_client))\n",
        "\n",
        "    X_train, y_train = X_client[train_idx], y_client[train_idx]\n",
        "    X_test, y_test = X_client[test_idx], y_client[test_idx]\n",
        "\n",
        "    print(f\"Client {client_id} test class counts:\", Counter(y_test))\n",
        "\n",
        "    # Save to Parquet inside Drive\n",
        "    df_train = pd.DataFrame(X_train)\n",
        "    df_train['label'] = y_train\n",
        "    df_train.to_parquet(os.path.join(SAVE_DIR, f'mnist_client{client_id}_train.parquet'), index=False)\n",
        "\n",
        "    df_test = pd.DataFrame(X_test)\n",
        "    df_test['label'] = y_test\n",
        "    df_test.to_parquet(os.path.join(SAVE_DIR, f'mnist_client{client_id}_test.parquet'), index=False)\n",
        "\n",
        "    print(f\"✅ Saved client {client_id} train/test sets\")\n",
        "\n",
        "print(\"\\n🚀 All stratified splits saved to Google Drive!\")\n"
      ],
      "metadata": {
        "colab": {
          "base_uri": "https://localhost:8080/"
        },
        "id": "z0bzA07CGMtP",
        "outputId": "5ee82f96-0d28-4fbd-efb5-1e053d338ac0"
      },
      "execution_count": null,
      "outputs": [
        {
          "output_type": "stream",
          "name": "stdout",
          "text": [
            "Drive already mounted at /content/drive; to attempt to forcibly remount, call drive.mount(\"/content/drive\", force_remount=True).\n",
            "✅ Saved global test set\n",
            "Client 1 test class counts: Counter({np.int64(1): 899, np.int64(7): 835, np.int64(3): 818, np.int64(2): 794, np.int64(9): 793, np.int64(0): 790, np.int64(6): 789, np.int64(8): 780, np.int64(4): 779, np.int64(5): 723})\n",
            "✅ Saved client 1 train/test sets\n",
            "Client 2 test class counts: Counter({np.int64(1): 899, np.int64(7): 835, np.int64(3): 818, np.int64(2): 794, np.int64(9): 793, np.int64(0): 790, np.int64(6): 789, np.int64(8): 780, np.int64(4): 779, np.int64(5): 723})\n",
            "✅ Saved client 2 train/test sets\n",
            "Client 3 test class counts: Counter({np.int64(1): 899, np.int64(7): 835, np.int64(3): 818, np.int64(2): 794, np.int64(9): 793, np.int64(0): 790, np.int64(6): 789, np.int64(8): 780, np.int64(4): 779, np.int64(5): 723})\n",
            "✅ Saved client 3 train/test sets\n",
            "Client 4 test class counts: Counter({np.int64(1): 899, np.int64(7): 835, np.int64(3): 818, np.int64(2): 794, np.int64(9): 793, np.int64(0): 790, np.int64(6): 789, np.int64(8): 780, np.int64(4): 779, np.int64(5): 723})\n",
            "✅ Saved client 4 train/test sets\n",
            "Client 5 test class counts: Counter({np.int64(1): 899, np.int64(7): 836, np.int64(3): 817, np.int64(2): 794, np.int64(9): 793, np.int64(0): 790, np.int64(6): 789, np.int64(8): 780, np.int64(4): 779, np.int64(5): 723})\n",
            "✅ Saved client 5 train/test sets\n",
            "\n",
            "🚀 All stratified splits saved to Google Drive!\n"
          ]
        }
      ]
    }
  ]
}