{
 "cells": [
  {
   "cell_type": "code",
   "execution_count": 9,
   "id": "4611212e",
   "metadata": {},
   "outputs": [
    {
     "name": "stdout",
     "output_type": "stream",
     "text": [
      "Requirement already satisfied: pip==24.0 in c:\\users\\avril\\appdata\\local\\packages\\pythonsoftwarefoundation.python.3.11_qbz5n2kfra8p0\\localcache\\local-packages\\python311\\site-packages (24.0)\n"
     ]
    },
    {
     "name": "stderr",
     "output_type": "stream",
     "text": [
      "\n",
      "[notice] A new release of pip is available: 24.0 -> 25.0.1\n",
      "[notice] To update, run: C:\\Users\\avril\\AppData\\Local\\Microsoft\\WindowsApps\\PythonSoftwareFoundation.Python.3.11_qbz5n2kfra8p0\\python.exe -m pip install --upgrade pip\n"
     ]
    }
   ],
   "source": [
    "!python3 -m pip install pip==24.0"
   ]
  },
  {
   "cell_type": "code",
   "execution_count": 12,
   "id": "82203229",
   "metadata": {},
   "outputs": [
    {
     "name": "stdout",
     "output_type": "stream",
     "text": [
      "Requirement already satisfied: numpy==1.23.5 in c:\\users\\avril\\octavo_semestre\\repositorio_actividades_bloque_final\\actividades_cc\\act_3\\.venv\\lib\\site-packages (1.23.5)\n",
      "Requirement already satisfied: scikit-learn==1.4.2 in c:\\users\\avril\\octavo_semestre\\repositorio_actividades_bloque_final\\actividades_cc\\act_3\\.venv\\lib\\site-packages (1.4.2)\n",
      "Requirement already satisfied: joblib in c:\\users\\avril\\octavo_semestre\\repositorio_actividades_bloque_final\\actividades_cc\\act_3\\.venv\\lib\\site-packages (1.4.2)\n",
      "Requirement already satisfied: pandas in c:\\users\\avril\\octavo_semestre\\repositorio_actividades_bloque_final\\actividades_cc\\act_3\\.venv\\lib\\site-packages (2.2.3)\n",
      "Requirement already satisfied: scipy>=1.6.0 in c:\\users\\avril\\octavo_semestre\\repositorio_actividades_bloque_final\\actividades_cc\\act_3\\.venv\\lib\\site-packages (from scikit-learn==1.4.2) (1.15.2)\n",
      "Requirement already satisfied: threadpoolctl>=2.0.0 in c:\\users\\avril\\octavo_semestre\\repositorio_actividades_bloque_final\\actividades_cc\\act_3\\.venv\\lib\\site-packages (from scikit-learn==1.4.2) (3.6.0)\n",
      "Requirement already satisfied: python-dateutil>=2.8.2 in c:\\users\\avril\\octavo_semestre\\repositorio_actividades_bloque_final\\actividades_cc\\act_3\\.venv\\lib\\site-packages (from pandas) (2.9.0.post0)\n",
      "Requirement already satisfied: pytz>=2020.1 in c:\\users\\avril\\octavo_semestre\\repositorio_actividades_bloque_final\\actividades_cc\\act_3\\.venv\\lib\\site-packages (from pandas) (2025.2)\n",
      "Requirement already satisfied: tzdata>=2022.7 in c:\\users\\avril\\octavo_semestre\\repositorio_actividades_bloque_final\\actividades_cc\\act_3\\.venv\\lib\\site-packages (from pandas) (2025.2)\n",
      "Requirement already satisfied: six>=1.5 in c:\\users\\avril\\octavo_semestre\\repositorio_actividades_bloque_final\\actividades_cc\\act_3\\.venv\\lib\\site-packages (from python-dateutil>=2.8.2->pandas) (1.17.0)\n",
      "Note: you may need to restart the kernel to use updated packages.\n"
     ]
    }
   ],
   "source": [
    "pip install numpy==1.23.5 scikit-learn==1.4.2  joblib pandas"
   ]
  },
  {
   "cell_type": "code",
   "execution_count": 10,
   "id": "57bfddbe",
   "metadata": {},
   "outputs": [
    {
     "name": "stdout",
     "output_type": "stream",
     "text": [
      "Requirement already satisfied: azureml-sdk in c:\\users\\avril\\octavo_semestre\\repositorio_actividades_bloque_final\\actividades_cc\\act_3\\.venv\\lib\\site-packages (1.60.0)\n",
      "Requirement already satisfied: azureml-core~=1.60.0 in c:\\users\\avril\\octavo_semestre\\repositorio_actividades_bloque_final\\actividades_cc\\act_3\\.venv\\lib\\site-packages (from azureml-sdk) (1.60.0)\n",
      "Requirement already satisfied: azureml-dataset-runtime~=1.60.0 in c:\\users\\avril\\octavo_semestre\\repositorio_actividades_bloque_final\\actividades_cc\\act_3\\.venv\\lib\\site-packages (from azureml-dataset-runtime[fuse]~=1.60.0->azureml-sdk) (1.60.0)\n",
      "Requirement already satisfied: azureml-train-core~=1.60.0 in c:\\users\\avril\\octavo_semestre\\repositorio_actividades_bloque_final\\actividades_cc\\act_3\\.venv\\lib\\site-packages (from azureml-sdk) (1.60.0)\n",
      "Requirement already satisfied: azureml-train-automl-client~=1.60.0 in c:\\users\\avril\\octavo_semestre\\repositorio_actividades_bloque_final\\actividades_cc\\act_3\\.venv\\lib\\site-packages (from azureml-sdk) (1.60.0)\n",
      "Requirement already satisfied: azureml-pipeline~=1.60.0 in c:\\users\\avril\\octavo_semestre\\repositorio_actividades_bloque_final\\actividades_cc\\act_3\\.venv\\lib\\site-packages (from azureml-sdk) (1.60.0)\n",
      "Requirement already satisfied: pytz in c:\\users\\avril\\octavo_semestre\\repositorio_actividades_bloque_final\\actividades_cc\\act_3\\.venv\\lib\\site-packages (from azureml-core~=1.60.0->azureml-sdk) (2025.2)\n",
      "Requirement already satisfied: backports.tempfile in c:\\users\\avril\\octavo_semestre\\repositorio_actividades_bloque_final\\actividades_cc\\act_3\\.venv\\lib\\site-packages (from azureml-core~=1.60.0->azureml-sdk) (1.0)\n",
      "Requirement already satisfied: pathspec<1.0.0 in c:\\users\\avril\\octavo_semestre\\repositorio_actividades_bloque_final\\actividades_cc\\act_3\\.venv\\lib\\site-packages (from azureml-core~=1.60.0->azureml-sdk) (0.12.1)\n",
      "Requirement already satisfied: requests<3.0.0,>=2.19.1 in c:\\users\\avril\\octavo_semestre\\repositorio_actividades_bloque_final\\actividades_cc\\act_3\\.venv\\lib\\site-packages (from requests[socks]<3.0.0,>=2.19.1->azureml-core~=1.60.0->azureml-sdk) (2.32.3)\n",
      "Requirement already satisfied: msal<2.0.0,>=1.15.0 in c:\\users\\avril\\octavo_semestre\\repositorio_actividades_bloque_final\\actividades_cc\\act_3\\.venv\\lib\\site-packages (from azureml-core~=1.60.0->azureml-sdk) (1.32.0)\n",
      "Requirement already satisfied: msal-extensions<=2.0.0,>=0.3.0 in c:\\users\\avril\\octavo_semestre\\repositorio_actividades_bloque_final\\actividades_cc\\act_3\\.venv\\lib\\site-packages (from azureml-core~=1.60.0->azureml-sdk) (1.3.1)\n",
      "Requirement already satisfied: knack<0.13.0 in c:\\users\\avril\\octavo_semestre\\repositorio_actividades_bloque_final\\actividades_cc\\act_3\\.venv\\lib\\site-packages (from azureml-core~=1.60.0->azureml-sdk) (0.12.0)\n",
      "Requirement already satisfied: azure-core<2.0.0 in c:\\users\\avril\\octavo_semestre\\repositorio_actividades_bloque_final\\actividades_cc\\act_3\\.venv\\lib\\site-packages (from azureml-core~=1.60.0->azureml-sdk) (1.33.0)\n",
      "Requirement already satisfied: pkginfo in c:\\users\\avril\\octavo_semestre\\repositorio_actividades_bloque_final\\actividades_cc\\act_3\\.venv\\lib\\site-packages (from azureml-core~=1.60.0->azureml-sdk) (1.12.1.2)\n",
      "Requirement already satisfied: argcomplete<4 in c:\\users\\avril\\octavo_semestre\\repositorio_actividades_bloque_final\\actividades_cc\\act_3\\.venv\\lib\\site-packages (from azureml-core~=1.60.0->azureml-sdk) (3.6.2)\n",
      "Requirement already satisfied: humanfriendly<11.0,>=4.7 in c:\\users\\avril\\octavo_semestre\\repositorio_actividades_bloque_final\\actividades_cc\\act_3\\.venv\\lib\\site-packages (from azureml-core~=1.60.0->azureml-sdk) (10.0)\n",
      "Requirement already satisfied: paramiko<4.0.0,>=2.0.8 in c:\\users\\avril\\octavo_semestre\\repositorio_actividades_bloque_final\\actividades_cc\\act_3\\.venv\\lib\\site-packages (from azureml-core~=1.60.0->azureml-sdk) (3.5.1)\n",
      "Requirement already satisfied: azure-mgmt-resource<=24.0.0,>=15.0.0 in c:\\users\\avril\\octavo_semestre\\repositorio_actividades_bloque_final\\actividades_cc\\act_3\\.venv\\lib\\site-packages (from azureml-core~=1.60.0->azureml-sdk) (23.3.0)\n",
      "Requirement already satisfied: azure-mgmt-containerregistry<11,>=8.2.0 in c:\\users\\avril\\octavo_semestre\\repositorio_actividades_bloque_final\\actividades_cc\\act_3\\.venv\\lib\\site-packages (from azureml-core~=1.60.0->azureml-sdk) (10.3.0)\n",
      "Requirement already satisfied: azure-mgmt-storage<=23.0.0,>=16.0.0 in c:\\users\\avril\\octavo_semestre\\repositorio_actividades_bloque_final\\actividades_cc\\act_3\\.venv\\lib\\site-packages (from azureml-core~=1.60.0->azureml-sdk) (22.2.0)\n",
      "Requirement already satisfied: azure-mgmt-keyvault<11.0.0,>=0.40.0 in c:\\users\\avril\\octavo_semestre\\repositorio_actividades_bloque_final\\actividades_cc\\act_3\\.venv\\lib\\site-packages (from azureml-core~=1.60.0->azureml-sdk) (10.3.1)\n",
      "Requirement already satisfied: azure-mgmt-authorization<5,>=0.40.0 in c:\\users\\avril\\octavo_semestre\\repositorio_actividades_bloque_final\\actividades_cc\\act_3\\.venv\\lib\\site-packages (from azureml-core~=1.60.0->azureml-sdk) (4.0.0)\n",
      "Requirement already satisfied: azure-mgmt-network<=29.0.0 in c:\\users\\avril\\octavo_semestre\\repositorio_actividades_bloque_final\\actividades_cc\\act_3\\.venv\\lib\\site-packages (from azureml-core~=1.60.0->azureml-sdk) (28.1.0)\n",
      "Requirement already satisfied: azure-graphrbac<1.0.0,>=0.40.0 in c:\\users\\avril\\octavo_semestre\\repositorio_actividades_bloque_final\\actividades_cc\\act_3\\.venv\\lib\\site-packages (from azureml-core~=1.60.0->azureml-sdk) (0.61.2)\n",
      "Requirement already satisfied: azure-common<2.0.0,>=1.1.12 in c:\\users\\avril\\octavo_semestre\\repositorio_actividades_bloque_final\\actividades_cc\\act_3\\.venv\\lib\\site-packages (from azureml-core~=1.60.0->azureml-sdk) (1.1.28)\n",
      "Requirement already satisfied: msrest<=0.7.1,>=0.5.1 in c:\\users\\avril\\octavo_semestre\\repositorio_actividades_bloque_final\\actividades_cc\\act_3\\.venv\\lib\\site-packages (from azureml-core~=1.60.0->azureml-sdk) (0.7.1)\n",
      "Requirement already satisfied: msrestazure<=0.7,>=0.4.33 in c:\\users\\avril\\octavo_semestre\\repositorio_actividades_bloque_final\\actividades_cc\\act_3\\.venv\\lib\\site-packages (from azureml-core~=1.60.0->azureml-sdk) (0.6.4.post1)\n",
      "Requirement already satisfied: urllib3<3.0.0,>1.26.17 in c:\\users\\avril\\octavo_semestre\\repositorio_actividades_bloque_final\\actividades_cc\\act_3\\.venv\\lib\\site-packages (from azureml-core~=1.60.0->azureml-sdk) (2.4.0)\n",
      "Requirement already satisfied: packaging<=25.0,>=20.0 in c:\\users\\avril\\octavo_semestre\\repositorio_actividades_bloque_final\\actividades_cc\\act_3\\.venv\\lib\\site-packages (from azureml-core~=1.60.0->azureml-sdk) (25.0)\n",
      "Requirement already satisfied: python-dateutil<3.0.0,>=2.7.3 in c:\\users\\avril\\octavo_semestre\\repositorio_actividades_bloque_final\\actividades_cc\\act_3\\.venv\\lib\\site-packages (from azureml-core~=1.60.0->azureml-sdk) (2.9.0.post0)\n",
      "Requirement already satisfied: ndg-httpsclient<=0.5.1 in c:\\users\\avril\\octavo_semestre\\repositorio_actividades_bloque_final\\actividades_cc\\act_3\\.venv\\lib\\site-packages (from azureml-core~=1.60.0->azureml-sdk) (0.5.1)\n",
      "Requirement already satisfied: SecretStorage<4.0.0 in c:\\users\\avril\\octavo_semestre\\repositorio_actividades_bloque_final\\actividades_cc\\act_3\\.venv\\lib\\site-packages (from azureml-core~=1.60.0->azureml-sdk) (3.3.3)\n",
      "Requirement already satisfied: jsonpickle<5.0.0 in c:\\users\\avril\\octavo_semestre\\repositorio_actividades_bloque_final\\actividades_cc\\act_3\\.venv\\lib\\site-packages (from azureml-core~=1.60.0->azureml-sdk) (4.0.5)\n",
      "Requirement already satisfied: contextlib2<22.0.0 in c:\\users\\avril\\octavo_semestre\\repositorio_actividades_bloque_final\\actividades_cc\\act_3\\.venv\\lib\\site-packages (from azureml-core~=1.60.0->azureml-sdk) (21.6.0)\n",
      "Requirement already satisfied: docker<8.0.0 in c:\\users\\avril\\octavo_semestre\\repositorio_actividades_bloque_final\\actividades_cc\\act_3\\.venv\\lib\\site-packages (from azureml-core~=1.60.0->azureml-sdk) (7.1.0)\n",
      "Requirement already satisfied: PyJWT<3.0.0 in c:\\users\\avril\\octavo_semestre\\repositorio_actividades_bloque_final\\actividades_cc\\act_3\\.venv\\lib\\site-packages (from azureml-core~=1.60.0->azureml-sdk) (2.10.1)\n",
      "Requirement already satisfied: adal<=1.2.7,>=1.2.0 in c:\\users\\avril\\octavo_semestre\\repositorio_actividades_bloque_final\\actividades_cc\\act_3\\.venv\\lib\\site-packages (from azureml-core~=1.60.0->azureml-sdk) (1.2.7)\n",
      "Requirement already satisfied: pyopenssl<26.0.0 in c:\\users\\avril\\octavo_semestre\\repositorio_actividades_bloque_final\\actividades_cc\\act_3\\.venv\\lib\\site-packages (from azureml-core~=1.60.0->azureml-sdk) (25.0.0)\n",
      "Requirement already satisfied: jmespath<2.0.0 in c:\\users\\avril\\octavo_semestre\\repositorio_actividades_bloque_final\\actividades_cc\\act_3\\.venv\\lib\\site-packages (from azureml-core~=1.60.0->azureml-sdk) (1.0.1)\n",
      "Requirement already satisfied: azureml-dataprep<5.2.0a,>=5.1.0a in c:\\users\\avril\\octavo_semestre\\repositorio_actividades_bloque_final\\actividades_cc\\act_3\\.venv\\lib\\site-packages (from azureml-dataset-runtime~=1.60.0->azureml-dataset-runtime[fuse]~=1.60.0->azureml-sdk) (5.1.6)\n",
      "Requirement already satisfied: pyarrow>=0.17.0 in c:\\users\\avril\\octavo_semestre\\repositorio_actividades_bloque_final\\actividades_cc\\act_3\\.venv\\lib\\site-packages (from azureml-dataset-runtime~=1.60.0->azureml-dataset-runtime[fuse]~=1.60.0->azureml-sdk) (19.0.1)\n",
      "Requirement already satisfied: numpy!=1.19.4,<1.24 in c:\\users\\avril\\octavo_semestre\\repositorio_actividades_bloque_final\\actividades_cc\\act_3\\.venv\\lib\\site-packages (from azureml-dataset-runtime~=1.60.0->azureml-dataset-runtime[fuse]~=1.60.0->azureml-sdk) (1.23.5)\n",
      "Requirement already satisfied: fusepy<4.0.0,>=3.0.1 in c:\\users\\avril\\octavo_semestre\\repositorio_actividades_bloque_final\\actividades_cc\\act_3\\.venv\\lib\\site-packages (from azureml-dataset-runtime[fuse]~=1.60.0->azureml-sdk) (3.0.1)\n",
      "Requirement already satisfied: azureml-pipeline-core~=1.60.0 in c:\\users\\avril\\octavo_semestre\\repositorio_actividades_bloque_final\\actividades_cc\\act_3\\.venv\\lib\\site-packages (from azureml-pipeline~=1.60.0->azureml-sdk) (1.60.0)\n",
      "Requirement already satisfied: azureml-pipeline-steps~=1.60.0 in c:\\users\\avril\\octavo_semestre\\repositorio_actividades_bloque_final\\actividades_cc\\act_3\\.venv\\lib\\site-packages (from azureml-pipeline~=1.60.0->azureml-sdk) (1.60.0)\n",
      "Requirement already satisfied: azureml-automl-core~=1.60.0 in c:\\users\\avril\\octavo_semestre\\repositorio_actividades_bloque_final\\actividades_cc\\act_3\\.venv\\lib\\site-packages (from azureml-train-automl-client~=1.60.0->azureml-sdk) (1.60.0)\n",
      "Requirement already satisfied: azureml-telemetry~=1.60.0 in c:\\users\\avril\\octavo_semestre\\repositorio_actividades_bloque_final\\actividades_cc\\act_3\\.venv\\lib\\site-packages (from azureml-train-automl-client~=1.60.0->azureml-sdk) (1.60.0)\n",
      "Requirement already satisfied: azureml-train-restclients-hyperdrive~=1.60.0 in c:\\users\\avril\\octavo_semestre\\repositorio_actividades_bloque_final\\actividades_cc\\act_3\\.venv\\lib\\site-packages (from azureml-train-core~=1.60.0->azureml-sdk) (1.60.0)\n",
      "Requirement already satisfied: cryptography>=1.1.0 in c:\\users\\avril\\octavo_semestre\\repositorio_actividades_bloque_final\\actividades_cc\\act_3\\.venv\\lib\\site-packages (from adal<=1.2.7,>=1.2.0->azureml-core~=1.60.0->azureml-sdk) (44.0.2)\n",
      "Requirement already satisfied: six>=1.11.0 in c:\\users\\avril\\octavo_semestre\\repositorio_actividades_bloque_final\\actividades_cc\\act_3\\.venv\\lib\\site-packages (from azure-core<2.0.0->azureml-core~=1.60.0->azureml-sdk) (1.17.0)\n",
      "Requirement already satisfied: typing-extensions>=4.6.0 in c:\\users\\avril\\octavo_semestre\\repositorio_actividades_bloque_final\\actividades_cc\\act_3\\.venv\\lib\\site-packages (from azure-core<2.0.0->azureml-core~=1.60.0->azureml-sdk) (4.13.2)\n",
      "Requirement already satisfied: isodate<1.0.0,>=0.6.1 in c:\\users\\avril\\octavo_semestre\\repositorio_actividades_bloque_final\\actividades_cc\\act_3\\.venv\\lib\\site-packages (from azure-mgmt-authorization<5,>=0.40.0->azureml-core~=1.60.0->azureml-sdk) (0.7.2)\n",
      "Requirement already satisfied: azure-mgmt-core<2.0.0,>=1.3.2 in c:\\users\\avril\\octavo_semestre\\repositorio_actividades_bloque_final\\actividades_cc\\act_3\\.venv\\lib\\site-packages (from azure-mgmt-authorization<5,>=0.40.0->azureml-core~=1.60.0->azureml-sdk) (1.5.0)\n",
      "Requirement already satisfied: importlib-metadata<=8.2.0 in c:\\users\\avril\\octavo_semestre\\repositorio_actividades_bloque_final\\actividades_cc\\act_3\\.venv\\lib\\site-packages (from azureml-automl-core~=1.60.0->azureml-train-automl-client~=1.60.0->azureml-sdk) (8.2.0)\n",
      "Requirement already satisfied: importlib-resources<=6.4.0 in c:\\users\\avril\\octavo_semestre\\repositorio_actividades_bloque_final\\actividades_cc\\act_3\\.venv\\lib\\site-packages (from azureml-automl-core~=1.60.0->azureml-train-automl-client~=1.60.0->azureml-sdk) (6.4.0)\n",
      "Requirement already satisfied: azureml-dataprep-native<42.0.0,>=41.0.0 in c:\\users\\avril\\octavo_semestre\\repositorio_actividades_bloque_final\\actividades_cc\\act_3\\.venv\\lib\\site-packages (from azureml-dataprep<5.2.0a,>=5.1.0a->azureml-dataset-runtime~=1.60.0->azureml-dataset-runtime[fuse]~=1.60.0->azureml-sdk) (41.0.0)\n",
      "Requirement already satisfied: azureml-dataprep-rslex~=2.22.2dev0 in c:\\users\\avril\\octavo_semestre\\repositorio_actividades_bloque_final\\actividades_cc\\act_3\\.venv\\lib\\site-packages (from azureml-dataprep<5.2.0a,>=5.1.0a->azureml-dataset-runtime~=1.60.0->azureml-dataset-runtime[fuse]~=1.60.0->azureml-sdk) (2.22.5)\n",
      "Requirement already satisfied: cloudpickle<3.0.0,>=1.1.0 in c:\\users\\avril\\octavo_semestre\\repositorio_actividades_bloque_final\\actividades_cc\\act_3\\.venv\\lib\\site-packages (from azureml-dataprep<5.2.0a,>=5.1.0a->azureml-dataset-runtime~=1.60.0->azureml-dataset-runtime[fuse]~=1.60.0->azureml-sdk) (2.2.1)\n",
      "Requirement already satisfied: azure-identity>=1.7.0 in c:\\users\\avril\\octavo_semestre\\repositorio_actividades_bloque_final\\actividades_cc\\act_3\\.venv\\lib\\site-packages (from azureml-dataprep<5.2.0a,>=5.1.0a->azureml-dataset-runtime~=1.60.0->azureml-dataset-runtime[fuse]~=1.60.0->azureml-sdk) (1.21.0)\n",
      "Requirement already satisfied: jsonschema in c:\\users\\avril\\octavo_semestre\\repositorio_actividades_bloque_final\\actividades_cc\\act_3\\.venv\\lib\\site-packages (from azureml-dataprep<5.2.0a,>=5.1.0a->azureml-dataset-runtime~=1.60.0->azureml-dataset-runtime[fuse]~=1.60.0->azureml-sdk) (4.23.0)\n",
      "Requirement already satisfied: pyyaml<7.0.0,>=5.1.0 in c:\\users\\avril\\octavo_semestre\\repositorio_actividades_bloque_final\\actividades_cc\\act_3\\.venv\\lib\\site-packages (from azureml-dataprep<5.2.0a,>=5.1.0a->azureml-dataset-runtime~=1.60.0->azureml-dataset-runtime[fuse]~=1.60.0->azureml-sdk) (6.0.2)\n",
      "Requirement already satisfied: applicationinsights in c:\\users\\avril\\octavo_semestre\\repositorio_actividades_bloque_final\\actividades_cc\\act_3\\.venv\\lib\\site-packages (from azureml-telemetry~=1.60.0->azureml-train-automl-client~=1.60.0->azureml-sdk) (0.11.10)\n",
      "Requirement already satisfied: pywin32>=304 in c:\\users\\avril\\octavo_semestre\\repositorio_actividades_bloque_final\\actividades_cc\\act_3\\.venv\\lib\\site-packages (from docker<8.0.0->azureml-core~=1.60.0->azureml-sdk) (310)\n",
      "Requirement already satisfied: pyreadline3 in c:\\users\\avril\\octavo_semestre\\repositorio_actividades_bloque_final\\actividades_cc\\act_3\\.venv\\lib\\site-packages (from humanfriendly<11.0,>=4.7->azureml-core~=1.60.0->azureml-sdk) (3.5.4)\n",
      "Requirement already satisfied: pygments in c:\\users\\avril\\octavo_semestre\\repositorio_actividades_bloque_final\\actividades_cc\\act_3\\.venv\\lib\\site-packages (from knack<0.13.0->azureml-core~=1.60.0->azureml-sdk) (2.19.1)\n",
      "Requirement already satisfied: tabulate in c:\\users\\avril\\octavo_semestre\\repositorio_actividades_bloque_final\\actividades_cc\\act_3\\.venv\\lib\\site-packages (from knack<0.13.0->azureml-core~=1.60.0->azureml-sdk) (0.9.0)\n",
      "Requirement already satisfied: certifi>=2017.4.17 in c:\\users\\avril\\octavo_semestre\\repositorio_actividades_bloque_final\\actividades_cc\\act_3\\.venv\\lib\\site-packages (from msrest<=0.7.1,>=0.5.1->azureml-core~=1.60.0->azureml-sdk) (2025.1.31)\n",
      "Requirement already satisfied: requests-oauthlib>=0.5.0 in c:\\users\\avril\\octavo_semestre\\repositorio_actividades_bloque_final\\actividades_cc\\act_3\\.venv\\lib\\site-packages (from msrest<=0.7.1,>=0.5.1->azureml-core~=1.60.0->azureml-sdk) (2.0.0)\n",
      "Requirement already satisfied: pyasn1>=0.1.1 in c:\\users\\avril\\octavo_semestre\\repositorio_actividades_bloque_final\\actividades_cc\\act_3\\.venv\\lib\\site-packages (from ndg-httpsclient<=0.5.1->azureml-core~=1.60.0->azureml-sdk) (0.6.1)\n",
      "Requirement already satisfied: bcrypt>=3.2 in c:\\users\\avril\\octavo_semestre\\repositorio_actividades_bloque_final\\actividades_cc\\act_3\\.venv\\lib\\site-packages (from paramiko<4.0.0,>=2.0.8->azureml-core~=1.60.0->azureml-sdk) (4.3.0)\n",
      "Requirement already satisfied: pynacl>=1.5 in c:\\users\\avril\\octavo_semestre\\repositorio_actividades_bloque_final\\actividades_cc\\act_3\\.venv\\lib\\site-packages (from paramiko<4.0.0,>=2.0.8->azureml-core~=1.60.0->azureml-sdk) (1.5.0)\n",
      "Requirement already satisfied: charset-normalizer<4,>=2 in c:\\users\\avril\\octavo_semestre\\repositorio_actividades_bloque_final\\actividades_cc\\act_3\\.venv\\lib\\site-packages (from requests<3.0.0,>=2.19.1->requests[socks]<3.0.0,>=2.19.1->azureml-core~=1.60.0->azureml-sdk) (3.4.1)\n",
      "Requirement already satisfied: idna<4,>=2.5 in c:\\users\\avril\\octavo_semestre\\repositorio_actividades_bloque_final\\actividades_cc\\act_3\\.venv\\lib\\site-packages (from requests<3.0.0,>=2.19.1->requests[socks]<3.0.0,>=2.19.1->azureml-core~=1.60.0->azureml-sdk) (3.10)\n",
      "Requirement already satisfied: PySocks!=1.5.7,>=1.5.6 in c:\\users\\avril\\octavo_semestre\\repositorio_actividades_bloque_final\\actividades_cc\\act_3\\.venv\\lib\\site-packages (from requests[socks]<3.0.0,>=2.19.1->azureml-core~=1.60.0->azureml-sdk) (1.7.1)\n",
      "Requirement already satisfied: jeepney>=0.6 in c:\\users\\avril\\octavo_semestre\\repositorio_actividades_bloque_final\\actividades_cc\\act_3\\.venv\\lib\\site-packages (from SecretStorage<4.0.0->azureml-core~=1.60.0->azureml-sdk) (0.9.0)\n",
      "Requirement already satisfied: backports.weakref in c:\\users\\avril\\octavo_semestre\\repositorio_actividades_bloque_final\\actividades_cc\\act_3\\.venv\\lib\\site-packages (from backports.tempfile->azureml-core~=1.60.0->azureml-sdk) (1.0.post1)\n",
      "Requirement already satisfied: cffi>=1.12 in c:\\users\\avril\\octavo_semestre\\repositorio_actividades_bloque_final\\actividades_cc\\act_3\\.venv\\lib\\site-packages (from cryptography>=1.1.0->adal<=1.2.7,>=1.2.0->azureml-core~=1.60.0->azureml-sdk) (1.17.1)\n",
      "Requirement already satisfied: zipp>=0.5 in c:\\users\\avril\\octavo_semestre\\repositorio_actividades_bloque_final\\actividades_cc\\act_3\\.venv\\lib\\site-packages (from importlib-metadata<=8.2.0->azureml-automl-core~=1.60.0->azureml-train-automl-client~=1.60.0->azureml-sdk) (3.21.0)\n",
      "Requirement already satisfied: oauthlib>=3.0.0 in c:\\users\\avril\\octavo_semestre\\repositorio_actividades_bloque_final\\actividades_cc\\act_3\\.venv\\lib\\site-packages (from requests-oauthlib>=0.5.0->msrest<=0.7.1,>=0.5.1->azureml-core~=1.60.0->azureml-sdk) (3.2.2)\n",
      "Requirement already satisfied: attrs>=22.2.0 in c:\\users\\avril\\octavo_semestre\\repositorio_actividades_bloque_final\\actividades_cc\\act_3\\.venv\\lib\\site-packages (from jsonschema->azureml-dataprep<5.2.0a,>=5.1.0a->azureml-dataset-runtime~=1.60.0->azureml-dataset-runtime[fuse]~=1.60.0->azureml-sdk) (25.3.0)\n",
      "Requirement already satisfied: jsonschema-specifications>=2023.03.6 in c:\\users\\avril\\octavo_semestre\\repositorio_actividades_bloque_final\\actividades_cc\\act_3\\.venv\\lib\\site-packages (from jsonschema->azureml-dataprep<5.2.0a,>=5.1.0a->azureml-dataset-runtime~=1.60.0->azureml-dataset-runtime[fuse]~=1.60.0->azureml-sdk) (2025.4.1)\n",
      "Requirement already satisfied: referencing>=0.28.4 in c:\\users\\avril\\octavo_semestre\\repositorio_actividades_bloque_final\\actividades_cc\\act_3\\.venv\\lib\\site-packages (from jsonschema->azureml-dataprep<5.2.0a,>=5.1.0a->azureml-dataset-runtime~=1.60.0->azureml-dataset-runtime[fuse]~=1.60.0->azureml-sdk) (0.36.2)\n",
      "Requirement already satisfied: rpds-py>=0.7.1 in c:\\users\\avril\\octavo_semestre\\repositorio_actividades_bloque_final\\actividades_cc\\act_3\\.venv\\lib\\site-packages (from jsonschema->azureml-dataprep<5.2.0a,>=5.1.0a->azureml-dataset-runtime~=1.60.0->azureml-dataset-runtime[fuse]~=1.60.0->azureml-sdk) (0.24.0)\n",
      "Requirement already satisfied: pycparser in c:\\users\\avril\\octavo_semestre\\repositorio_actividades_bloque_final\\actividades_cc\\act_3\\.venv\\lib\\site-packages (from cffi>=1.12->cryptography>=1.1.0->adal<=1.2.7,>=1.2.0->azureml-core~=1.60.0->azureml-sdk) (2.22)\n"
     ]
    }
   ],
   "source": [
    "!pip install azureml-sdk"
   ]
  },
  {
   "cell_type": "markdown",
   "id": "6e646209",
   "metadata": {},
   "source": [
    "## Carga de Susctiption ID\n"
   ]
  },
  {
   "cell_type": "markdown",
   "id": "6a101ec5",
   "metadata": {},
   "source": [
    "1. Cargamos el ID de la susctripción de Azure desde las variables de entorno"
   ]
  },
  {
   "cell_type": "code",
   "execution_count": 11,
   "id": "e33862fd",
   "metadata": {},
   "outputs": [],
   "source": [
    "import os\n",
    "from dotenv import load_dotenv\n",
    "\n",
    "load_dotenv()\n",
    "\n",
    "\n",
    "server_ = os.getenv('AZURE_ID')"
   ]
  },
  {
   "cell_type": "markdown",
   "id": "516092e4",
   "metadata": {},
   "source": [
    "2. Creamos un Workspace para hacer el despliegue del modelo dentro del grupo de recursos \"resource_group_act3\""
   ]
  },
  {
   "cell_type": "code",
   "execution_count": 14,
   "id": "f25520a2",
   "metadata": {},
   "outputs": [
    {
     "name": "stdout",
     "output_type": "stream",
     "text": [
      "Deploying KeyVault with name workspackeyvaultf4a4b4bf.\n",
      "Deploying StorageAccount with name workspacstorage84cf0f0cb.\n",
      "Deploying AppInsights with name workspacinsights6a617851.\n",
      "Deployed AppInsights with name workspacinsights6a617851. Took 6.72 seconds.\n",
      "Deployed KeyVault with name workspackeyvaultf4a4b4bf. Took 23.42 seconds.\n",
      "Deployed StorageAccount with name workspacstorage84cf0f0cb. Took 29.29 seconds.\n",
      "Deploying Workspace with name workspace_act3_1.\n",
      "Deployed Workspace with name workspace_act3_1. Took 40.28 seconds.\n"
     ]
    }
   ],
   "source": [
    "from azureml.core import Workspace\n",
    "\n",
    "ws = Workspace.create(name=\"workspace_act3_1\",\n",
    "                      subscription_id = server_,\n",
    "                      resource_group = \"resource_group_act3\",\n",
    "                      create_resource_group=False,\n",
    "                      location = \"centralindia\")\n"
   ]
  },
  {
   "cell_type": "markdown",
   "id": "b3cc863f",
   "metadata": {},
   "source": [
    "3. Cargamos el modelo de RandomForest y el escalador que hace onehotencode para las variables con la librería de scikit learn"
   ]
  },
  {
   "cell_type": "code",
   "execution_count": 15,
   "id": "08542972",
   "metadata": {},
   "outputs": [
    {
     "name": "stdout",
     "output_type": "stream",
     "text": [
      "Registering model model2\n"
     ]
    }
   ],
   "source": [
    "from azureml.core.model import Model\n",
    "\n",
    "mname = \"model2\"\n",
    "registered_model = Model.register(model_path=\"../model/RandomForest_BestModel.pkl\",\n",
    "                                  model_name=mname,\n",
    "                                  workspace=ws)\n",
    "\n",
    "# Esto es un pipeline que incluye el modelo entrenado y el preprocesador"
   ]
  },
  {
   "cell_type": "markdown",
   "id": "819143e0",
   "metadata": {},
   "source": [
    "4. Creamos un ambiente virtual de conda con las dependenicas necesarias para correr el modelo y el escalador."
   ]
  },
  {
   "cell_type": "code",
   "execution_count": 16,
   "id": "35412d9d",
   "metadata": {},
   "outputs": [],
   "source": [
    "from azureml.core.environment import Environment\n",
    "from azureml.core.conda_dependencies import CondaDependencies\n",
    "\n",
    "virtual_env = Environment(\"env-actividad3-1\")\n",
    "\n",
    "virtual_env.python.conda_dependencies = CondaDependencies.create(\n",
    "    conda_packages=['numpy==1.23.5','scikit-learn=1.4.2', 'joblib', 'pandas']\n",
    ")"
   ]
  },
  {
   "cell_type": "markdown",
   "id": "6b2ffa52",
   "metadata": {},
   "source": [
    "5. Cargamos el script que genera el score del modelo, esto junto al ambiente virtual que se creó en el paso anterior."
   ]
  },
  {
   "cell_type": "code",
   "execution_count": 32,
   "id": "a7f6c285",
   "metadata": {},
   "outputs": [],
   "source": [
    "from azureml.core.model import InferenceConfig\n",
    "from azureml.core.webservice import AciWebservice\n",
    "inference_config = InferenceConfig(\n",
    "                                environment=virtual_env,\n",
    "                                entry_script=\"score.py\",\n",
    "                                )\n",
    "aci_config = AciWebservice.deploy_configuration(cpu_cores=1, memory_gb=2)"
   ]
  },
  {
   "cell_type": "markdown",
   "id": "0aea3cc0",
   "metadata": {},
   "source": [
    "\n",
    "6. Desplegamos el modelo."
   ]
  },
  {
   "cell_type": "code",
   "execution_count": 33,
   "id": "41d54a22",
   "metadata": {},
   "outputs": [
    {
     "name": "stderr",
     "output_type": "stream",
     "text": [
      "C:\\Users\\avril\\AppData\\Local\\Temp\\ipykernel_16080\\1296210763.py:1: FutureWarning: azureml.core.model:\n",
      "To leverage new model deployment capabilities, AzureML recommends using CLI/SDK v2 to deploy models as online endpoint, \n",
      "please refer to respective documentations \n",
      "https://docs.microsoft.com/azure/machine-learning/how-to-deploy-managed-online-endpoints /\n",
      "https://docs.microsoft.com/azure/machine-learning/how-to-attach-kubernetes-anywhere \n",
      "For more information on migration, see https://aka.ms/acimoemigration \n",
      "To disable CLI/SDK v1 deprecation warning set AZUREML_LOG_DEPRECATION_WARNING_ENABLED to 'False'\n",
      "  service = Model.deploy(workspace=ws,\n"
     ]
    },
    {
     "name": "stdout",
     "output_type": "stream",
     "text": [
      "ACI service creation operation finished, operation \"Succeeded\"\n"
     ]
    }
   ],
   "source": [
    "service = Model.deploy(workspace=ws,\n",
    "                       name='service3',\n",
    "                       models=[registered_model],\n",
    "                       inference_config=inference_config,\n",
    "                       deployment_config=aci_config,\n",
    "                       overwrite=True,\n",
    "                       )\n",
    "\n",
    "service.wait_for_deployment()"
   ]
  },
  {
   "cell_type": "code",
   "execution_count": 27,
   "id": "6804c1cf",
   "metadata": {},
   "outputs": [
    {
     "name": "stdout",
     "output_type": "stream",
     "text": [
      "Running\n",
      "2025-04-24 01:20:25-06:00 Check and wait for operation (8a955594-f513-492f-a783-6e0d0188e52f) to finish.\n",
      "2025-04-24 01:20:29-06:00 Deleting service entity.\n",
      "Succeeded\n"
     ]
    }
   ],
   "source": [
    "service.delete()\n"
   ]
  },
  {
   "cell_type": "code",
   "execution_count": 28,
   "id": "d9e4e8b0",
   "metadata": {},
   "outputs": [
    {
     "name": "stdout",
     "output_type": "stream",
     "text": [
      "model2 1\n"
     ]
    }
   ],
   "source": [
    "models = Model.list(workspace=ws)\n",
    "for model in models:\n",
    "    print(model.name, model.version)\n"
   ]
  },
  {
   "cell_type": "code",
   "execution_count": 37,
   "id": "6ef73a4f",
   "metadata": {},
   "outputs": [
    {
     "name": "stdout",
     "output_type": "stream",
     "text": [
      "/bin/bash: /azureml-envs/azureml_27eda9529773e8b6ef7dc4e79cd37e6f/lib/libtinfo.so.6: no version information available (required by /bin/bash)\n",
      "/bin/bash: /azureml-envs/azureml_27eda9529773e8b6ef7dc4e79cd37e6f/lib/libtinfo.so.6: no version information available (required by /bin/bash)\n",
      "/bin/bash: /azureml-envs/azureml_27eda9529773e8b6ef7dc4e79cd37e6f/lib/libtinfo.so.6: no version information available (required by /bin/bash)\n",
      "2025-04-24T07:25:46,562162300+00:00 - rsyslog/run \n",
      "2025-04-24T07:25:46,566722600+00:00 - gunicorn/run \n",
      "2025-04-24T07:25:46,569006600+00:00 | gunicorn/run | \n",
      "2025-04-24T07:25:46,573944800+00:00 | gunicorn/run | ###############################################\n",
      "2025-04-24T07:25:46,576081700+00:00 | gunicorn/run | AzureML Container Runtime Information\n",
      "2025-04-24T07:25:46,582650300+00:00 | gunicorn/run | ###############################################\n",
      "2025-04-24T07:25:46,584393500+00:00 | gunicorn/run | \n",
      "2025-04-24T07:25:46,592057100+00:00 | gunicorn/run | \n",
      "bash: /azureml-envs/azureml_27eda9529773e8b6ef7dc4e79cd37e6f/lib/libtinfo.so.6: no version information available (required by bash)\n",
      "2025-04-24T07:25:46,603261500+00:00 - nginx/run \n",
      "2025-04-24T07:25:46,608140100+00:00 | gunicorn/run | AzureML image information: openmpi4.1.0-ubuntu20.04, Materializaton Build:20250224.v1\n",
      "2025-04-24T07:25:46,609921600+00:00 | gunicorn/run | \n",
      "2025-04-24T07:25:46,611555100+00:00 | gunicorn/run | \n",
      "2025-04-24T07:25:46,617644100+00:00 | gunicorn/run | PATH environment variable: /azureml-envs/azureml_27eda9529773e8b6ef7dc4e79cd37e6f/bin:/opt/miniconda/bin:/usr/local/sbin:/usr/local/bin:/usr/sbin:/usr/bin:/sbin:/bin\n",
      "2025-04-24T07:25:46,619416800+00:00 | gunicorn/run | PYTHONPATH environment variable: \n",
      "2025-04-24T07:25:46,626375300+00:00 | gunicorn/run | \n",
      "2025-04-24T07:25:51,634431301+00:00 | gunicorn/run | CONDAPATH environment variable: /opt/miniconda\n",
      "\n",
      "\n",
      "# conda environments:\n",
      "#\n",
      "                     * /azureml-envs/azureml_27eda9529773e8b6ef7dc4e79cd37e6f\n",
      "base                   /opt/miniconda\n",
      "\n",
      "2025-04-24T07:25:53,209706026+00:00 | gunicorn/run | \n",
      "2025-04-24T07:25:53,211745141+00:00 | gunicorn/run | Pip Dependencies (before dynamic installation)\n",
      "\n",
      "adal==1.2.7\n",
      "annotated-types==0.7.0\n",
      "argcomplete==3.6.2\n",
      "attrs==25.3.0\n",
      "azure-common==1.1.28\n",
      "azure-core==1.33.0\n",
      "azure-graphrbac==0.61.2\n",
      "azure-identity==1.21.0\n",
      "azure-mgmt-authorization==4.0.0\n",
      "azure-mgmt-containerregistry==10.3.0\n",
      "azure-mgmt-core==1.5.0\n",
      "azure-mgmt-keyvault==10.3.1\n",
      "azure-mgmt-network==28.1.0\n",
      "azure-mgmt-resource==23.3.0\n",
      "azure-mgmt-storage==22.2.0\n",
      "azureml-core==1.60.0\n",
      "azureml-dataprep==5.1.6\n",
      "azureml-dataprep-native==41.0.0\n",
      "azureml-dataprep-rslex==2.22.5\n",
      "azureml-dataset-runtime==1.60.0\n",
      "azureml-defaults==1.60.0\n",
      "azureml-inference-server-http==1.4.0\n",
      "backports.tempfile==1.0\n",
      "backports.weakref==1.0.post1\n",
      "bcrypt==4.3.0\n",
      "blinker==1.9.0\n",
      "Bottleneck @ file:///croot/bottleneck_1731058641041/work\n",
      "cachetools==5.5.2\n",
      "certifi==2025.1.31\n",
      "cffi==1.17.1\n",
      "charset-normalizer==3.4.1\n",
      "click==8.1.8\n",
      "cloudpickle==2.2.1\n",
      "contextlib2==21.6.0\n",
      "cryptography==44.0.2\n",
      "docker==7.1.0\n",
      "Flask==3.0.3\n",
      "flask-cors==5.0.1\n",
      "fusepy==3.0.1\n",
      "google-api-core==2.24.2\n",
      "google-auth==2.39.0\n",
      "googleapis-common-protos==1.70.0\n",
      "gunicorn==23.0.0\n",
      "humanfriendly==10.0\n",
      "idna==3.10\n",
      "importlib_metadata==8.6.1\n",
      "inference-schema==1.8\n",
      "isodate==0.7.2\n",
      "itsdangerous==2.2.0\n",
      "jeepney==0.9.0\n",
      "Jinja2==3.1.6\n",
      "jmespath==1.0.1\n",
      "joblib @ file:///croot/joblib_1718217211762/work\n",
      "jsonpickle==4.0.5\n",
      "jsonschema==4.23.0\n",
      "jsonschema-specifications==2025.4.1\n",
      "knack==0.12.0\n",
      "MarkupSafe==3.0.2\n",
      "mkl-service==2.4.0\n",
      "mkl_fft @ file:///io/mkl313/mkl_fft_1730824109137/work\n",
      "mkl_random @ file:///io/mkl313/mkl_random_1730823916628/work\n",
      "msal==1.32.0\n",
      "msal-extensions==1.3.1\n",
      "msrest==0.7.1\n",
      "msrestazure==0.6.4.post1\n",
      "ndg-httpsclient==0.5.1\n",
      "numexpr @ file:///croot/numexpr_1730215937391/work\n",
      "numpy @ file:///work/mkl/numpy_and_numpy_base_1682952636358/work\n",
      "oauthlib==3.2.2\n",
      "opencensus==0.11.4\n",
      "opencensus-context==0.1.3\n",
      "opencensus-ext-azure==1.1.14\n",
      "packaging==25.0\n",
      "pandas @ file:///croot/pandas_1732735089971/work/dist/pandas-2.2.3-cp39-cp39-linux_x86_64.whl#sha256=0a51ed2e81ab863e3d00ed6c5049192ce578ecb38fb467d2f9a6585d3c25f666\n",
      "paramiko==3.5.1\n",
      "pathspec==0.12.1\n",
      "pkginfo==1.12.1.2\n",
      "proto-plus==1.26.1\n",
      "protobuf==6.30.2\n",
      "psutil==7.0.0\n",
      "pyarrow==19.0.1\n",
      "pyasn1==0.6.1\n",
      "pyasn1_modules==0.4.2\n",
      "pycparser==2.22\n",
      "pydantic==2.9.2\n",
      "pydantic-settings==2.9.1\n",
      "pydantic_core==2.23.4\n",
      "Pygments==2.19.1\n",
      "PyJWT==2.10.1\n",
      "PyNaCl==1.5.0\n",
      "pyOpenSSL==25.0.0\n",
      "PySocks==1.7.1\n",
      "python-dateutil @ file:///croot/python-dateutil_1716495738603/work\n",
      "python-dotenv==1.1.0\n",
      "pytz @ file:///croot/pytz_1713974312559/work\n",
      "PyYAML==6.0.2\n",
      "referencing==0.36.2\n",
      "requests==2.32.3\n",
      "requests-oauthlib==2.0.0\n",
      "rpds-py==0.24.0\n",
      "rsa==4.9.1\n",
      "scikit-learn @ file:///croot/scikit-learn_1714164736727/work\n",
      "scipy @ file:///croot/scipy_1733756309941/work/dist/scipy-1.13.1-cp39-cp39-linux_x86_64.whl#sha256=a4372e07d982a377bda57ec71fd74ac403442571e1d717de47325a14dea5c278\n",
      "SecretStorage==3.3.3\n",
      "six @ file:///croot/six_1744271502820/work\n",
      "tabulate==0.9.0\n",
      "threadpoolctl @ file:///croot/threadpoolctl_1719407800858/work\n",
      "typing-inspection==0.4.0\n",
      "typing_extensions==4.13.2\n",
      "tzdata @ file:///croot/python-tzdata_1690578112552/work\n",
      "urllib3==2.4.0\n",
      "Werkzeug==3.1.3\n",
      "wrapt==1.16.0\n",
      "zipp==3.21.0\n",
      "\n",
      "2025-04-24T07:25:54,589716823+00:00 | gunicorn/run | \n",
      "2025-04-24T07:25:54,591783038+00:00 | gunicorn/run | Entry script directory: /var/azureml-app/.\n",
      "2025-04-24T07:25:54,601532009+00:00 | gunicorn/run | \n",
      "2025-04-24T07:25:54,607748154+00:00 | gunicorn/run | ###############################################\n",
      "2025-04-24T07:25:54,609353466+00:00 | gunicorn/run | Dynamic Python Package Installation\n",
      "2025-04-24T07:25:54,611076779+00:00 | gunicorn/run | ###############################################\n",
      "2025-04-24T07:25:54,619722342+00:00 | gunicorn/run | \n",
      "2025-04-24T07:25:54,625415784+00:00 | gunicorn/run | Dynamic Python package installation is disabled.\n",
      "2025-04-24T07:25:54,627265697+00:00 | gunicorn/run | \n",
      "2025-04-24T07:25:54,629777016+00:00 | gunicorn/run | ###############################################\n",
      "2025-04-24T07:25:54,635945961+00:00 | gunicorn/run | Checking if the Python package azureml-inference-server-http is installed\n",
      "2025-04-24T07:25:54,637683973+00:00 | gunicorn/run | ###############################################\n",
      "2025-04-24T07:25:54,639582287+00:00 | gunicorn/run | \n",
      "2025-04-24T07:25:55,906324155+00:00 | gunicorn/run | \n",
      "2025-04-24T07:25:55,908192169+00:00 | gunicorn/run | ###############################################\n",
      "2025-04-24T07:25:55,911322692+00:00 | gunicorn/run | AzureML Inference Server\n",
      "2025-04-24T07:25:55,916041326+00:00 | gunicorn/run | ###############################################\n",
      "2025-04-24T07:25:55,917682038+00:00 | gunicorn/run | \n",
      "2025-04-24T07:25:55,919213449+00:00 | gunicorn/run | Starting AzureML Inference Server HTTP.\n",
      "2025-04-24 07:25:56,436 I [74] azmlinfsrv - Loaded logging config from /azureml-envs/azureml_27eda9529773e8b6ef7dc4e79cd37e6f/lib/python3.9/site-packages/azureml_inference_server_http/logging.json\n",
      "2025-04-24 07:25:56,496 I [74] gunicorn.error - Starting gunicorn 23.0.0\n",
      "2025-04-24 07:25:56,499 I [74] gunicorn.error - Listening at: http://0.0.0.0:31311 (74)\n",
      "2025-04-24 07:25:56,500 I [74] gunicorn.error - Using worker: sync\n",
      "2025-04-24 07:25:56,505 I [147] gunicorn.error - Booting worker with pid: 147\n",
      "\n",
      "Azure ML Inferencing HTTP server v1.4.0\n",
      "\n",
      "\n",
      "Server Settings\n",
      "---------------\n",
      "Entry Script Name: /var/azureml-app/score.py\n",
      "Model Directory: /var/azureml-app/azureml-models/model2/1\n",
      "Config File: None\n",
      "Worker Count: 1\n",
      "Worker Timeout (seconds): 300\n",
      "Server Port: 31311\n",
      "Health Port: 31311\n",
      "Application Insights Enabled: false\n",
      "Application Insights Key: None\n",
      "Inferencing HTTP server version: azmlinfsrv/1.4.0\n",
      "CORS for the specified origins: None\n",
      "Create dedicated endpoint for health: None\n",
      "\n",
      "\n",
      "Server Routes\n",
      "---------------\n",
      "Liveness Probe: GET   127.0.0.1:31311/\n",
      "Score:          POST  127.0.0.1:31311/score\n",
      "\n",
      "2025-04-24 07:25:56,984 W [147] azmlinfsrv - Found extra keys in the config file that are not supported by the server.\n",
      "Extra keys = ['AZUREML_ENTRY_SCRIPT', 'SERVICE_NAME', 'WORKSPACE_NAME', 'SCORING_TIMEOUT_MS', 'AZUREML_MODEL_DIR', 'HOSTNAME']\n",
      "Initializing logger\n",
      "2025-04-24 07:25:57,816 I [147] azmlinfsrv - Starting up app insights client\n",
      "2025-04-24 07:26:03,477 I [147] azmlinfsrv.user_script - Found user script at /var/azureml-app/score.py\n",
      "2025-04-24 07:26:03,482 I [147] azmlinfsrv.user_script - run() is not decorated. Server will invoke it with the input in JSON string.\n",
      "2025-04-24 07:26:03,482 I [147] azmlinfsrv.user_script - Invoking user's init function\n",
      "2025-04-24 07:26:03,482 I [147] azmlinfsrv.print - [INFO] Loading model...\n",
      "2025-04-24 07:26:03,482 I [147] azmlinfsrv.print - [INFO] NumPy version: 1.23.5\n",
      "2025-04-24 07:26:03,482 I [147] azmlinfsrv.print - [INFO] Scikit-learn version: 1.4.2\n",
      "2025-04-24 07:26:03,483 I [147] azmlinfsrv.print - [INFO] Loading model from /var/azureml-app/azureml-models/model2/1/RandomForest_BestModel.pkl\n",
      "2025-04-24 07:26:04,034 I [147] azmlinfsrv.print - [INFO] Loaded model from /var/azureml-app/azureml-models/model2/1/RandomForest_BestModel.pkl!!\n",
      "2025-04-24 07:26:04,034 I [147] azmlinfsrv.print - [INFO] Model loaded successfully.\n",
      "2025-04-24 07:26:04,034 I [147] azmlinfsrv.user_script - Users's init has completed successfully\n",
      "2025-04-24 07:26:04,041 I [147] azmlinfsrv.swagger - Swaggers are prepared for the following versions: [2, 3, 3.1].\n",
      "2025-04-24 07:26:04,041 I [147] azmlinfsrv - Scoring timeout is set to 60000\n",
      "2025-04-24 07:26:04,042 I [147] azmlinfsrv - Worker with pid 147 ready for serving traffic\n",
      "2025-04-24 07:26:04,046 W [147] azmlinfsrv - x-ms-request-id header has been deprecated and will be removed from future versions of the server. Please use x-ms-client-request-id.\n",
      "2025-04-24 07:26:04,049 I [147] gunicorn.access - 127.0.0.1 - - [24/Apr/2025:07:26:04 +0000] \"GET / HTTP/1.0\" 200 7 \"-\" \"Go-http-client/1.1\"\n",
      "2025-04-24 07:26:04,054 W [147] azmlinfsrv - x-ms-request-id header has been deprecated and will be removed from future versions of the server. Please use x-ms-client-request-id.\n",
      "2025-04-24 07:26:04,057 I [147] azmlinfsrv - GET /swagger.json 200 2.559ms 2194\n",
      "2025-04-24 07:26:04,059 I [147] gunicorn.access - 127.0.0.1 - - [24/Apr/2025:07:26:04 +0000] \"GET /swagger.json HTTP/1.0\" 200 2194 \"-\" \"Go-http-client/1.1\"\n",
      "2025-04-24 07:26:12,675 W [147] azmlinfsrv - x-ms-request-id header has been deprecated and will be removed from future versions of the server. Please use x-ms-client-request-id.\n",
      "2025-04-24 07:26:12,677 I [147] gunicorn.access - 127.0.0.1 - - [24/Apr/2025:07:26:12 +0000] \"GET / HTTP/1.0\" 200 7 \"-\" \"Go-http-client/1.1\"\n",
      "2025-04-24 07:26:12,686 W [147] azmlinfsrv - x-ms-request-id header has been deprecated and will be removed from future versions of the server. Please use x-ms-client-request-id.\n",
      "2025-04-24 07:26:12,687 I [147] azmlinfsrv - GET /swagger.json 200 0.867ms 2194\n",
      "2025-04-24 07:26:12,688 I [147] gunicorn.access - 127.0.0.1 - - [24/Apr/2025:07:26:12 +0000] \"GET /swagger.json HTTP/1.0\" 200 2194 \"-\" \"Go-http-client/1.1\"\n",
      "2025-04-24 07:26:45,358 W [147] azmlinfsrv - x-ms-request-id header has been deprecated and will be removed from future versions of the server. Please use x-ms-client-request-id.\n",
      "2025-04-24 07:26:45,359 I [147] gunicorn.access - 127.0.0.1 - - [24/Apr/2025:07:26:45 +0000] \"GET / HTTP/1.0\" 200 7 \"-\" \"Mozilla/5.0 (Windows NT 10.0; Win64; x64) AppleWebKit/537.36 (KHTML, like Gecko) Chrome/90.0.4430.85 Safari/537.36 Edg/90.0.818.46\"\n",
      "2025-04-24 07:27:20,207 W [147] azmlinfsrv - x-ms-request-id header has been deprecated and will be removed from future versions of the server. Please use x-ms-client-request-id.\n",
      "2025-04-24 07:27:20,208 I [147] azmlinfsrv.print - [ERROR] Input JSON must contain a 'data' key.\n",
      "2025-04-24 07:27:20,211 I [147] azmlinfsrv - GET /score 200 4.094ms 64\n",
      "2025-04-24 07:27:20,213 I [147] gunicorn.access - 127.0.0.1 - - [24/Apr/2025:07:27:20 +0000] \"GET /score HTTP/1.0\" 200 64 \"-\" \"WhatsApp/2.2515.7 W\"\n",
      "\n"
     ]
    }
   ],
   "source": [
    "print(service.get_logs())"
   ]
  },
  {
   "cell_type": "code",
   "execution_count": 35,
   "id": "e356e61c",
   "metadata": {},
   "outputs": [],
   "source": [
    "import json\n",
    "\n",
    "scoring_uri = service.scoring_uri\n",
    "\n",
    "scoreuri = json.dumps({\"URI\": [scoring_uri]})\n",
    "file = open(\"uri.json\", \"w\")\n",
    "file.write(scoreuri)\n",
    "file.close()"
   ]
  }
 ],
 "metadata": {
  "kernelspec": {
   "display_name": ".venv",
   "language": "python",
   "name": "python3"
  },
  "language_info": {
   "codemirror_mode": {
    "name": "ipython",
    "version": 3
   },
   "file_extension": ".py",
   "mimetype": "text/x-python",
   "name": "python",
   "nbconvert_exporter": "python",
   "pygments_lexer": "ipython3",
   "version": "3.11.9"
  }
 },
 "nbformat": 4,
 "nbformat_minor": 5
}
